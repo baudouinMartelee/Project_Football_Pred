{
 "cells": [
  {
   "cell_type": "markdown",
   "metadata": {},
   "source": [
    "# Introduction du projet Footbal match predictor\n",
    "\n",
    "Pour ce projet, nous avons comme devoir de prédire des résultats de matchs de football à venir (ou passés ) sur base des performances passées des équipes, et de leurs joueurs. \n",
    "\n",
    "Pour ce faire, on dispose d’une immense base de données de résultats de matches collectés durant 8 ans. Elle contient plus de 25000  matches et plus de 10000 joueurs.\n",
    "\n",
    "Il est de notre devoir de fetcher,nettoyer, préparer les données mais aussi d'entrainer un modèle et d'évaluer ce modèle.\n",
    "\n"
   ]
  },
  {
   "cell_type": "markdown",
   "metadata": {},
   "source": [
    "# Data Fetching"
   ]
  },
  {
   "cell_type": "markdown",
   "metadata": {},
   "source": [
    "La première étape du projet est de **FETCHER** les données. \n",
    "\n",
    "Dans un premier temps, nous allons récupérer les données se trouvant sur Kaggle. La base de données est une base de donnée .sqlite . Nous avons utilisé un script permettant d'extraire les différentes tables de cette base de données sous forme CSV.\n",
    "\n",
    "La deuxième étape étant d'observer les différentes features et d'extraire les corrélations des features entre elles."
   ]
  },
  {
   "cell_type": "markdown",
   "metadata": {},
   "source": [
    "### Nous récuperons les données à partir du fichier sqlite et on créeons un fichier csv distincts pour chaque table présente dans la base de donnéees"
   ]
  },
  {
   "cell_type": "code",
   "execution_count": 1,
   "metadata": {
    "scrolled": true
   },
   "outputs": [],
   "source": [
    "#IMPORTS\n",
    "import sqlite3\n",
    "import pandas as pd\n",
    "#Enlever les warnings\n",
    "import warnings\n",
    "warnings.simplefilter(\"ignore\")\n",
    "\n",
    "#DATA FETCHING\n",
    "dat = sqlite3.connect('../database/database.sqlite')\n",
    "\n",
    "table = [\"Country\", \"League\", \"X_Train\", \"X_Test\",\"Player\", \"Player_Attributes\",\n",
    "         \"Team\", \"Team_Attributes\"]\n",
    "\n",
    "csv = {}\n",
    "\n",
    "for name in table:\n",
    "    query = dat.execute(\"SELECT * From \" + name)\n",
    "    cols = [column[0] for column in query.description]\n",
    "    results = pd.DataFrame.from_records(data=query.fetchall(), columns=cols)\n",
    "    results.to_csv(r'../csv/'+name+'.csv')\n"
   ]
  },
  {
   "cell_type": "markdown",
   "metadata": {},
   "source": [
    "### Transformation des fichiers csv en dataframes"
   ]
  },
  {
   "cell_type": "code",
   "execution_count": 2,
   "metadata": {
    "scrolled": true
   },
   "outputs": [],
   "source": [
    "matchsTrain = pd.read_csv('../csv/X_Train.csv')\n",
    "matchsTest = pd.read_csv('../csv/X_Test.csv')\n",
    "players = pd.read_csv('../csv/Player.csv')\n",
    "teams = pd.read_csv('../csv/Team.csv')\n",
    "team_attr = pd.read_csv('../csv/Team_Attributes.csv')\n",
    "player_attr = pd.read_csv('../csv/Player_Attributes.csv')\n",
    "countries = pd.read_csv('../csv/Country.csv')\n",
    "leagues = pd.read_csv('../csv/League.csv')"
   ]
  },
  {
   "cell_type": "markdown",
   "metadata": {},
   "source": [
    "## Exploration des données"
   ]
  },
  {
   "cell_type": "markdown",
   "metadata": {},
   "source": [
    "#### Exploration du train set"
   ]
  },
  {
   "cell_type": "markdown",
   "metadata": {},
   "source": [
    "Informations importantes à propos du training set: \n",
    "- les colonnes home/away_player_XY représentent les coordonnées des X,Y des joueurs sur le terrain\n",
    "- les colonnes home/away_player_i où 1<i<11 représentent l'api id des joueurs"
   ]
  },
  {
   "cell_type": "markdown",
   "metadata": {},
   "source": [
    "Informations sur les colonnes du dataframes comme le nombre d'éléments non null et le type de données de la colonne"
   ]
  },
  {
   "cell_type": "code",
   "execution_count": 3,
   "metadata": {
    "scrolled": false
   },
   "outputs": [
    {
     "name": "stdout",
     "output_type": "stream",
     "text": [
      "<class 'pandas.core.frame.DataFrame'>\n",
      "RangeIndex: 20479 entries, 0 to 20478\n",
      "Data columns (total 79 columns):\n",
      "Unnamed: 0          20479 non-null int64\n",
      "index               20479 non-null int64\n",
      "id                  20479 non-null int64\n",
      "country_id          20479 non-null int64\n",
      "league_id           20479 non-null int64\n",
      "season              20479 non-null object\n",
      "stage               20479 non-null int64\n",
      "date                20479 non-null object\n",
      "match_api_id        20479 non-null int64\n",
      "home_team_api_id    20479 non-null int64\n",
      "away_team_api_id    20479 non-null int64\n",
      "home_team_goal      20479 non-null int64\n",
      "away_team_goal      20479 non-null int64\n",
      "home_player_X1      19033 non-null float64\n",
      "home_player_X2      19033 non-null float64\n",
      "home_player_X3      19025 non-null float64\n",
      "home_player_X4      19025 non-null float64\n",
      "home_player_X5      19025 non-null float64\n",
      "home_player_X6      19025 non-null float64\n",
      "home_player_X7      19025 non-null float64\n",
      "home_player_X8      19025 non-null float64\n",
      "home_player_X9      19025 non-null float64\n",
      "home_player_X10     19025 non-null float64\n",
      "home_player_X11     19025 non-null float64\n",
      "away_player_X1      19025 non-null float64\n",
      "away_player_X2      19025 non-null float64\n",
      "away_player_X3      19025 non-null float64\n",
      "away_player_X4      19025 non-null float64\n",
      "away_player_X5      19025 non-null float64\n",
      "away_player_X6      19025 non-null float64\n",
      "away_player_X7      19025 non-null float64\n",
      "away_player_X8      19025 non-null float64\n",
      "away_player_X9      19024 non-null float64\n",
      "away_player_X10     19024 non-null float64\n",
      "away_player_X11     19019 non-null float64\n",
      "home_player_Y1      19033 non-null float64\n",
      "home_player_Y2      19033 non-null float64\n",
      "home_player_Y3      19025 non-null float64\n",
      "home_player_Y4      19025 non-null float64\n",
      "home_player_Y5      19025 non-null float64\n",
      "home_player_Y6      19025 non-null float64\n",
      "home_player_Y7      19025 non-null float64\n",
      "home_player_Y8      19025 non-null float64\n",
      "home_player_Y9      19025 non-null float64\n",
      "home_player_Y10     19025 non-null float64\n",
      "home_player_Y11     19025 non-null float64\n",
      "away_player_Y1      19025 non-null float64\n",
      "away_player_Y2      19025 non-null float64\n",
      "away_player_Y3      19025 non-null float64\n",
      "away_player_Y4      19025 non-null float64\n",
      "away_player_Y5      19025 non-null float64\n",
      "away_player_Y6      19025 non-null float64\n",
      "away_player_Y7      19025 non-null float64\n",
      "away_player_Y8      19025 non-null float64\n",
      "away_player_Y9      19024 non-null float64\n",
      "away_player_Y10     19024 non-null float64\n",
      "away_player_Y11     19019 non-null float64\n",
      "home_player_1       19513 non-null float64\n",
      "home_player_2       19442 non-null float64\n",
      "home_player_3       19466 non-null float64\n",
      "home_player_4       19425 non-null float64\n",
      "home_player_5       19444 non-null float64\n",
      "home_player_6       19417 non-null float64\n",
      "home_player_7       19520 non-null float64\n",
      "home_player_8       19448 non-null float64\n",
      "home_player_9       19465 non-null float64\n",
      "home_player_10      19342 non-null float64\n",
      "home_player_11      19232 non-null float64\n",
      "away_player_1       19495 non-null float64\n",
      "away_player_2       19460 non-null float64\n",
      "away_player_3       19439 non-null float64\n",
      "away_player_4       19448 non-null float64\n",
      "away_player_5       19425 non-null float64\n",
      "away_player_6       19430 non-null float64\n",
      "away_player_7       19498 non-null float64\n",
      "away_player_8       19409 non-null float64\n",
      "away_player_9       19433 non-null float64\n",
      "away_player_10      19348 non-null float64\n",
      "away_player_11      19264 non-null float64\n",
      "dtypes: float64(66), int64(11), object(2)\n",
      "memory usage: 12.3+ MB\n"
     ]
    }
   ],
   "source": [
    "matchsTrain.info()"
   ]
  },
  {
   "cell_type": "markdown",
   "metadata": {},
   "source": [
    "Ici on peut voir des descriptions statistiques sur les colonnes du dataframe"
   ]
  },
  {
   "cell_type": "code",
   "execution_count": 4,
   "metadata": {
    "scrolled": true
   },
   "outputs": [
    {
     "data": {
      "text/html": [
       "<div>\n",
       "<style scoped>\n",
       "    .dataframe tbody tr th:only-of-type {\n",
       "        vertical-align: middle;\n",
       "    }\n",
       "\n",
       "    .dataframe tbody tr th {\n",
       "        vertical-align: top;\n",
       "    }\n",
       "\n",
       "    .dataframe thead th {\n",
       "        text-align: right;\n",
       "    }\n",
       "</style>\n",
       "<table border=\"1\" class=\"dataframe\">\n",
       "  <thead>\n",
       "    <tr style=\"text-align: right;\">\n",
       "      <th></th>\n",
       "      <th>Unnamed: 0</th>\n",
       "      <th>index</th>\n",
       "      <th>id</th>\n",
       "      <th>country_id</th>\n",
       "      <th>league_id</th>\n",
       "      <th>stage</th>\n",
       "      <th>match_api_id</th>\n",
       "      <th>home_team_api_id</th>\n",
       "      <th>away_team_api_id</th>\n",
       "      <th>home_team_goal</th>\n",
       "      <th>...</th>\n",
       "      <th>away_player_2</th>\n",
       "      <th>away_player_3</th>\n",
       "      <th>away_player_4</th>\n",
       "      <th>away_player_5</th>\n",
       "      <th>away_player_6</th>\n",
       "      <th>away_player_7</th>\n",
       "      <th>away_player_8</th>\n",
       "      <th>away_player_9</th>\n",
       "      <th>away_player_10</th>\n",
       "      <th>away_player_11</th>\n",
       "    </tr>\n",
       "  </thead>\n",
       "  <tbody>\n",
       "    <tr>\n",
       "      <th>count</th>\n",
       "      <td>20479.000000</td>\n",
       "      <td>20479.000000</td>\n",
       "      <td>20479.0000</td>\n",
       "      <td>20479.000000</td>\n",
       "      <td>20479.000000</td>\n",
       "      <td>20479.000000</td>\n",
       "      <td>2.047900e+04</td>\n",
       "      <td>20479.000000</td>\n",
       "      <td>20479.000000</td>\n",
       "      <td>20479.000000</td>\n",
       "      <td>...</td>\n",
       "      <td>19460.000000</td>\n",
       "      <td>19439.000000</td>\n",
       "      <td>19448.000000</td>\n",
       "      <td>19425.000000</td>\n",
       "      <td>19430.000000</td>\n",
       "      <td>19498.000000</td>\n",
       "      <td>19409.000000</td>\n",
       "      <td>19433.000000</td>\n",
       "      <td>19348.000000</td>\n",
       "      <td>19264.000000</td>\n",
       "    </tr>\n",
       "    <tr>\n",
       "      <th>mean</th>\n",
       "      <td>10239.000000</td>\n",
       "      <td>10239.000000</td>\n",
       "      <td>13018.8497</td>\n",
       "      <td>11766.815177</td>\n",
       "      <td>11766.815177</td>\n",
       "      <td>18.224132</td>\n",
       "      <td>1.196640e+06</td>\n",
       "      <td>9903.388105</td>\n",
       "      <td>10035.218272</td>\n",
       "      <td>1.538454</td>\n",
       "      <td>...</td>\n",
       "      <td>107215.875231</td>\n",
       "      <td>91067.257729</td>\n",
       "      <td>94952.167935</td>\n",
       "      <td>109937.905071</td>\n",
       "      <td>102434.662120</td>\n",
       "      <td>98161.155247</td>\n",
       "      <td>110213.809418</td>\n",
       "      <td>110629.648948</td>\n",
       "      <td>106639.449245</td>\n",
       "      <td>105447.734064</td>\n",
       "    </tr>\n",
       "    <tr>\n",
       "      <th>std</th>\n",
       "      <td>5911.922417</td>\n",
       "      <td>5911.922417</td>\n",
       "      <td>7492.2651</td>\n",
       "      <td>7551.399825</td>\n",
       "      <td>7551.399825</td>\n",
       "      <td>10.398607</td>\n",
       "      <td>4.950166e+05</td>\n",
       "      <td>13529.090615</td>\n",
       "      <td>14554.860615</td>\n",
       "      <td>1.296081</td>\n",
       "      <td>...</td>\n",
       "      <td>113465.530366</td>\n",
       "      <td>101884.382600</td>\n",
       "      <td>103884.329333</td>\n",
       "      <td>112726.177016</td>\n",
       "      <td>111247.146676</td>\n",
       "      <td>107130.925346</td>\n",
       "      <td>117246.374813</td>\n",
       "      <td>116002.144951</td>\n",
       "      <td>112511.966589</td>\n",
       "      <td>110469.160375</td>\n",
       "    </tr>\n",
       "    <tr>\n",
       "      <th>min</th>\n",
       "      <td>0.000000</td>\n",
       "      <td>0.000000</td>\n",
       "      <td>2.0000</td>\n",
       "      <td>1.000000</td>\n",
       "      <td>1.000000</td>\n",
       "      <td>1.000000</td>\n",
       "      <td>4.831290e+05</td>\n",
       "      <td>1601.000000</td>\n",
       "      <td>1601.000000</td>\n",
       "      <td>0.000000</td>\n",
       "      <td>...</td>\n",
       "      <td>2790.000000</td>\n",
       "      <td>2752.000000</td>\n",
       "      <td>2752.000000</td>\n",
       "      <td>2790.000000</td>\n",
       "      <td>2625.000000</td>\n",
       "      <td>2625.000000</td>\n",
       "      <td>2625.000000</td>\n",
       "      <td>2625.000000</td>\n",
       "      <td>2802.000000</td>\n",
       "      <td>2802.000000</td>\n",
       "    </tr>\n",
       "    <tr>\n",
       "      <th>25%</th>\n",
       "      <td>5119.500000</td>\n",
       "      <td>5119.500000</td>\n",
       "      <td>6540.5000</td>\n",
       "      <td>4769.000000</td>\n",
       "      <td>4769.000000</td>\n",
       "      <td>9.000000</td>\n",
       "      <td>7.684365e+05</td>\n",
       "      <td>8481.000000</td>\n",
       "      <td>8472.000000</td>\n",
       "      <td>1.000000</td>\n",
       "      <td>...</td>\n",
       "      <td>32574.000000</td>\n",
       "      <td>30464.000000</td>\n",
       "      <td>30617.000000</td>\n",
       "      <td>33579.000000</td>\n",
       "      <td>31058.000000</td>\n",
       "      <td>30930.000000</td>\n",
       "      <td>32836.000000</td>\n",
       "      <td>33421.000000</td>\n",
       "      <td>32572.000000</td>\n",
       "      <td>32748.000000</td>\n",
       "    </tr>\n",
       "    <tr>\n",
       "      <th>50%</th>\n",
       "      <td>10239.000000</td>\n",
       "      <td>10239.000000</td>\n",
       "      <td>13027.0000</td>\n",
       "      <td>10257.000000</td>\n",
       "      <td>10257.000000</td>\n",
       "      <td>18.000000</td>\n",
       "      <td>1.189713e+06</td>\n",
       "      <td>8697.000000</td>\n",
       "      <td>8696.000000</td>\n",
       "      <td>1.000000</td>\n",
       "      <td>...</td>\n",
       "      <td>42388.000000</td>\n",
       "      <td>39892.000000</td>\n",
       "      <td>41062.000000</td>\n",
       "      <td>46297.000000</td>\n",
       "      <td>41659.000000</td>\n",
       "      <td>41603.500000</td>\n",
       "      <td>46104.000000</td>\n",
       "      <td>45860.000000</td>\n",
       "      <td>45174.000000</td>\n",
       "      <td>43097.000000</td>\n",
       "    </tr>\n",
       "    <tr>\n",
       "      <th>75%</th>\n",
       "      <td>15358.500000</td>\n",
       "      <td>15358.500000</td>\n",
       "      <td>19485.5000</td>\n",
       "      <td>17642.000000</td>\n",
       "      <td>17642.000000</td>\n",
       "      <td>27.000000</td>\n",
       "      <td>1.709904e+06</td>\n",
       "      <td>9925.000000</td>\n",
       "      <td>9911.000000</td>\n",
       "      <td>2.000000</td>\n",
       "      <td>...</td>\n",
       "      <td>159854.000000</td>\n",
       "      <td>119007.000000</td>\n",
       "      <td>145561.000000</td>\n",
       "      <td>160243.000000</td>\n",
       "      <td>151079.000000</td>\n",
       "      <td>145538.000000</td>\n",
       "      <td>164031.000000</td>\n",
       "      <td>164089.000000</td>\n",
       "      <td>160194.000000</td>\n",
       "      <td>163205.000000</td>\n",
       "    </tr>\n",
       "    <tr>\n",
       "      <th>max</th>\n",
       "      <td>20478.000000</td>\n",
       "      <td>20478.000000</td>\n",
       "      <td>25979.0000</td>\n",
       "      <td>24558.000000</td>\n",
       "      <td>24558.000000</td>\n",
       "      <td>38.000000</td>\n",
       "      <td>2.216672e+06</td>\n",
       "      <td>274581.000000</td>\n",
       "      <td>274581.000000</td>\n",
       "      <td>10.000000</td>\n",
       "      <td>...</td>\n",
       "      <td>748432.000000</td>\n",
       "      <td>705484.000000</td>\n",
       "      <td>728414.000000</td>\n",
       "      <td>746419.000000</td>\n",
       "      <td>722766.000000</td>\n",
       "      <td>750435.000000</td>\n",
       "      <td>717248.000000</td>\n",
       "      <td>722766.000000</td>\n",
       "      <td>722766.000000</td>\n",
       "      <td>726956.000000</td>\n",
       "    </tr>\n",
       "  </tbody>\n",
       "</table>\n",
       "<p>8 rows × 77 columns</p>\n",
       "</div>"
      ],
      "text/plain": [
       "         Unnamed: 0         index          id    country_id     league_id  \\\n",
       "count  20479.000000  20479.000000  20479.0000  20479.000000  20479.000000   \n",
       "mean   10239.000000  10239.000000  13018.8497  11766.815177  11766.815177   \n",
       "std     5911.922417   5911.922417   7492.2651   7551.399825   7551.399825   \n",
       "min        0.000000      0.000000      2.0000      1.000000      1.000000   \n",
       "25%     5119.500000   5119.500000   6540.5000   4769.000000   4769.000000   \n",
       "50%    10239.000000  10239.000000  13027.0000  10257.000000  10257.000000   \n",
       "75%    15358.500000  15358.500000  19485.5000  17642.000000  17642.000000   \n",
       "max    20478.000000  20478.000000  25979.0000  24558.000000  24558.000000   \n",
       "\n",
       "              stage  match_api_id  home_team_api_id  away_team_api_id  \\\n",
       "count  20479.000000  2.047900e+04      20479.000000      20479.000000   \n",
       "mean      18.224132  1.196640e+06       9903.388105      10035.218272   \n",
       "std       10.398607  4.950166e+05      13529.090615      14554.860615   \n",
       "min        1.000000  4.831290e+05       1601.000000       1601.000000   \n",
       "25%        9.000000  7.684365e+05       8481.000000       8472.000000   \n",
       "50%       18.000000  1.189713e+06       8697.000000       8696.000000   \n",
       "75%       27.000000  1.709904e+06       9925.000000       9911.000000   \n",
       "max       38.000000  2.216672e+06     274581.000000     274581.000000   \n",
       "\n",
       "       home_team_goal  ...  away_player_2  away_player_3  away_player_4  \\\n",
       "count    20479.000000  ...   19460.000000   19439.000000   19448.000000   \n",
       "mean         1.538454  ...  107215.875231   91067.257729   94952.167935   \n",
       "std          1.296081  ...  113465.530366  101884.382600  103884.329333   \n",
       "min          0.000000  ...    2790.000000    2752.000000    2752.000000   \n",
       "25%          1.000000  ...   32574.000000   30464.000000   30617.000000   \n",
       "50%          1.000000  ...   42388.000000   39892.000000   41062.000000   \n",
       "75%          2.000000  ...  159854.000000  119007.000000  145561.000000   \n",
       "max         10.000000  ...  748432.000000  705484.000000  728414.000000   \n",
       "\n",
       "       away_player_5  away_player_6  away_player_7  away_player_8  \\\n",
       "count   19425.000000   19430.000000   19498.000000   19409.000000   \n",
       "mean   109937.905071  102434.662120   98161.155247  110213.809418   \n",
       "std    112726.177016  111247.146676  107130.925346  117246.374813   \n",
       "min      2790.000000    2625.000000    2625.000000    2625.000000   \n",
       "25%     33579.000000   31058.000000   30930.000000   32836.000000   \n",
       "50%     46297.000000   41659.000000   41603.500000   46104.000000   \n",
       "75%    160243.000000  151079.000000  145538.000000  164031.000000   \n",
       "max    746419.000000  722766.000000  750435.000000  717248.000000   \n",
       "\n",
       "       away_player_9  away_player_10  away_player_11  \n",
       "count   19433.000000    19348.000000    19264.000000  \n",
       "mean   110629.648948   106639.449245   105447.734064  \n",
       "std    116002.144951   112511.966589   110469.160375  \n",
       "min      2625.000000     2802.000000     2802.000000  \n",
       "25%     33421.000000    32572.000000    32748.000000  \n",
       "50%     45860.000000    45174.000000    43097.000000  \n",
       "75%    164089.000000   160194.000000   163205.000000  \n",
       "max    722766.000000   722766.000000   726956.000000  \n",
       "\n",
       "[8 rows x 77 columns]"
      ]
     },
     "execution_count": 4,
     "metadata": {},
     "output_type": "execute_result"
    }
   ],
   "source": [
    "matchsTrain.describe()"
   ]
  },
  {
   "cell_type": "markdown",
   "metadata": {},
   "source": [
    "On peut voir ici les 5 premières lignes du dataframe pour avoir une idée générale de celui-ci"
   ]
  },
  {
   "cell_type": "code",
   "execution_count": 5,
   "metadata": {
    "scrolled": true
   },
   "outputs": [
    {
     "data": {
      "text/html": [
       "<div>\n",
       "<style scoped>\n",
       "    .dataframe tbody tr th:only-of-type {\n",
       "        vertical-align: middle;\n",
       "    }\n",
       "\n",
       "    .dataframe tbody tr th {\n",
       "        vertical-align: top;\n",
       "    }\n",
       "\n",
       "    .dataframe thead th {\n",
       "        text-align: right;\n",
       "    }\n",
       "</style>\n",
       "<table border=\"1\" class=\"dataframe\">\n",
       "  <thead>\n",
       "    <tr style=\"text-align: right;\">\n",
       "      <th></th>\n",
       "      <th>Unnamed: 0</th>\n",
       "      <th>index</th>\n",
       "      <th>id</th>\n",
       "      <th>country_id</th>\n",
       "      <th>league_id</th>\n",
       "      <th>season</th>\n",
       "      <th>stage</th>\n",
       "      <th>date</th>\n",
       "      <th>match_api_id</th>\n",
       "      <th>home_team_api_id</th>\n",
       "      <th>...</th>\n",
       "      <th>away_player_2</th>\n",
       "      <th>away_player_3</th>\n",
       "      <th>away_player_4</th>\n",
       "      <th>away_player_5</th>\n",
       "      <th>away_player_6</th>\n",
       "      <th>away_player_7</th>\n",
       "      <th>away_player_8</th>\n",
       "      <th>away_player_9</th>\n",
       "      <th>away_player_10</th>\n",
       "      <th>away_player_11</th>\n",
       "    </tr>\n",
       "  </thead>\n",
       "  <tbody>\n",
       "    <tr>\n",
       "      <th>0</th>\n",
       "      <td>0</td>\n",
       "      <td>0</td>\n",
       "      <td>11103</td>\n",
       "      <td>10257</td>\n",
       "      <td>10257</td>\n",
       "      <td>2010/2011</td>\n",
       "      <td>17</td>\n",
       "      <td>2010-12-19 00:00:00</td>\n",
       "      <td>888326</td>\n",
       "      <td>8533</td>\n",
       "      <td>...</td>\n",
       "      <td>231753.0</td>\n",
       "      <td>24235.0</td>\n",
       "      <td>41884.0</td>\n",
       "      <td>34320.0</td>\n",
       "      <td>31314.0</td>\n",
       "      <td>192574.0</td>\n",
       "      <td>27694.0</td>\n",
       "      <td>39232.0</td>\n",
       "      <td>30712.0</td>\n",
       "      <td>39540.0</td>\n",
       "    </tr>\n",
       "    <tr>\n",
       "      <th>1</th>\n",
       "      <td>1</td>\n",
       "      <td>1</td>\n",
       "      <td>16167</td>\n",
       "      <td>15722</td>\n",
       "      <td>15722</td>\n",
       "      <td>2009/2010</td>\n",
       "      <td>5</td>\n",
       "      <td>2009-08-29 00:00:00</td>\n",
       "      <td>673737</td>\n",
       "      <td>8245</td>\n",
       "      <td>...</td>\n",
       "      <td>13515.0</td>\n",
       "      <td>13533.0</td>\n",
       "      <td>69261.0</td>\n",
       "      <td>NaN</td>\n",
       "      <td>69599.0</td>\n",
       "      <td>NaN</td>\n",
       "      <td>NaN</td>\n",
       "      <td>NaN</td>\n",
       "      <td>NaN</td>\n",
       "      <td>NaN</td>\n",
       "    </tr>\n",
       "    <tr>\n",
       "      <th>2</th>\n",
       "      <td>2</td>\n",
       "      <td>2</td>\n",
       "      <td>11222</td>\n",
       "      <td>10257</td>\n",
       "      <td>10257</td>\n",
       "      <td>2010/2011</td>\n",
       "      <td>28</td>\n",
       "      <td>2011-03-06 00:00:00</td>\n",
       "      <td>888435</td>\n",
       "      <td>9882</td>\n",
       "      <td>...</td>\n",
       "      <td>150466.0</td>\n",
       "      <td>18500.0</td>\n",
       "      <td>25815.0</td>\n",
       "      <td>41380.0</td>\n",
       "      <td>39701.0</td>\n",
       "      <td>39264.0</td>\n",
       "      <td>73999.0</td>\n",
       "      <td>167634.0</td>\n",
       "      <td>39306.0</td>\n",
       "      <td>96598.0</td>\n",
       "    </tr>\n",
       "    <tr>\n",
       "      <th>3</th>\n",
       "      <td>3</td>\n",
       "      <td>3</td>\n",
       "      <td>11018</td>\n",
       "      <td>10257</td>\n",
       "      <td>10257</td>\n",
       "      <td>2010/2011</td>\n",
       "      <td>1</td>\n",
       "      <td>2010-08-29 00:00:00</td>\n",
       "      <td>888161</td>\n",
       "      <td>9976</td>\n",
       "      <td>...</td>\n",
       "      <td>27720.0</td>\n",
       "      <td>24235.0</td>\n",
       "      <td>41884.0</td>\n",
       "      <td>41892.0</td>\n",
       "      <td>31314.0</td>\n",
       "      <td>33888.0</td>\n",
       "      <td>41890.0</td>\n",
       "      <td>39232.0</td>\n",
       "      <td>30727.0</td>\n",
       "      <td>39540.0</td>\n",
       "    </tr>\n",
       "    <tr>\n",
       "      <th>4</th>\n",
       "      <td>4</td>\n",
       "      <td>4</td>\n",
       "      <td>25596</td>\n",
       "      <td>24558</td>\n",
       "      <td>24558</td>\n",
       "      <td>2013/2014</td>\n",
       "      <td>5</td>\n",
       "      <td>2013-08-10 00:00:00</td>\n",
       "      <td>1471657</td>\n",
       "      <td>9930</td>\n",
       "      <td>...</td>\n",
       "      <td>67349.0</td>\n",
       "      <td>16254.0</td>\n",
       "      <td>25815.0</td>\n",
       "      <td>25843.0</td>\n",
       "      <td>93223.0</td>\n",
       "      <td>113227.0</td>\n",
       "      <td>302079.0</td>\n",
       "      <td>30912.0</td>\n",
       "      <td>25860.0</td>\n",
       "      <td>71764.0</td>\n",
       "    </tr>\n",
       "  </tbody>\n",
       "</table>\n",
       "<p>5 rows × 79 columns</p>\n",
       "</div>"
      ],
      "text/plain": [
       "   Unnamed: 0  index     id  country_id  league_id     season  stage  \\\n",
       "0           0      0  11103       10257      10257  2010/2011     17   \n",
       "1           1      1  16167       15722      15722  2009/2010      5   \n",
       "2           2      2  11222       10257      10257  2010/2011     28   \n",
       "3           3      3  11018       10257      10257  2010/2011      1   \n",
       "4           4      4  25596       24558      24558  2013/2014      5   \n",
       "\n",
       "                  date  match_api_id  home_team_api_id  ...  away_player_2  \\\n",
       "0  2010-12-19 00:00:00        888326              8533  ...       231753.0   \n",
       "1  2009-08-29 00:00:00        673737              8245  ...        13515.0   \n",
       "2  2011-03-06 00:00:00        888435              9882  ...       150466.0   \n",
       "3  2010-08-29 00:00:00        888161              9976  ...        27720.0   \n",
       "4  2013-08-10 00:00:00       1471657              9930  ...        67349.0   \n",
       "\n",
       "   away_player_3  away_player_4  away_player_5  away_player_6  away_player_7  \\\n",
       "0        24235.0        41884.0        34320.0        31314.0       192574.0   \n",
       "1        13533.0        69261.0            NaN        69599.0            NaN   \n",
       "2        18500.0        25815.0        41380.0        39701.0        39264.0   \n",
       "3        24235.0        41884.0        41892.0        31314.0        33888.0   \n",
       "4        16254.0        25815.0        25843.0        93223.0       113227.0   \n",
       "\n",
       "   away_player_8  away_player_9  away_player_10  away_player_11  \n",
       "0        27694.0        39232.0         30712.0         39540.0  \n",
       "1            NaN            NaN             NaN             NaN  \n",
       "2        73999.0       167634.0         39306.0         96598.0  \n",
       "3        41890.0        39232.0         30727.0         39540.0  \n",
       "4       302079.0        30912.0         25860.0         71764.0  \n",
       "\n",
       "[5 rows x 79 columns]"
      ]
     },
     "execution_count": 5,
     "metadata": {},
     "output_type": "execute_result"
    }
   ],
   "source": [
    "matchsTrain.head()"
   ]
  },
  {
   "cell_type": "markdown",
   "metadata": {},
   "source": [
    "L'api id représente l'id sur lequel on pourra faire un \"merge\" du training set avec d'autres tables tels que Player Attributs, Team Attributs,..."
   ]
  },
  {
   "cell_type": "markdown",
   "metadata": {},
   "source": [
    "### Conclusions : \n",
    "- En inspectant les premieres lignes du dataframe , on peut s'apercevoir que tous les matchs sont joués entre équipes d'un même championnat (pas de matchs internationaux ni championnat europeen). Nous n'allons donc pas utiliser les tables Country et League\n"
   ]
  },
  {
   "cell_type": "markdown",
   "metadata": {},
   "source": [
    "## Injection des attributs des differentes tables dans le training set (Visualisation des correlations entre differents attributs des differentes tables)"
   ]
  },
  {
   "cell_type": "markdown",
   "metadata": {},
   "source": [
    "### Ajout du label"
   ]
  },
  {
   "cell_type": "markdown",
   "metadata": {},
   "source": [
    "Nous allons déterminer le label que l'on veut prédire par la suite. C'est à dire le résultat final du match (1: équipe à domicile gagne, 0 : égalité, -1 : équipe à l'extérieur gagne)"
   ]
  },
  {
   "cell_type": "code",
   "execution_count": 6,
   "metadata": {
    "scrolled": true
   },
   "outputs": [],
   "source": [
    "def det_label(score1, score2):\n",
    "    if(score1 == score2):\n",
    "        return 0\n",
    "    if(score1 < score2):\n",
    "        return -1\n",
    "    else:\n",
    "        return 1\n"
   ]
  },
  {
   "cell_type": "code",
   "execution_count": 7,
   "metadata": {
    "scrolled": true
   },
   "outputs": [],
   "source": [
    "#On va travailler sur une copie du training set\n",
    "matchsTrainCopy = matchsTrain.copy()\n",
    "matchsTrainCopy['label'] = matchsTrainCopy.apply(lambda row: det_label(\n",
    "    row['home_team_goal'], row['away_team_goal']), axis=1)"
   ]
  },
  {
   "cell_type": "code",
   "execution_count": 8,
   "metadata": {},
   "outputs": [],
   "source": [
    "#Nous supprimons les scores car ils nous plus utils\n",
    "matchsTrainCopy = matchsTrainCopy.drop(['away_team_goal', 'home_team_goal'], axis=1)"
   ]
  },
  {
   "cell_type": "markdown",
   "metadata": {},
   "source": [
    "Nous allons voir la dispersion de nos valeurs pour le label"
   ]
  },
  {
   "cell_type": "code",
   "execution_count": 9,
   "metadata": {
    "scrolled": true
   },
   "outputs": [
    {
     "data": {
      "text/plain": [
       " 1    9367\n",
       "-1    5939\n",
       " 0    5173\n",
       "Name: label, dtype: int64"
      ]
     },
     "execution_count": 9,
     "metadata": {},
     "output_type": "execute_result"
    }
   ],
   "source": [
    "matchsTrainCopy['label'].value_counts()"
   ]
  },
  {
   "cell_type": "markdown",
   "metadata": {},
   "source": [
    "Nous pouvons voir que l'équipe jouant à domicile gagne dans un peu moins de 50% des cas"
   ]
  },
  {
   "cell_type": "markdown",
   "metadata": {},
   "source": [
    "### Exploration des attributes des équipes"
   ]
  },
  {
   "cell_type": "markdown",
   "metadata": {},
   "source": [
    "Pour mieux visualiser les attributs liés aux équipes nous allons drop les attributs liés aux joueurs"
   ]
  },
  {
   "cell_type": "code",
   "execution_count": 10,
   "metadata": {
    "scrolled": true
   },
   "outputs": [],
   "source": [
    "matchsTrainCopy.drop(matchsTrainCopy.select(lambda col: col.startswith('home_player'), axis=1), axis=1, inplace=True)\n",
    "matchsTrainCopy.drop(matchsTrainCopy.select(lambda col: col.startswith('away_player'), axis=1), axis=1, inplace=True)"
   ]
  },
  {
   "cell_type": "code",
   "execution_count": 11,
   "metadata": {
    "scrolled": true
   },
   "outputs": [
    {
     "name": "stdout",
     "output_type": "stream",
     "text": [
      "<class 'pandas.core.frame.DataFrame'>\n",
      "RangeIndex: 20479 entries, 0 to 20478\n",
      "Data columns (total 12 columns):\n",
      "Unnamed: 0          20479 non-null int64\n",
      "index               20479 non-null int64\n",
      "id                  20479 non-null int64\n",
      "country_id          20479 non-null int64\n",
      "league_id           20479 non-null int64\n",
      "season              20479 non-null object\n",
      "stage               20479 non-null int64\n",
      "date                20479 non-null object\n",
      "match_api_id        20479 non-null int64\n",
      "home_team_api_id    20479 non-null int64\n",
      "away_team_api_id    20479 non-null int64\n",
      "label               20479 non-null int64\n",
      "dtypes: int64(10), object(2)\n",
      "memory usage: 1.9+ MB\n"
     ]
    }
   ],
   "source": [
    "matchsTrainCopy.info()"
   ]
  },
  {
   "cell_type": "markdown",
   "metadata": {},
   "source": [
    "### Merge du training set avec le team attributes pour voir quelles colonnes sont interessantes à extraire"
   ]
  },
  {
   "cell_type": "code",
   "execution_count": 12,
   "metadata": {
    "scrolled": true
   },
   "outputs": [],
   "source": [
    "mergedDf = matchsTrainCopy.merge(team_attr, left_on='home_team_api_id', right_on='team_api_id')\n",
    "#On va regarder la correlation des differents colonnes avec la colonne label \n",
    "correlation = mergedDf.corrwith(mergedDf['label']).sort_values(ascending=False)[1:] \n",
    "# [1:] pour ne pas prendre le label en compte car la correlation avec lui meme est de 1"
   ]
  },
  {
   "cell_type": "markdown",
   "metadata": {},
   "source": [
    "On peut voir les informations sur les colonnes de notre nouvelle dataframe "
   ]
  },
  {
   "cell_type": "markdown",
   "metadata": {
    "scrolled": true
   },
   "source": [
    "mergedDf.info()"
   ]
  },
  {
   "cell_type": "code",
   "execution_count": 13,
   "metadata": {
    "scrolled": true
   },
   "outputs": [
    {
     "data": {
      "text/plain": [
       "defencePressure           0.063225\n",
       "chanceCreationShooting    0.035975\n",
       "defenceAggression         0.030697\n",
       "defenceTeamWidth          0.022133\n",
       "chanceCreationPassing     0.019822\n",
       "chanceCreationCrossing    0.016655\n",
       "away_team_api_id          0.016592\n",
       "buildUpPlayDribbling      0.007554\n",
       "index                     0.005943\n",
       "Unnamed: 0_x              0.005943\n",
       "league_id                 0.001719\n",
       "country_id                0.001719\n",
       "id_x                     -0.000900\n",
       "stage                    -0.002491\n",
       "buildUpPlaySpeed         -0.006341\n",
       "team_api_id              -0.014515\n",
       "home_team_api_id         -0.014515\n",
       "match_api_id             -0.025879\n",
       "Unnamed: 0_y             -0.026587\n",
       "id_y                     -0.026587\n",
       "team_fifa_api_id         -0.039668\n",
       "buildUpPlayPassing       -0.065467\n",
       "dtype: float64"
      ]
     },
     "execution_count": 13,
     "metadata": {},
     "output_type": "execute_result"
    }
   ],
   "source": [
    "correlation"
   ]
  },
  {
   "cell_type": "markdown",
   "metadata": {},
   "source": [
    "Avec SelectKBest qui va calculer le score des meilleurs features "
   ]
  },
  {
   "cell_type": "code",
   "execution_count": 14,
   "metadata": {},
   "outputs": [],
   "source": [
    "#On retire les Nan pour le SelectKBest\n",
    "mergedDf = mergedDf.dropna(how=\"any\")"
   ]
  },
  {
   "cell_type": "code",
   "execution_count": 15,
   "metadata": {},
   "outputs": [
    {
     "name": "stdout",
     "output_type": "stream",
     "text": [
      "                  Features       Score\n",
      "19         defencePressure  146.200915\n",
      "20       defenceAggression  141.716514\n",
      "15      buildUpPlayPassing  130.535667\n",
      "11        team_fifa_api_id   37.315128\n",
      "6             match_api_id   24.228487\n",
      "21        defenceTeamWidth   24.225555\n",
      "13        buildUpPlaySpeed   13.894917\n",
      "17  chanceCreationCrossing   12.782949\n",
      "9             Unnamed: 0_y   10.594494\n",
      "10                    id_y   10.594494\n"
     ]
    }
   ],
   "source": [
    "import numpy as np\n",
    "from sklearn.feature_selection import SelectKBest\n",
    "from sklearn.feature_selection import f_classif\n",
    "dfCopy = mergedDf.select_dtypes(['float64','int64'])\n",
    "\n",
    "X = dfCopy.drop(dfCopy[['label']], axis=1)  \n",
    "y = dfCopy['label']  \n",
    "#On applique SelectKBest pour extraire les 10 meilleurs features\n",
    "skb = SelectKBest(score_func=f_classif, k=10)\n",
    "fit = skb.fit(X,y)\n",
    "scores = pd.DataFrame(fit.scores_) #On recupere le score\n",
    "columns = pd.DataFrame(X.columns) # On recupere le nom des colonnes\n",
    "#On concatene les 2 dataframes pour visualiser \n",
    "result = pd.concat([columns,scores],axis=1)\n",
    "result.columns = ['Features','Score']\n",
    "print(result.nlargest(10,'Score')) "
   ]
  },
  {
   "cell_type": "markdown",
   "metadata": {},
   "source": [
    "#### Conclusion : \n",
    "- les deux colonnes qui se disinguent le plus par leurs correlations au label sont la defensePressure et le buildUpPlayPassing"
   ]
  },
  {
   "cell_type": "markdown",
   "metadata": {},
   "source": [
    "### Merge du training set avec le player attributes pour voir quelles colonnes sont interessantes à extraire"
   ]
  },
  {
   "cell_type": "code",
   "execution_count": 16,
   "metadata": {
    "scrolled": true
   },
   "outputs": [],
   "source": [
    "#On va travailler sur une copie du training set\n",
    "matchsTrainCopy = matchsTrain.copy()\n",
    "matchsTrainCopy['label'] = matchsTrainCopy.apply(lambda row: det_label(\n",
    "            row['home_team_goal'], row['away_team_goal']), axis=1)\n",
    "#Nous supprimons les scores car ils nous sont plus utils\n",
    "matchsTrainCopy = matchsTrainCopy.drop(['away_team_goal', 'home_team_goal'], axis=1)"
   ]
  },
  {
   "cell_type": "code",
   "execution_count": 17,
   "metadata": {
    "scrolled": true
   },
   "outputs": [],
   "source": [
    "#Nous selectionons les features numériques pour les correlations\n",
    "player_attr_home = player_attr.select_dtypes(include=['float64', 'int64'])\n",
    "player_attr_away = player_attr.select_dtypes(include=['float64', 'int64'])\n",
    "#Nous allons ajouter un suffixe pour pourvoir merge les differentes colonnes \n",
    "player_attr_home = player_attr.add_suffix('_home')\n",
    "player_attr_away = player_attr.add_suffix('_away')\n",
    "#Nous allons prendre la moyenne des notes de chaque joueurs du dataset \n",
    "# en effet un meme joueur pour avoir plusieurs ligne dans le dataset\n",
    "player_attr_home = player_attr_home.groupby(player_attr_home['player_api_id_home']).mean()\n",
    "player_attr_away = player_attr_away.groupby(player_attr_away['player_api_id_away']).mean()\n",
    "\n",
    "#On détermine l'api id comme idex\n",
    "player_attr_home['player_api_id_home'] = player_attr_home.index\n",
    "player_attr_away['player_api_id_away'] = player_attr_away.index\n",
    "\n",
    "#Nous selectionnons seulement les attributs numériques\n",
    "matchsTrainCopy = matchsTrainCopy.select_dtypes(include=['float64', 'int64'])\n",
    "\n",
    "mergedDf = matchsTrainCopy.merge(\n",
    "    player_attr_home, left_on='home_player_1', right_index=True)\n",
    "mergedDf = matchsTrainCopy.merge(\n",
    "    player_attr_away, left_on='away_player_1', right_index=True)\n",
    "\n",
    "#A chaque itération nous allons ajouter un suffixe pour bien pouvoir merge tous les joueurs d'un match \n",
    "for i in range(2, 12):\n",
    "    player_attr_home = player_attr.add_suffix('_'+str(i))\n",
    "    player_attr_away = player_attr.add_suffix('_'+str(i))\n",
    "    mergedDf = mergedDf.merge(\n",
    "        player_attr_home, left_on='home_player_'+str(i), right_index=True)\n",
    "    mergedDf = mergedDf.merge(\n",
    "        player_attr_away, left_on='away_player_'+str(i), right_index=True)\n",
    "\n",
    "correlation = mergedDf.corrwith(mergedDf['label']).sort_values(ascending=False)[1:]"
   ]
  },
  {
   "cell_type": "code",
   "execution_count": 18,
   "metadata": {
    "scrolled": true
   },
   "outputs": [
    {
     "data": {
      "text/plain": [
       "marking_away               0.073126\n",
       "player_fifa_api_id_away    0.061488\n",
       "home_player_X11            0.061105\n",
       "strength_11_x              0.055515\n",
       "overall_rating_11_x        0.052679\n",
       "home_player_Y9             0.049421\n",
       "crossing_away              0.048339\n",
       "finishing_away             0.048226\n",
       "sliding_tackle_away        0.047102\n",
       "penalties_2_y              0.046931\n",
       "jumping_11_x               0.046804\n",
       "sliding_tackle_10_y        0.046777\n",
       "home_player_Y10            0.045697\n",
       "gk_kicking_11_x            0.045577\n",
       "gk_reflexes_11_x           0.045308\n",
       "away_player_X9             0.044917\n",
       "away_player_10             0.044691\n",
       "Unnamed: 0_10_y            0.044691\n",
       "id_10_y                    0.044691\n",
       "long_shots_away            0.043733\n",
       "jumping_3_x                0.043245\n",
       "standing_tackle_away       0.043108\n",
       "standing_tackle_10_y       0.042946\n",
       "interceptions_7_x          0.041319\n",
       "balance_2_y                0.040768\n",
       "gk_handling_11_x           0.040631\n",
       "gk_diving_11_x             0.040515\n",
       "gk_positioning_11_x        0.040340\n",
       "away_player_1              0.039482\n",
       "player_api_id_away         0.039482\n",
       "                             ...   \n",
       "reactions_5_x             -0.036094\n",
       "shot_power_2_x            -0.037837\n",
       "away_player_X5            -0.038072\n",
       "away_player_Y10           -0.039035\n",
       "Unnamed: 0_5_x            -0.040134\n",
       "home_player_5             -0.040134\n",
       "id_5_x                    -0.040134\n",
       "home_player_Y11           -0.043221\n",
       "overall_rating_5_x        -0.046167\n",
       "acceleration_4_x          -0.046430\n",
       "long_passing_5_x          -0.048460\n",
       "away_player_X11           -0.050515\n",
       "away_player_Y9            -0.055574\n",
       "id_6_x                    -0.056133\n",
       "home_player_6             -0.056133\n",
       "Unnamed: 0_6_x            -0.056133\n",
       "gk_kicking_away           -0.108190\n",
       "reactions_away            -0.108463\n",
       "gk_reflexes_away          -0.125317\n",
       "gk_diving_away            -0.129762\n",
       "gk_positioning_away       -0.136993\n",
       "gk_handling_away          -0.138483\n",
       "potential_away            -0.140600\n",
       "overall_rating_away       -0.149233\n",
       "away_player_X1                  NaN\n",
       "home_player_Y3                  NaN\n",
       "away_player_Y1                  NaN\n",
       "away_player_Y2                  NaN\n",
       "away_player_Y3                  NaN\n",
       "away_player_Y4                  NaN\n",
       "Length: 894, dtype: float64"
      ]
     },
     "execution_count": 18,
     "metadata": {},
     "output_type": "execute_result"
    }
   ],
   "source": [
    "correlation"
   ]
  },
  {
   "cell_type": "markdown",
   "metadata": {},
   "source": [
    "Avec SelectKBest"
   ]
  },
  {
   "cell_type": "code",
   "execution_count": 19,
   "metadata": {},
   "outputs": [],
   "source": [
    "mergedDf = mergedDf.dropna(how=\"any\")"
   ]
  },
  {
   "cell_type": "code",
   "execution_count": 20,
   "metadata": {},
   "outputs": [
    {
     "name": "stdout",
     "output_type": "stream",
     "text": [
      "                Features      Score\n",
      "78   overall_rating_away  37.437325\n",
      "109     gk_handling_away  36.776956\n",
      "111  gk_positioning_away  33.367254\n",
      "79        potential_away  32.850879\n",
      "108       gk_diving_away  31.427319\n",
      "112     gk_reflexes_away  28.347739\n",
      "93        reactions_away  19.460588\n",
      "110      gk_kicking_away  18.358540\n",
      "88     long_passing_away  11.977832\n",
      "840        strength_11_x  11.219966\n"
     ]
    }
   ],
   "source": [
    "dfCopy = mergedDf.select_dtypes(['float64','int64'])\n",
    "\n",
    "X = dfCopy.drop(dfCopy[['label']], axis=1)  \n",
    "y = dfCopy['label']  \n",
    "#On applique SelectKBest pour extraire les 10 meilleurs features\n",
    "skb = SelectKBest(score_func=f_classif, k=10)\n",
    "fit = skb.fit(X,y)\n",
    "scores = pd.DataFrame(fit.scores_) #On recupere le score\n",
    "columns = pd.DataFrame(X.columns) # On recupere le nom des colonnes\n",
    "#On concatene les 2 dataframes pour visualiser \n",
    "result = pd.concat([columns,scores],axis=1)\n",
    "result.columns = ['Features','Score']\n",
    "print(result.nlargest(10,'Score')) "
   ]
  },
  {
   "cell_type": "markdown",
   "metadata": {},
   "source": [
    "### Conclusion:\n",
    "- les attributs du gardien de l'équipe à l'extérieur ont une legere correlation inverse sur le label (au plus le gardien a de bons attributs au plus le label sera -1 cad l'équipe à l'extérieur remporte le match)\n",
    "- En générale, il parait logique de se dire que les attributs des joueurs en générale vont affluer sur le resultat final d'un match (au plus une équipe a de bons joueurs par rapport à l'equipe adverse, au plus elle augmentera ses chances de gagner le match "
   ]
  },
  {
   "cell_type": "markdown",
   "metadata": {},
   "source": [
    "# Data Cleaning"
   ]
  },
  {
   "cell_type": "markdown",
   "metadata": {},
   "source": [
    "La deuxième étape du projet est de **CLEANER** les données.\n",
    "\n",
    "Lors de cette étape, nous allons nous pencher plus sur les données en elles-même. On peut remarquer qu'il y a des données manquantes pour certaines features ainsi que des outliers.\n",
    "\n",
    "***Dans la soumission précédente:***  \n",
    "Nous allons nous occuper dans données manquantes lors de cette étape en remplissant les données manquantes soit par le mode des données non nulles soit par zéro.\n",
    "\n",
    "En ce qui concerne les outliers, nous ne les avons pas traité lors de cette soumission par oubli.\n",
    "\n",
    "Cependant, nous pouvons trouver une utilité aux outliers lors de la normalisation des données. (Voir étape **PREPARE**)\n",
    "\n",
    "Pour la prochaine soumission, nous remédierons à cela, en proposant une version sans outliers.  \n",
    "\n",
    "***Dans la soumission courrante:***  \n",
    "Nous nous sommes rendu compte que la manière de gérer les valeurs nulles n'était pas optimale. Le remplacement des coordonnées des joueurs par les plus courrants crée des formations abérantes par moment.  \n",
    "Notre nouvelle approche consistera à créer une formation pour les matchs ou tous les coordonnées pour une équipe sont présente. Ensuite pour les équipes où il y a des coordonnées manquantes nous allons y injecter la formation la plus courrante.\n",
    "Pour l'api id des joueurs qui manquent nous les avons remplacé par 0 dans la soumission précédente mais vu que l'on les remplace par la note générale du joueur, la note sera de 0 et ceci diminuait la moyenne de la note de la ligne (défense , milieu et attaque). On va plutot laisser le Nan et la note du joueurs sera remplacé par Nan. Comme ca lors de l'appel de la fonction mean() les Nan ne seront pas pris en compte. Toutes les valeurs nulles seront traités lors de la phase dédiée au preparing."
   ]
  },
  {
   "cell_type": "code",
   "execution_count": 21,
   "metadata": {},
   "outputs": [],
   "source": [
    "#Import pour la visualisation des données\n",
    "import seaborn as sns \n",
    "import matplotlib.pyplot as plt"
   ]
  },
  {
   "cell_type": "code",
   "execution_count": 22,
   "metadata": {},
   "outputs": [],
   "source": [
    "matchsTrainCopy = matchsTrain.copy()\n",
    "matchsTrainCopy['label'] = matchsTrainCopy.apply(lambda row: det_label(\n",
    "            row['home_team_goal'], row['away_team_goal']), axis=1)\n",
    "#Nous supprimons les scores car ils nous sont plus utils\n",
    "matchsTrainCopy = matchsTrainCopy.drop(['away_team_goal', 'home_team_goal'], axis=1)"
   ]
  },
  {
   "cell_type": "code",
   "execution_count": 23,
   "metadata": {
    "scrolled": true
   },
   "outputs": [],
   "source": [
    "#Suppression des colonnes qui n'ont pas d'importances et que l'on ne va pas exploiter\n",
    "matchsTrainCopy.drop(['country_id', 'league_id','match_api_id', 'Unnamed: 0'], axis=1, inplace=True)"
   ]
  },
  {
   "cell_type": "markdown",
   "metadata": {},
   "source": [
    "L'attribut match_api_id est en relation avec l'id et l'attribut Unnamed: 0 est une copie de l'id. Ils nous sont pas consequent pas utils."
   ]
  },
  {
   "cell_type": "markdown",
   "metadata": {},
   "source": [
    "#### Comme décrit dans le préambule de cette section , nous nous occuperons des valeurs nulles lors de la section consacré au Preparing"
   ]
  },
  {
   "cell_type": "markdown",
   "metadata": {},
   "source": [
    "# Data Preparing (Engineering)"
   ]
  },
  {
   "cell_type": "markdown",
   "metadata": {},
   "source": [
    "La troisième étape du projet est de **PREPARE** les données.\n",
    "\n",
    "Lors de cette étape, on abordera le *FEATURES ENGINEERING* ainsi que la *NORMALISATION DES DONNEES*\n",
    "\n",
    "Le Features Engineering permet de manipuler les features ( combiner des features ). Nous normalisons les données pour que chaque feature aie le même ordre de grandeur."
   ]
  },
  {
   "cell_type": "markdown",
   "metadata": {},
   "source": [
    "## Exploitation des coordonnées XY des joueurs"
   ]
  },
  {
   "cell_type": "markdown",
   "metadata": {},
   "source": [
    "L'idée ici sera de transformer les coordonnées Y (nous n'allons pas utiliser les coordonnées X) en formation par exemple 442 "
   ]
  },
  {
   "cell_type": "code",
   "execution_count": 24,
   "metadata": {},
   "outputs": [],
   "source": [
    "#Nous supprimons les coordonnées X de tous les joueurs\n",
    "matchsTrainCopy.drop(matchsTrainCopy.select(lambda col: col.startswith('home_player_X'), axis=1), axis=1, inplace=True)\n",
    "matchsTrainCopy.drop(matchsTrainCopy.select(lambda col: col.startswith('away_player_X'), axis=1), axis=1, inplace=True)"
   ]
  },
  {
   "cell_type": "markdown",
   "metadata": {},
   "source": [
    "### Création des formations"
   ]
  },
  {
   "cell_type": "code",
   "execution_count": 25,
   "metadata": {},
   "outputs": [
    {
     "data": {
      "text/plain": [
       "home_player_Y1      1.0\n",
       "home_player_Y2      3.0\n",
       "home_player_Y3      3.0\n",
       "home_player_Y4      3.0\n",
       "home_player_Y5      3.0\n",
       "home_player_Y6      5.0\n",
       "home_player_Y7      5.0\n",
       "home_player_Y8      5.0\n",
       "home_player_Y9      8.0\n",
       "home_player_Y10    10.0\n",
       "home_player_Y11    10.0\n",
       "Name: 0, dtype: float64"
      ]
     },
     "execution_count": 25,
     "metadata": {},
     "output_type": "execute_result"
    }
   ],
   "source": [
    "#Pour l'exemple, voici la premiere ligne du training set\n",
    "matchsTrainCopy[['home_player_Y'+str(i) for i in range(1,12)]].iloc[0,:]"
   ]
  },
  {
   "cell_type": "markdown",
   "metadata": {},
   "source": [
    "##### Nous allons compter les occurences des joueurs presents par lignes. Par exemple ici :\n",
    "- 1 joueur sur la ligne 1 (le gardien)\n",
    "- 4 joueurs sur la ligne 3 (defenseurs)\n",
    "- 3 joueurs sur la ligne 5 (milieux)\n",
    "- 1 joueur sur la ligne 8 (milieu-offensif)\n",
    "- 2 joueurs sur la ligne 10 (attaquants)\n",
    "\n",
    "Ce qui donne 4312 (les formations ne prennent pas en compte le gardien car il ne change jamais de place)"
   ]
  },
  {
   "cell_type": "code",
   "execution_count": 26,
   "metadata": {
    "scrolled": true
   },
   "outputs": [],
   "source": [
    "from collections import Counter\n",
    "#Fonction pour creer une formation apd des coordonnées Y des joureurs\n",
    "def create_formation(row, home):\n",
    "    list_form = list()  # Nous avons besoin d'une liste pour le Counter\n",
    "    if(home):\n",
    "        list_form = row.loc[row.index.str.startswith('home_player_Y')].tolist()[1:]  # Nous ne prenons pas le gardien\n",
    "    else:\n",
    "        list_form = row.loc[row.index.str.startswith('away_player_Y')].tolist()[1:]\n",
    "        \n",
    "    if(True in np.isnan(list_form)): # si la liste contient des valeurs nulles on renvoit en Nan\n",
    "        return np.nan\n",
    "        \n",
    "    # Nous creeons un dictionnaire avec les occurences des positions des joueurs\n",
    "    couter = Counter(list_form)\n",
    "    couter_val = couter.values()\n",
    "    # on concatene les valeurs pour arriver à la formation par ex : 442\n",
    "    form = ''.join((str(e) for e in list(couter_val)))\n",
    "    return form"
   ]
  },
  {
   "cell_type": "code",
   "execution_count": 27,
   "metadata": {
    "scrolled": true
   },
   "outputs": [],
   "source": [
    "matchsTrainCopy['form_home'] = matchsTrainCopy.apply(lambda x: create_formation(x, True), axis=1)\n",
    "matchsTrainCopy['form_away'] = matchsTrainCopy.apply(lambda x: create_formation(x, False), axis=1)"
   ]
  },
  {
   "cell_type": "markdown",
   "metadata": {},
   "source": [
    "Nous remplaçons les formations manquantes par la formation la plus courrante"
   ]
  },
  {
   "cell_type": "code",
   "execution_count": 33,
   "metadata": {},
   "outputs": [],
   "source": [
    "matchsTrainCopy[['form_home', 'form_away']] = matchsTrainCopy[['form_home', 'form_away']].apply(lambda x: x.fillna(x.value_counts().index[0]))"
   ]
  },
  {
   "cell_type": "markdown",
   "metadata": {},
   "source": [
    "C'est cette même formation que nous utiliserons dans notre test set"
   ]
  },
  {
   "cell_type": "code",
   "execution_count": 34,
   "metadata": {
    "scrolled": false
   },
   "outputs": [
    {
     "data": {
      "text/plain": [
       "4231     6491\n",
       "442      5026\n",
       "433      3428\n",
       "451       763\n",
       "4411      705\n",
       "4312      555\n",
       "352       530\n",
       "4141      484\n",
       "41212     455\n",
       "4222      423\n",
       "41221     301\n",
       "343       227\n",
       "4321      226\n",
       "4132      202\n",
       "532       149\n",
       "3421      135\n",
       "3412      112\n",
       "3511      101\n",
       "4123       66\n",
       "541        52\n",
       "4213       30\n",
       "3232        7\n",
       "3331        5\n",
       "42112       3\n",
       "42211       1\n",
       "5311        1\n",
       "631         1\n",
       "Name: form_home, dtype: int64"
      ]
     },
     "execution_count": 34,
     "metadata": {},
     "output_type": "execute_result"
    }
   ],
   "source": [
    "matchsTrainCopy['form_home'].value_counts()"
   ]
  },
  {
   "cell_type": "code",
   "execution_count": 35,
   "metadata": {
    "scrolled": true
   },
   "outputs": [
    {
     "data": {
      "text/plain": [
       "4231     6514\n",
       "442      4777\n",
       "433      3438\n",
       "451       968\n",
       "4411      670\n",
       "352       557\n",
       "4141      550\n",
       "4312      485\n",
       "4222      428\n",
       "41212     388\n",
       "41221     280\n",
       "4321      243\n",
       "343       230\n",
       "4132      196\n",
       "532       143\n",
       "3421      133\n",
       "3511      117\n",
       "541       116\n",
       "3412      115\n",
       "4123       75\n",
       "4213       27\n",
       "3232       14\n",
       "3331        9\n",
       "5311        2\n",
       "42112       2\n",
       "41122       1\n",
       "31312       1\n",
       "Name: form_away, dtype: int64"
      ]
     },
     "execution_count": 35,
     "metadata": {},
     "output_type": "execute_result"
    }
   ],
   "source": [
    "matchsTrainCopy['form_away'].value_counts()"
   ]
  },
  {
   "cell_type": "code",
   "execution_count": 36,
   "metadata": {},
   "outputs": [],
   "source": [
    "#On drop les coordonnées Y\n",
    "matchsTrainCopy.drop(matchsTrainCopy.select(lambda col: col.startswith('home_player_Y'), axis=1), axis=1, inplace=True)\n",
    "matchsTrainCopy.drop(matchsTrainCopy.select(lambda col: col.startswith('away_player_Y'), axis=1), axis=1, inplace=True)"
   ]
  },
  {
   "cell_type": "code",
   "execution_count": 37,
   "metadata": {},
   "outputs": [
    {
     "data": {
      "text/plain": [
       "<matplotlib.axes._subplots.AxesSubplot at 0x21e98b72748>"
      ]
     },
     "execution_count": 37,
     "metadata": {},
     "output_type": "execute_result"
    },
    {
     "data": {
      "image/png": "[encoded data removed]",
      "text/plain": [
       "<Figure size 1224x360 with 1 Axes>"
      ]
     },
     "metadata": {
      "needs_background": "light"
     },
     "output_type": "display_data"
    }
   ],
   "source": [
    "#Graphique des formations à domicile en fonction du label\n",
    "plt.figure(figsize=(17,5))\n",
    "sns.barplot(x='form_home', y='label',data=matchsTrainCopy)"
   ]
  },
  {
   "cell_type": "markdown",
   "metadata": {},
   "source": [
    "Explication: Nous pouvons voir que suivant certaine formations le label a tendance a être plus élevé. C'est à dire que suivant une certaine formation, une équipe aura plus de chance de gagner un match"
   ]
  },
  {
   "cell_type": "code",
   "execution_count": 38,
   "metadata": {},
   "outputs": [
    {
     "data": {
      "text/plain": [
       "<matplotlib.axes._subplots.AxesSubplot at 0x21e98bcb630>"
      ]
     },
     "execution_count": 38,
     "metadata": {},
     "output_type": "execute_result"
    },
    {
     "data": {
      "image/png": "[encoded data removed]",
      "text/plain": [
       "<Figure size 1224x360 with 1 Axes>"
      ]
     },
     "metadata": {
      "needs_background": "light"
     },
     "output_type": "display_data"
    }
   ],
   "source": [
    "#Graphique des formations à l'extérieur en fonction du label\n",
    "plt.figure(figsize=(17,5))\n",
    "sns.barplot(x='form_away', y='label',data=matchsTrainCopy)"
   ]
  },
  {
   "cell_type": "markdown",
   "metadata": {},
   "source": [
    "## Ajout des notes générales des joueurs"
   ]
  },
  {
   "cell_type": "markdown",
   "metadata": {},
   "source": [
    "Pour ajouter les notes des joueurs, nous allons créer un dictionnaire avec comme clé un tuple avec l'api id et la date et comme valeur sa note générale ( En effet, la note d'un joueur varie en fonction du temps et un même joueur a donc plusieurs notes dans la table Players Attributes"
   ]
  },
  {
   "cell_type": "code",
   "execution_count": 39,
   "metadata": {},
   "outputs": [],
   "source": [
    "def create_player_overall_dict(player_attr):\n",
    "    ply_attr = player_attr[['player_api_id', 'overall_rating', 'date']]\n",
    "    ply_attr['date'] = ply_attr['date'].apply(lambda x: x.split('-')[0]) # on retient seulement l'année\n",
    "    ply_attr = ply_attr.groupby([ply_attr['player_api_id'], ply_attr['date']]).mean()\n",
    "\n",
    "    return ply_attr.to_dict()['overall_rating']\n",
    "\n",
    "ply_attr_overall_dict = create_player_overall_dict(player_attr)"
   ]
  },
  {
   "cell_type": "markdown",
   "metadata": {},
   "source": [
    "Dans la table Players Attributs, il est possible qu'un joueur n'ai pas une note à une certaine date. Ce qui va provoquer un crash lorsqu'on voudra acceder à cette clé là (id,date)"
   ]
  },
  {
   "cell_type": "code",
   "execution_count": 40,
   "metadata": {},
   "outputs": [],
   "source": [
    "def dict_key_checker(attr_dict, api_id, date):\n",
    "    if(api_id is np.nan):# si l'api id est nulle nous renvoyons un Nan\n",
    "        return np.nan\n",
    "    try:\n",
    "        res = attr_dict[(api_id, str(date))]\n",
    "    except KeyError:\n",
    "        date = int(date)\n",
    "        dates = [int(k[1]) for k in attr_dict if k[0] == api_id]\n",
    "        if not dates:  # si l'api id n'est pas présente dans le dictionnaire\n",
    "            return 0\n",
    "        res = attr_dict[(api_id, str(min(dates, key=lambda key: abs(key-date))))] # si la date n'est pas présente , \n",
    "        #on prend la date la plus proche\n",
    "    return res"
   ]
  },
  {
   "cell_type": "code",
   "execution_count": 45,
   "metadata": {},
   "outputs": [],
   "source": [
    "for i in range(1, 12):\n",
    "    matchsTrainCopy['home_player_overall_'+str(i)] = matchsTrainCopy.apply(\n",
    "        lambda x: dict_key_checker(ply_attr_overall_dict, x['home_player_'+str(i)], x['date'].split('-')[0])/99, axis=1)\n",
    "    matchsTrainCopy['away_player_overall_'+str(i)] = matchsTrainCopy.apply(\n",
    "        lambda x: dict_key_checker(ply_attr_overall_dict, x['away_player_'+str(i)], x['date'].split('-')[0])/99, axis=1)\n"
   ]
  },
  {
   "cell_type": "markdown",
   "metadata": {},
   "source": [
    "Nous divisons la note par 99 car la note générale est une note entre 0 et 99. Ca nous permettera déjà de normaliser la note et se retrouver avec une valeur entre 0 et 1"
   ]
  },
  {
   "cell_type": "code",
   "execution_count": null,
   "metadata": {},
   "outputs": [],
   "source": [
    "matchsTrainCopy.head()"
   ]
  },
  {
   "cell_type": "code",
   "execution_count": null,
   "metadata": {},
   "outputs": [],
   "source": [
    "matchsTrainCopy.corrwith(matchsTrainCopy['label']).sort_values(ascending=False)[1:]"
   ]
  },
  {
   "cell_type": "markdown",
   "metadata": {},
   "source": [
    "## Ajout du potentiel des joueurs"
   ]
  },
  {
   "cell_type": "markdown",
   "metadata": {},
   "source": [
    "Nous recommencons la meme manipulation pour ajouter le potentiel des joueurs"
   ]
  },
  {
   "cell_type": "code",
   "execution_count": null,
   "metadata": {},
   "outputs": [],
   "source": [
    "def create_player_pot_dict(player_attr):\n",
    "    ply_attr = player_attr[['player_api_id', 'potential', 'date']]\n",
    "    ply_attr['date'] = ply_attr['date'].apply(lambda x: x.split('-')[0])\n",
    "    ply_attr = ply_attr.groupby([ply_attr['player_api_id'], ply_attr['date']]).mean()\n",
    "\n",
    "    return ply_attr.to_dict()['potential']\n",
    "\n",
    "ply_attr_pot_dict = create_player_pot_dict(player_attr)\n",
    "\n",
    "for i in range(1, 12):\n",
    "    matchsTrainCopy['home_player_potential_'+str(i)] = matchsTrainCopy.apply(lambda x: \n",
    "        dict_key_checker(ply_attr_pot_dict, x['home_player_'+str(i)], x['date'].split('-')[0])/99, axis=1)\n",
    "    matchsTrainCopy['away_player_potential_'+str(i)] = matchsTrainCopy.apply(lambda x: \n",
    "        dict_key_checker(ply_attr_pot_dict, x['away_player_'+str(i)], x['date'].split('-')[0])/99, axis=1)"
   ]
  },
  {
   "cell_type": "code",
   "execution_count": null,
   "metadata": {},
   "outputs": [],
   "source": [
    "matchsTrainCopy.corrwith(matchsTrainCopy['label']).sort_values(ascending=False)[1:]"
   ]
  },
  {
   "cell_type": "markdown",
   "metadata": {},
   "source": [
    "## Ajout des attributs defensePressure et le buildUpPlayPassing "
   ]
  },
  {
   "cell_type": "markdown",
   "metadata": {},
   "source": [
    "Nous recommencons la meme manipulation pour ajouter les attributs defensePressure et le buildUpPlayPassing"
   ]
  },
  {
   "cell_type": "code",
   "execution_count": null,
   "metadata": {
    "scrolled": true
   },
   "outputs": [],
   "source": [
    "def create_team_attr_dict(teams_attr, key):\n",
    "    tms_attr = teams_attr[['team_api_id', 'date','defencePressure', 'buildUpPlayPassing']]\n",
    "    tms_attr['date'] = tms_attr['date'].apply(lambda x: x.split('-')[0])\n",
    "    tms_attr = tms_attr.groupby([tms_attr['team_api_id'], tms_attr['date']]).mean()\n",
    "    return tms_attr.to_dict()[key]\n",
    "\n",
    "teams_buildUp_dict = create_team_attr_dict(team_attr, 'buildUpPlayPassing')\n",
    "teams_def_press_dict = create_team_attr_dict(team_attr, 'defencePressure')\n",
    "\n",
    "matchsTrainCopy['home_build_up'] = matchsTrainCopy.apply(lambda x: \n",
    "        dict_key_checker(teams_buildUp_dict, x['home_team_api_id'], x['date'].split('-')[0])/99, axis=1)\n",
    "matchsTrainCopy['away_build_up'] = matchsTrainCopy.apply(lambda x: \n",
    "        dict_key_checker(teams_buildUp_dict, x['away_team_api_id'], x['date'].split('-')[0])/99, axis=1)\n",
    "matchsTrainCopy['home_def_press'] = matchsTrainCopy.apply(lambda x: \n",
    "        dict_key_checker(teams_def_press_dict, x['home_team_api_id'], x['date'].split('-')[0])/99, axis=1)\n",
    "matchsTrainCopy['away_def_press'] = matchsTrainCopy.apply(lambda x: \n",
    "        dict_key_checker(teams_def_press_dict, x['away_team_api_id'], x['date'].split('-')[0])/99, axis=1)"
   ]
  },
  {
   "cell_type": "code",
   "execution_count": null,
   "metadata": {},
   "outputs": [],
   "source": [
    "matchsTrainCopy.corrwith(matchsTrainCopy['label']).sort_values(ascending=False)[1:]"
   ]
  },
  {
   "cell_type": "markdown",
   "metadata": {},
   "source": [
    "## Exploitation des notes générales / potentiel des joueurs et de la formation"
   ]
  },
  {
   "cell_type": "markdown",
   "metadata": {},
   "source": [
    "Une idée que l'on pourrait avoir pour réduire le nombre de colonnes du training set est, grace à la formation, de faire une moyenne des notes d'une équipe par ligne ( défense , milieu et attaque)  "
   ]
  },
  {
   "cell_type": "code",
   "execution_count": null,
   "metadata": {},
   "outputs": [],
   "source": [
    "def get_nbr_players_by_lines(form):\n",
    "    list_form = list(form)\n",
    "    list_form = [int(x) for x in list_form]\n",
    "    defenders = list_form[0] + 1  # le nombre de joueur sur la premiere ligne de la formation plus le gardien\n",
    "    attackers = list_form[-1] # le nombre de joueur sur la derniere ligne de la formation\n",
    "    midfielders = sum(list_form[1:-1]) # la somme des joueurs entre les ligne de defense et d'attaque\n",
    "    return defenders, midfielders, attackers"
   ]
  },
  {
   "cell_type": "code",
   "execution_count": null,
   "metadata": {},
   "outputs": [],
   "source": [
    "for index, row in matchsTrainCopy.iterrows():\n",
    "    nbr_def_home, nbr_mid_home, nbr_att_home = get_nbr_players_by_lines(row['form_home'])\n",
    "    nbr_def_away, nbr_mid_away, nbr_att_away = get_nbr_players_by_lines(row['form_away'])\n",
    "\n",
    "    # Overall\n",
    "    matchsTrainCopy.loc[index, 'home_def_overall'] = row.loc[[\n",
    "                'home_player_overall_' + str(i) for i in range(1, nbr_def_home+1)]].mean()\n",
    "    matchsTrainCopy.loc[index, 'home_mid_overall'] = row.loc[[\n",
    "                'home_player_overall_' + str(i) for i in range(nbr_def_home+1, nbr_def_home + nbr_mid_home+1)]].mean()\n",
    "    matchsTrainCopy.loc[index, 'home_att_overall'] = row.loc[[\n",
    "                'home_player_overall_' + str(i) for i in range(nbr_def_home + nbr_mid_home+1, 12)]].mean()\n",
    "\n",
    "    matchsTrainCopy.loc[index, 'away_def_overall'] = row.loc[[\n",
    "                'away_player_overall_' + str(i) for i in range(1, nbr_def_away+1)]].mean()\n",
    "    matchsTrainCopy.loc[index, 'away_mid_overall'] = row.loc[[\n",
    "                'away_player_overall_' + str(i) for i in range(nbr_def_away+1, nbr_def_away + nbr_mid_away+1)]].mean()\n",
    "    matchsTrainCopy.loc[index, 'away_att_overall'] = row.loc[[\n",
    "                'away_player_overall_' + str(i) for i in range(nbr_def_away + nbr_mid_away+1, 12)]].mean()\n",
    "\n",
    "\n",
    "    # Potential\n",
    "    matchsTrainCopy.loc[index, 'home_def_pot'] = row.loc[[\n",
    "        'home_player_potential_' + str(i) for i in range(1, nbr_def_home+1)]].mean()\n",
    "    matchsTrainCopy.loc[index, 'home_mid_pot'] = row.loc[[\n",
    "        'home_player_potential_' + str(i) for i in range(nbr_def_home+1, nbr_def_home + nbr_mid_home+1)]].mean()\n",
    "    matchsTrainCopy.loc[index, 'home_att_pot'] = row.loc[[\n",
    "        'home_player_potential_' + str(i) for i in range(nbr_def_home + nbr_mid_home+1, 12)]].mean()\n",
    "\n",
    "    matchsTrainCopy.loc[index, 'away_def_pot'] = row.loc[[\n",
    "        'away_player_potential_' + str(i) for i in range(1, nbr_def_away+1)]].mean()\n",
    "    matchsTrainCopy.loc[index, 'away_mid_pot'] = row.loc[[\n",
    "        'away_player_potential_' + str(i) for i in range(nbr_def_away+1, nbr_def_away + nbr_mid_away+1)]].mean()\n",
    "    matchsTrainCopy.loc[index, 'away_att_pot'] = row.loc[[\n",
    "        'away_player_potential_' + str(i) for i in range(nbr_def_away + nbr_mid_away+1, 12)]].mean()\n"
   ]
  },
  {
   "cell_type": "code",
   "execution_count": null,
   "metadata": {},
   "outputs": [],
   "source": [
    "#On supprime les colonnes qui ne nous serviront plus\n",
    "matchsTrainCopy.drop(matchsTrainCopy.select(lambda col: col.startswith('home_player'), axis=1), axis=1, inplace=True)\n",
    "matchsTrainCopy.drop(matchsTrainCopy.select(lambda col: col.startswith('away_player'), axis=1), axis=1, inplace=True)"
   ]
  },
  {
   "cell_type": "code",
   "execution_count": null,
   "metadata": {},
   "outputs": [],
   "source": [
    "matchsTrainCopy.info()"
   ]
  },
  {
   "cell_type": "code",
   "execution_count": null,
   "metadata": {},
   "outputs": [],
   "source": [
    "matchsTrainCopy.corrwith(matchsTrainCopy['label']).sort_values(ascending=False)[1:]"
   ]
  },
  {
   "cell_type": "markdown",
   "metadata": {},
   "source": [
    "Nous pouvons voir que nous avons augmenté le score des correlations des notes géneraux de joueurs ainsi que leur potentiel en prennant les joueurs par ligne de champs!"
   ]
  },
  {
   "cell_type": "markdown",
   "metadata": {},
   "source": [
    "## Rapport entre les attributs de l'équipe à domicile et à l'extérieur"
   ]
  },
  {
   "cell_type": "markdown",
   "metadata": {},
   "source": [
    "L'idée ici sera d'effectuer un rapport (une difference) entre les colonnes des differents attributs des équipes domicile et extérieur. En effet cette difference, si elle est positif représentera une correlation positive avec le label , si négative une correlation négative"
   ]
  },
  {
   "cell_type": "code",
   "execution_count": null,
   "metadata": {},
   "outputs": [],
   "source": [
    "#Difference entre les 2 defenses , les 2 milieux et les 2 attaques\n",
    "matchsTrainCopy['diff_def_overall'] = matchsTrainCopy['home_def_overall'] - matchsTrainCopy['away_def_overall']\n",
    "matchsTrainCopy['diff_mid_overall'] = matchsTrainCopy['home_mid_overall'] - matchsTrainCopy['away_mid_overall']\n",
    "matchsTrainCopy['diff_att_overall'] = matchsTrainCopy['home_att_overall'] - matchsTrainCopy['away_att_overall']\n",
    "\n",
    "#Difference entre les ligne à confrontation direct c'est à dire l'attaque de l'équipe à domicile contre la defence \n",
    "# de l'équipe à l'extérieur ainsi que la defence domicile contre l'attaque extérieur\n",
    "matchsTrainCopy['diff_att_home_def_away'] = matchsTrainCopy['home_att_overall'] - matchsTrainCopy['away_def_overall']\n",
    "matchsTrainCopy['diff_def_home_att_away'] = matchsTrainCopy['home_def_overall'] - matchsTrainCopy['away_att_overall']\n",
    "\n",
    "#Idem pour le potentiel\n",
    "matchsTrainCopy['diff_def_pot'] = matchsTrainCopy['home_def_pot'] - matchsTrainCopy['away_def_pot']\n",
    "matchsTrainCopy['diff_mid_pot'] = matchsTrainCopy['home_mid_pot'] - matchsTrainCopy['away_mid_pot']\n",
    "matchsTrainCopy['diff_att_pot'] = matchsTrainCopy['home_att_pot'] - matchsTrainCopy['away_att_pot']\n",
    "\n",
    "#Difference entre les 2 attributs d'equipe defensePressure et le buildUpPlayPassing\n",
    "matchsTrainCopy['diff_build_up'] = matchsTrainCopy['home_build_up'] - matchsTrainCopy['away_build_up']\n",
    "matchsTrainCopy['diff_def_press'] = matchsTrainCopy['home_def_press'] - matchsTrainCopy['away_def_press']\n"
   ]
  },
  {
   "cell_type": "code",
   "execution_count": null,
   "metadata": {},
   "outputs": [],
   "source": [
    "matchsTrainCopy.info()"
   ]
  },
  {
   "cell_type": "code",
   "execution_count": null,
   "metadata": {},
   "outputs": [],
   "source": [
    "matchsTrainCopy.info()"
   ]
  },
  {
   "cell_type": "code",
   "execution_count": null,
   "metadata": {},
   "outputs": [],
   "source": [
    "matchsTrainCopy.corrwith(matchsTrainCopy['label']).sort_values(ascending=False)[1:]"
   ]
  },
  {
   "cell_type": "markdown",
   "metadata": {},
   "source": [
    "Avec SelectKBest"
   ]
  },
  {
   "cell_type": "code",
   "execution_count": null,
   "metadata": {},
   "outputs": [],
   "source": [
    "dfCopy = matchsTrainCopy.select_dtypes(['float64','int64'])\n",
    "\n",
    "X = dfCopy.drop(dfCopy[['label']], axis=1)  \n",
    "y = dfCopy['label']  \n",
    "#On applique SelectKBest pour extraire les 10 meilleurs features\n",
    "skb = SelectKBest(score_func=f_classif, k=10)\n",
    "fit = skb.fit(X,y)\n",
    "scores = pd.DataFrame(fit.scores_) #On recupere le score\n",
    "columns = pd.DataFrame(X.columns) # On recupere le nom des colonnes\n",
    "#On concatene les 2 dataframes pour visualiser \n",
    "result = pd.concat([columns,scores],axis=1)\n",
    "result.columns = ['Features','Score']\n",
    "print(result.nlargest(10,'Score')) "
   ]
  },
  {
   "cell_type": "markdown",
   "metadata": {},
   "source": [
    "Nous allons garder les colonnes représentants la difference des notes générales , des potentiels et des attributs d'équipe et supprimer les diminuendes et les diminuteurs."
   ]
  },
  {
   "cell_type": "code",
   "execution_count": null,
   "metadata": {},
   "outputs": [],
   "source": [
    "matchsTrainCopy = matchsTrainCopy.drop(['home_build_up','away_build_up','home_def_press','away_def_press','home_def_overall',\n",
    "                                     'home_mid_overall','home_att_overall','away_def_overall','away_mid_overall',\n",
    "                                     'away_att_overall','home_def_pot','home_mid_pot','home_att_pot','away_def_pot',\n",
    "                                     'away_mid_pot','away_att_pot'], axis=1)"
   ]
  },
  {
   "cell_type": "code",
   "execution_count": null,
   "metadata": {},
   "outputs": [],
   "source": [
    "plt.figure(figsize=(20,7))\n",
    "sns.heatmap(matchsTrainCopy.corr(),annot=True,cmap='coolwarm', linewidths=1)"
   ]
  },
  {
   "cell_type": "markdown",
   "metadata": {},
   "source": [
    "HeatMap des valeurs numériques qu'on gardera comme features pour nos modeles"
   ]
  },
  {
   "cell_type": "markdown",
   "metadata": {},
   "source": [
    "### Idées de transformation des données qui n'ont pas abouties\n",
    "- Prendre des données statistiques à partir du training set comme le nombre totals des buts inscrits par une equipe , le nombre de victoire à domicile , le taux de victoire d'une équipe ou le aux de victoire d'une équipe à domicile dans les confrontations direct avec l'équipe extérieur => ces données repésentaient un risque d'overfitting c'est pourquoi cette idée n'a pas aboutie\n",
    "- PCA : vu le nombre réduit de nos features , le PCA n'a pas donnée de résultats concluants"
   ]
  },
  {
   "cell_type": "code",
   "execution_count": null,
   "metadata": {},
   "outputs": [],
   "source": [
    "#Copie de la colonne label et suppression de celle ci dans le training set\n",
    "label = matchsTrainCopy[['label']]\n",
    "matchsTrainCopy = matchsTrainCopy.drop(['label'], axis=1)"
   ]
  },
  {
   "cell_type": "markdown",
   "metadata": {},
   "source": [
    "## Data Normalization\n"
   ]
  },
  {
   "cell_type": "markdown",
   "metadata": {},
   "source": [
    "Dans un premier temps, on écrit et exécute tout les imports qu'on a besoin pour nettoyer les données"
   ]
  },
  {
   "cell_type": "code",
   "execution_count": null,
   "metadata": {},
   "outputs": [],
   "source": [
    "from sklearn.base import TransformerMixin  # gives fit_transform method for free\n",
    "from sklearn.preprocessing import LabelBinarizer, OneHotEncoder, MultiLabelBinarizer\n",
    "from sklearn.preprocessing import Imputer, OrdinalEncoder\n",
    "import numpy as np\n",
    "from sklearn.base import BaseEstimator, TransformerMixin\n",
    "from sklearn.preprocessing import MinMaxScaler, StandardScaler\n",
    "from sklearn.pipeline import Pipeline\n",
    "\n",
    "\n",
    "class DataFrameSelector(BaseEstimator, TransformerMixin):\n",
    "    def __init__(self, attribute_names):\n",
    "        self.attribute_names = attribute_names\n",
    "\n",
    "    def fit(self, X, y=None):\n",
    "        return self\n",
    "\n",
    "    def transform(self, X):\n",
    "        return X[self.attribute_names].values\n",
    "\n",
    "\n",
    "class MyLabelBinarizer(TransformerMixin):\n",
    "    def __init__(self, *args, **kwargs):\n",
    "        self.encoder = MultiLabelBinarizer(*args, **kwargs)\n",
    "\n",
    "    def fit(self, x, y=0):\n",
    "        self.encoder.fit(x)\n",
    "        return self\n",
    "\n",
    "    def transform(self, x, y=0):\n",
    "        return self.encoder.transform(x)"
   ]
  },
  {
   "cell_type": "markdown",
   "metadata": {},
   "source": [
    "On a crée une classe Data_cleaning qui s'occupe de nettoyer les données en une fois.\n",
    "\n",
    "Afin de cleaner les datas, nous avons utilisé un pipeline.\n",
    "Pour utiliser ce pipeline, on a séparé les datas en 2 catégories :\n",
    "    1. les variables numériques ( de type float64 ou int64 )\n",
    "    2. les variables catégorielles ( la saison dans ce cas-ci )\n",
    "    \n",
    "- Les variables numériques\n",
    "    \n",
    "    1. Quelle méthode choisir entre MinMaxScaler() et StandarScaler() pour la mise à l'échelle des données ?   \n",
    "\n",
    "- les variables catégorielles\n",
    "\n",
    "    On applique un multiLabelBinazer pour pouvoir utiliser les variables catégorielles dans le modèle. (Le multiBinazer fait un OneHotEncoder pour chaque variables catégorielles)\n"
   ]
  },
  {
   "cell_type": "markdown",
   "metadata": {},
   "source": [
    "### MinMaxScaler ou StandardScaler\n",
    "\n",
    "Un choix important de mise à l'échelle est de choisir entre MinMaxScaler et StandardScaler. Nous avons trouvé une explication pour savoir  quelle méthode favoriser. Voici la source. \n",
    "\n",
    "Standardscaler:\n",
    "\n",
    "1.In Standardscaler, it assumes that data has normally distributed features and will scale them to zero mean and 1 standard deviation.\n",
    "\n",
    "2.All the features will be of the same scale after applying the scaler.\n",
    "\n",
    "Minmaxscaler :\n",
    "\n",
    "1.Minmaxscaler  shrinks the data within the range of -1 to 1(if there are negative values)\n",
    "\n",
    "2. This responds well if standard deviation is small and  is used when distribution is not Gaussian.This scaler is sensitive to outliers.\n",
    "\n",
    "\n",
    "source : https://intellipaat.com/community/9629/difference-between-standard-scaler-and-minmaxscaler\n",
    "\n",
    "Nous allons donc ploter les différentes variables numériques.\n",
    "\n",
    "Mais dans un premier temps, nous prenons un dataframe sur lequel on a appliqué l'engineering. Et on sélectionne les colonnes contenant des données de types réels mise sous forme de variables continues. Toutes les variables pouvant contenir des outliers.\n",
    "\n"
   ]
  },
  {
   "cell_type": "code",
   "execution_count": null,
   "metadata": {},
   "outputs": [],
   "source": [
    "import pandas as pd\n",
    "from sklearn.pipeline import FeatureUnion\n",
    "\n",
    "matchsTrainCleaning = matchsTrainCopy\n",
    "\n",
    "matchsTrainCleaning.drop(columns=['index'],inplace=True)\n",
    "\n",
    "matchsTrainCleaning.head()\n",
    "\n",
    "#On peut voir que les variables continues sont à partir de la colonne 7"
   ]
  },
  {
   "cell_type": "code",
   "execution_count": null,
   "metadata": {},
   "outputs": [],
   "source": [
    "#Les variables continues sont les colonnes 7 à 16\n",
    "matchsTrainNumVariables = matchsTrainCleaning.iloc[:,10:19]\n",
    "\n",
    "colLabels = matchsTrainNumVariables.columns\n",
    "\n",
    "matchsTrainNumVariables.head()\n",
    "\n",
    "matchsTrainNumVariables.describe()\n",
    "\n",
    "# Description de la variance"
   ]
  },
  {
   "cell_type": "markdown",
   "metadata": {},
   "source": [
    "## Data Visualization\n",
    "\n",
    "### Boxplot pour visualiser si présences d'outliers\n",
    "\n",
    "Les outliers sont indiqués sur le graphe par des losanges noirs.\n"
   ]
  },
  {
   "cell_type": "code",
   "execution_count": null,
   "metadata": {},
   "outputs": [],
   "source": [
    "\n",
    "import matplotlib.pyplot as plt\n",
    "import seaborn as sns\n",
    "\n",
    "## PLOTING BOXPLOT\n",
    "fig3,ax3 = plt.subplots(figsize=(50,30))\n",
    "ax = sns.boxplot(data=matchsTrainNumVariables,fliersize=20)\n",
    "ax.tick_params(labelsize=25)\n",
    "plt.show()"
   ]
  },
  {
   "cell_type": "markdown",
   "metadata": {},
   "source": [
    "### Distribution des différents variables via histogrammes"
   ]
  },
  {
   "cell_type": "code",
   "execution_count": null,
   "metadata": {},
   "outputs": [],
   "source": [
    "\n",
    "for i in range(0,matchsTrainNumVariables.shape[1]):\n",
    "    plt.figure(i)\n",
    "    sns.distplot(matchsTrainNumVariables.iloc[:,i])\n",
    "    plt.show()"
   ]
  },
  {
   "cell_type": "markdown",
   "metadata": {},
   "source": [
    "#### Conclusion choix du Scaler\n",
    "\n",
    "Etant donné que certaines distributions de variables continues ne suivent pas totalement une distribution Normale ( Gaussienne) et qu'on a vu sur le graphes des boxplots, des présences d'outliers, nous avons choisit le MinMaxScaler comme méthode de mise à l'échelle. La déviation standard des variables est aussi petites (voir tableau Out[5] ) ce qui vient appuyer le choix du MinMaxScaler.\n"
   ]
  },
  {
   "cell_type": "markdown",
   "metadata": {},
   "source": [
    "On fait donc via un pipeline la normalisation ainsi que l'application d'un OneHotEncoder via MultiLabelBinazer."
   ]
  },
  {
   "cell_type": "code",
   "execution_count": null,
   "metadata": {},
   "outputs": [],
   "source": [
    "class Data_Cleaning:\n",
    "    def __init__(self, matchs):\n",
    "        self.matchs = matchs\n",
    "\n",
    "    def run(self):\n",
    "\n",
    "        # Récupérer toutes les features du type float64\n",
    "        numerical_data = self.matchs.select_dtypes([\"float64\", 'int64'])\n",
    "        num_attribs = list(numerical_data)\n",
    "        # Changer le type des saisons d'objets à categorique\n",
    "\n",
    "        # ,'home_team_name','away_team_name','home_form','away_form']\n",
    "        categorical_attrib = ['season']\n",
    "        self.matchs[categorical_attrib] = self.matchs[categorical_attrib].apply(\n",
    "            lambda x: x.astype('category'))\n",
    "\n",
    "        # Utilisation de pipeline pour clean les data\n",
    "\n",
    "        num_pipeline = Pipeline([\n",
    "            ('selector', DataFrameSelector(num_attribs)),\n",
    "            ('min_max_scaler', StandardScaler()),\n",
    "        ])\n",
    "\n",
    "        categorical_pipeline = Pipeline([\n",
    "            ('selector', DataFrameSelector(categorical_attrib)),\n",
    "            ('label_binazer', MyLabelBinarizer()),\n",
    "        ])\n",
    "\n",
    "        from sklearn.pipeline import FeatureUnion\n",
    "        full_pipeline = FeatureUnion(transformer_list=[\n",
    "            (\"num_pipeline\", num_pipeline),\n",
    "            (\"categorical_pipeline\", categorical_pipeline)\n",
    "        ])\n",
    "\n",
    "        # data are clean here\n",
    "        match_cleaned = full_pipeline.fit_transform(self.matchs)\n",
    "        return match_cleaned\n",
    "\n",
    "    \n",
    "matchsTrainCleaned = Data_Cleaning(matchsTrainCopy).run()\n",
    "\n",
    "matchsTrainCleaned = pd.DataFrame(matchsTrainCleaned)\n",
    "\n",
    "matchsTrainCleaned.head()"
   ]
  },
  {
   "cell_type": "code",
   "execution_count": null,
   "metadata": {},
   "outputs": [],
   "source": []
  }
 ],
 "metadata": {
  "kernelspec": {
   "display_name": "Python 3",
   "language": "python",
   "name": "python3"
  },
  "language_info": {
   "codemirror_mode": {
    "name": "ipython",
    "version": 3
   },
   "file_extension": ".py",
   "mimetype": "text/x-python",
   "name": "python",
   "nbconvert_exporter": "python",
   "pygments_lexer": "ipython3",
   "version": "3.7.3"
  }
 },
 "nbformat": 4,
 "nbformat_minor": 2
}
