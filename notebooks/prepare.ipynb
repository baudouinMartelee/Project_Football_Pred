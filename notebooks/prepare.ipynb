{
 "cells": [
  {
   "cell_type": "markdown",
   "metadata": {},
   "source": [
    "# Data Preparing (Engineering)"
   ]
  },
  {
   "cell_type": "markdown",
   "metadata": {},
   "source": [
    "## Récuperation des tables nécessaires"
   ]
  },
  {
   "cell_type": "code",
   "execution_count": 1,
   "metadata": {
    "scrolled": true
   },
   "outputs": [],
   "source": [
    "import pandas as pd\n",
    "#Enlever les warnings\n",
    "import warnings\n",
    "warnings.simplefilter(\"ignore\")\n",
    "\n",
    "matchsTrain = pd.read_csv('../csv/X_Train.csv')\n",
    "matchsTest = pd.read_csv('../csv/X_Test.csv')\n",
    "players = pd.read_csv('../csv/Player.csv')\n",
    "teams = pd.read_csv('../csv/Team.csv')\n",
    "team_attr = pd.read_csv('../csv/Team_Attributes.csv')\n",
    "player_attr = pd.read_csv('../csv/Player_Attributes.csv')"
   ]
  },
  {
   "cell_type": "code",
   "execution_count": 2,
   "metadata": {
    "scrolled": true
   },
   "outputs": [],
   "source": [
    "# Determine the label of the match (0: tie , 1: home team won, -1: home team lost)\n",
    "def det_label(score1, score2):\n",
    "    if(score1 == score2):\n",
    "        return 0\n",
    "    if(score1 < score2):\n",
    "        return -1\n",
    "    else:\n",
    "        return 1"
   ]
  },
  {
   "cell_type": "code",
   "execution_count": 3,
   "metadata": {
    "scrolled": true
   },
   "outputs": [],
   "source": [
    "#On va travailler sur une copie du training set\n",
    "matchsTrainCopy = matchsTrain.copy()\n",
    "matchsTrainCopy['label'] = matchsTrainCopy.apply(lambda row: det_label(\n",
    "            row['home_team_goal'], row['away_team_goal']), axis=1)\n",
    "#Suppression des colonnes qui n'ont pas d'importances\n",
    "matchsTrainCopy.drop(['country_id', 'league_id','match_api_id', 'Unnamed: 0'], axis=1, inplace=True)"
   ]
  },
  {
   "cell_type": "markdown",
   "metadata": {},
   "source": [
    "## Cleaning des valeurs Nan présentent dans le training set"
   ]
  },
  {
   "cell_type": "code",
   "execution_count": 4,
   "metadata": {
    "scrolled": true
   },
   "outputs": [
    {
     "name": "stdout",
     "output_type": "stream",
     "text": [
      "<class 'pandas.core.frame.DataFrame'>\n",
      "RangeIndex: 20479 entries, 0 to 20478\n",
      "Data columns (total 76 columns):\n",
      "index               20479 non-null int64\n",
      "id                  20479 non-null int64\n",
      "season              20479 non-null object\n",
      "stage               20479 non-null int64\n",
      "date                20479 non-null object\n",
      "home_team_api_id    20479 non-null int64\n",
      "away_team_api_id    20479 non-null int64\n",
      "home_team_goal      20479 non-null int64\n",
      "away_team_goal      20479 non-null int64\n",
      "home_player_X1      19033 non-null float64\n",
      "home_player_X2      19033 non-null float64\n",
      "home_player_X3      19025 non-null float64\n",
      "home_player_X4      19025 non-null float64\n",
      "home_player_X5      19025 non-null float64\n",
      "home_player_X6      19025 non-null float64\n",
      "home_player_X7      19025 non-null float64\n",
      "home_player_X8      19025 non-null float64\n",
      "home_player_X9      19025 non-null float64\n",
      "home_player_X10     19025 non-null float64\n",
      "home_player_X11     19025 non-null float64\n",
      "away_player_X1      19025 non-null float64\n",
      "away_player_X2      19025 non-null float64\n",
      "away_player_X3      19025 non-null float64\n",
      "away_player_X4      19025 non-null float64\n",
      "away_player_X5      19025 non-null float64\n",
      "away_player_X6      19025 non-null float64\n",
      "away_player_X7      19025 non-null float64\n",
      "away_player_X8      19025 non-null float64\n",
      "away_player_X9      19024 non-null float64\n",
      "away_player_X10     19024 non-null float64\n",
      "away_player_X11     19019 non-null float64\n",
      "home_player_Y1      19033 non-null float64\n",
      "home_player_Y2      19033 non-null float64\n",
      "home_player_Y3      19025 non-null float64\n",
      "home_player_Y4      19025 non-null float64\n",
      "home_player_Y5      19025 non-null float64\n",
      "home_player_Y6      19025 non-null float64\n",
      "home_player_Y7      19025 non-null float64\n",
      "home_player_Y8      19025 non-null float64\n",
      "home_player_Y9      19025 non-null float64\n",
      "home_player_Y10     19025 non-null float64\n",
      "home_player_Y11     19025 non-null float64\n",
      "away_player_Y1      19025 non-null float64\n",
      "away_player_Y2      19025 non-null float64\n",
      "away_player_Y3      19025 non-null float64\n",
      "away_player_Y4      19025 non-null float64\n",
      "away_player_Y5      19025 non-null float64\n",
      "away_player_Y6      19025 non-null float64\n",
      "away_player_Y7      19025 non-null float64\n",
      "away_player_Y8      19025 non-null float64\n",
      "away_player_Y9      19024 non-null float64\n",
      "away_player_Y10     19024 non-null float64\n",
      "away_player_Y11     19019 non-null float64\n",
      "home_player_1       19513 non-null float64\n",
      "home_player_2       19442 non-null float64\n",
      "home_player_3       19466 non-null float64\n",
      "home_player_4       19425 non-null float64\n",
      "home_player_5       19444 non-null float64\n",
      "home_player_6       19417 non-null float64\n",
      "home_player_7       19520 non-null float64\n",
      "home_player_8       19448 non-null float64\n",
      "home_player_9       19465 non-null float64\n",
      "home_player_10      19342 non-null float64\n",
      "home_player_11      19232 non-null float64\n",
      "away_player_1       19495 non-null float64\n",
      "away_player_2       19460 non-null float64\n",
      "away_player_3       19439 non-null float64\n",
      "away_player_4       19448 non-null float64\n",
      "away_player_5       19425 non-null float64\n",
      "away_player_6       19430 non-null float64\n",
      "away_player_7       19498 non-null float64\n",
      "away_player_8       19409 non-null float64\n",
      "away_player_9       19433 non-null float64\n",
      "away_player_10      19348 non-null float64\n",
      "away_player_11      19264 non-null float64\n",
      "label               20479 non-null int64\n",
      "dtypes: float64(66), int64(8), object(2)\n",
      "memory usage: 11.9+ MB\n"
     ]
    }
   ],
   "source": [
    "matchsTrainCopy.info()"
   ]
  },
  {
   "cell_type": "markdown",
   "metadata": {},
   "source": [
    "Nous pouvons voir qu'il nous manque des données seulement dans les colonnes home/away_player_i et home/away_player_XYi où 1<i<11"
   ]
  },
  {
   "cell_type": "code",
   "execution_count": 5,
   "metadata": {
    "scrolled": true
   },
   "outputs": [],
   "source": [
    "#Nous remplissons les ids des joureurs manquants par 0\n",
    "matchsTrainCopy[['home_player_'+str(i) for i in range(1,12)]].fillna(0)\n",
    "matchsTrainCopy[['away_player_'+str(i) for i in range(1,12)]].fillna(0)\n",
    "# et tout le restant (les coordonnées des joueurs) par la valeurs qui revient le plus \n",
    "matchsTrainCopy = matchsTrainCopy.apply(lambda x: x.fillna(x.value_counts().index[0]))"
   ]
  },
  {
   "cell_type": "code",
   "execution_count": 6,
   "metadata": {
    "scrolled": true
   },
   "outputs": [
    {
     "name": "stdout",
     "output_type": "stream",
     "text": [
      "<class 'pandas.core.frame.DataFrame'>\n",
      "RangeIndex: 20479 entries, 0 to 20478\n",
      "Data columns (total 76 columns):\n",
      "index               20479 non-null int64\n",
      "id                  20479 non-null int64\n",
      "season              20479 non-null object\n",
      "stage               20479 non-null int64\n",
      "date                20479 non-null object\n",
      "home_team_api_id    20479 non-null int64\n",
      "away_team_api_id    20479 non-null int64\n",
      "home_team_goal      20479 non-null int64\n",
      "away_team_goal      20479 non-null int64\n",
      "home_player_X1      20479 non-null float64\n",
      "home_player_X2      20479 non-null float64\n",
      "home_player_X3      20479 non-null float64\n",
      "home_player_X4      20479 non-null float64\n",
      "home_player_X5      20479 non-null float64\n",
      "home_player_X6      20479 non-null float64\n",
      "home_player_X7      20479 non-null float64\n",
      "home_player_X8      20479 non-null float64\n",
      "home_player_X9      20479 non-null float64\n",
      "home_player_X10     20479 non-null float64\n",
      "home_player_X11     20479 non-null float64\n",
      "away_player_X1      20479 non-null float64\n",
      "away_player_X2      20479 non-null float64\n",
      "away_player_X3      20479 non-null float64\n",
      "away_player_X4      20479 non-null float64\n",
      "away_player_X5      20479 non-null float64\n",
      "away_player_X6      20479 non-null float64\n",
      "away_player_X7      20479 non-null float64\n",
      "away_player_X8      20479 non-null float64\n",
      "away_player_X9      20479 non-null float64\n",
      "away_player_X10     20479 non-null float64\n",
      "away_player_X11     20479 non-null float64\n",
      "home_player_Y1      20479 non-null float64\n",
      "home_player_Y2      20479 non-null float64\n",
      "home_player_Y3      20479 non-null float64\n",
      "home_player_Y4      20479 non-null float64\n",
      "home_player_Y5      20479 non-null float64\n",
      "home_player_Y6      20479 non-null float64\n",
      "home_player_Y7      20479 non-null float64\n",
      "home_player_Y8      20479 non-null float64\n",
      "home_player_Y9      20479 non-null float64\n",
      "home_player_Y10     20479 non-null float64\n",
      "home_player_Y11     20479 non-null float64\n",
      "away_player_Y1      20479 non-null float64\n",
      "away_player_Y2      20479 non-null float64\n",
      "away_player_Y3      20479 non-null float64\n",
      "away_player_Y4      20479 non-null float64\n",
      "away_player_Y5      20479 non-null float64\n",
      "away_player_Y6      20479 non-null float64\n",
      "away_player_Y7      20479 non-null float64\n",
      "away_player_Y8      20479 non-null float64\n",
      "away_player_Y9      20479 non-null float64\n",
      "away_player_Y10     20479 non-null float64\n",
      "away_player_Y11     20479 non-null float64\n",
      "home_player_1       20479 non-null float64\n",
      "home_player_2       20479 non-null float64\n",
      "home_player_3       20479 non-null float64\n",
      "home_player_4       20479 non-null float64\n",
      "home_player_5       20479 non-null float64\n",
      "home_player_6       20479 non-null float64\n",
      "home_player_7       20479 non-null float64\n",
      "home_player_8       20479 non-null float64\n",
      "home_player_9       20479 non-null float64\n",
      "home_player_10      20479 non-null float64\n",
      "home_player_11      20479 non-null float64\n",
      "away_player_1       20479 non-null float64\n",
      "away_player_2       20479 non-null float64\n",
      "away_player_3       20479 non-null float64\n",
      "away_player_4       20479 non-null float64\n",
      "away_player_5       20479 non-null float64\n",
      "away_player_6       20479 non-null float64\n",
      "away_player_7       20479 non-null float64\n",
      "away_player_8       20479 non-null float64\n",
      "away_player_9       20479 non-null float64\n",
      "away_player_10      20479 non-null float64\n",
      "away_player_11      20479 non-null float64\n",
      "label               20479 non-null int64\n",
      "dtypes: float64(66), int64(8), object(2)\n",
      "memory usage: 11.9+ MB\n"
     ]
    }
   ],
   "source": [
    "matchsTrainCopy.info()"
   ]
  },
  {
   "cell_type": "markdown",
   "metadata": {},
   "source": [
    "Il n'y a plus aucune valeur null"
   ]
  },
  {
   "cell_type": "markdown",
   "metadata": {},
   "source": [
    "## Exploitation des coordonnées XY des joueurs"
   ]
  },
  {
   "cell_type": "markdown",
   "metadata": {},
   "source": [
    "L'idée ici sera de transformer les coordonnées Y (nous n'allons pas utiliser les coordonnées X) en formation par exemple 442 "
   ]
  },
  {
   "cell_type": "code",
   "execution_count": 7,
   "metadata": {},
   "outputs": [],
   "source": [
    "matchsTrainCopy.drop(matchsTrainCopy.select(lambda col: col.startswith('home_player_X'), axis=1), axis=1, inplace=True)\n",
    "matchsTrainCopy.drop(matchsTrainCopy.select(lambda col: col.startswith('away_player_X'), axis=1), axis=1, inplace=True)"
   ]
  },
  {
   "cell_type": "code",
   "execution_count": 8,
   "metadata": {
    "scrolled": true
   },
   "outputs": [],
   "source": [
    "from collections import Counter\n",
    "#Fonction pour creer une formation apd des coordonnées Y des joureurs\n",
    "def create_formation(row, home):\n",
    "    list_form = list()  # Nous avons besoin d'une liste pour le Counter\n",
    "    if(home):\n",
    "        list_form = row.loc[row.index.str.startswith(\n",
    "            'home_player_Y')].tolist()[1:]  # Nous ne prenons pas le gardien\n",
    "    else:\n",
    "        list_form = row.loc[row.index.str.startswith(\n",
    "            'away_player_Y')].tolist()[1:]\n",
    "    # Nous creeons un dictionnaire avec les occurences des positions des joueurs\n",
    "    couter = Counter(list_form)\n",
    "    couter_val = couter.values()\n",
    "    # on concatene les valeurs pour arriver à la formation par ex : 442\n",
    "    form = ''.join((str(e) for e in list(couter_val)))\n",
    "    return form"
   ]
  },
  {
   "cell_type": "code",
   "execution_count": 9,
   "metadata": {
    "scrolled": true
   },
   "outputs": [],
   "source": [
    "matchsTrainCopy['home_form'] = matchsTrainCopy.apply(lambda x: create_formation(x, True), axis=1)\n",
    "matchsTrainCopy['away_form'] = matchsTrainCopy.apply(lambda x: create_formation(x, False), axis=1)"
   ]
  },
  {
   "cell_type": "code",
   "execution_count": 12,
   "metadata": {
    "scrolled": false
   },
   "outputs": [
    {
     "data": {
      "text/plain": [
       "442      6472\n",
       "4231     5037\n",
       "433      3428\n",
       "451       763\n",
       "4411      705\n",
       "4312      555\n",
       "352       530\n",
       "4141      484\n",
       "41212     455\n",
       "4222      423\n",
       "41221     301\n",
       "343       227\n",
       "4321      226\n",
       "4132      202\n",
       "532       149\n",
       "3421      135\n",
       "3412      112\n",
       "3511      101\n",
       "4123       66\n",
       "541        52\n",
       "4213       30\n",
       "1342        8\n",
       "3232        7\n",
       "3331        5\n",
       "42112       3\n",
       "631         1\n",
       "5311        1\n",
       "42211       1\n",
       "Name: home_form, dtype: int64"
      ]
     },
     "execution_count": 12,
     "metadata": {},
     "output_type": "execute_result"
    }
   ],
   "source": [
    "matchsTrainCopy['home_form'].value_counts()"
   ]
  },
  {
   "cell_type": "code",
   "execution_count": 11,
   "metadata": {
    "scrolled": true
   },
   "outputs": [
    {
     "data": {
      "text/plain": [
       "442      6231\n",
       "4231     5054\n",
       "433      3438\n",
       "451       968\n",
       "4411      670\n",
       "352       557\n",
       "4141      550\n",
       "4312      485\n",
       "4222      428\n",
       "41212     388\n",
       "41221     281\n",
       "4321      243\n",
       "343       232\n",
       "4132      196\n",
       "532       143\n",
       "3421      133\n",
       "3511      117\n",
       "541       116\n",
       "3412      115\n",
       "4123       75\n",
       "4213       27\n",
       "3232       14\n",
       "3331        9\n",
       "42112       2\n",
       "5311        2\n",
       "32311       1\n",
       "41122       1\n",
       "33211       1\n",
       "31312       1\n",
       "145         1\n",
       "Name: away_form, dtype: int64"
      ]
     },
     "execution_count": 11,
     "metadata": {},
     "output_type": "execute_result"
    }
   ],
   "source": [
    "matchsTrainCopy['away_form'].value_counts()"
   ]
  },
  {
   "cell_type": "code",
   "execution_count": 13,
   "metadata": {},
   "outputs": [],
   "source": [
    "#On drop les coordonnées Y\n",
    "matchsTrainCopy.drop(matchsTrainCopy.select(lambda col: col.startswith('home_player_Y'), axis=1), axis=1, inplace=True)\n",
    "matchsTrainCopy.drop(matchsTrainCopy.select(lambda col: col.startswith('away_player_Y'), axis=1), axis=1, inplace=True)"
   ]
  },
  {
   "cell_type": "markdown",
   "metadata": {},
   "source": [
    "## Ajout des notes générales des joueurs"
   ]
  },
  {
   "cell_type": "markdown",
   "metadata": {},
   "source": [
    "Pour ajouter les notes des joueurs, nous allons créer un dictionnaire avec comme clé un tuple avec l'api id et la date et comme valeur sa note générale ( En effet, la note d'un joueur varie en fonction du temps et un même joueur a donc plusieurs notes dans la table Players Attributes"
   ]
  },
  {
   "cell_type": "code",
   "execution_count": 15,
   "metadata": {},
   "outputs": [],
   "source": [
    "def create_player_overall_dict(player_attr):\n",
    "    ply_attr = player_attr[['player_api_id', 'overall_rating', 'date']]\n",
    "    ply_attr['date'] = ply_attr['date'].apply(lambda x: x.split('-')[0]) # on retient seulement l'année\n",
    "    ply_attr = ply_attr.groupby([ply_attr['player_api_id'], ply_attr['date']]).mean()\n",
    "\n",
    "    return ply_attr.to_dict()['overall_rating']\n",
    "\n",
    "ply_attr_overall_dict = create_player_overall_dict(player_attr)"
   ]
  },
  {
   "cell_type": "markdown",
   "metadata": {},
   "source": [
    "Dans la table Players Attributs, il est possible qu'un joueur n'ai pas une note à une certaine date. Ce qui va provoquer un crash lorsqu'on voudra acceder à cette clé là (id,date)"
   ]
  },
  {
   "cell_type": "code",
   "execution_count": 16,
   "metadata": {},
   "outputs": [],
   "source": [
    "def dict_key_checker(attr_dict, api_id, date):\n",
    "    if(api_id == 0):\n",
    "        return 0\n",
    "    try:\n",
    "        res = attr_dict[(api_id, str(date))]\n",
    "    except KeyError:\n",
    "        date = int(date)\n",
    "        dates = [int(k[1]) for k in attr_dict if k[0] == api_id]\n",
    "        if not dates:  # si l'api id n'est pas présente dans le dictionnaire\n",
    "            return 0\n",
    "        res = attr_dict[(api_id, str(min(dates, key=lambda key: abs(key-date))))] # si la date est pas présente , \n",
    "        #on prend la date la plus proche\n",
    "    return res"
   ]
  },
  {
   "cell_type": "code",
   "execution_count": 18,
   "metadata": {},
   "outputs": [],
   "source": [
    "for i in range(1, 12):\n",
    "    matchsTrainCopy['home_player_overall_'+str(i)] = matchsTrainCopy.apply(lambda x: \n",
    "            dict_key_checker(ply_attr_overall_dict, int(x['home_player_'+str(i)]), x['date'].split('-')[0])/99, axis=1)\n",
    "    matchsTrainCopy['away_player_overall_'+str(i)] = matchsTrainCopy.apply(lambda x: \n",
    "            dict_key_checker(ply_attr_overall_dict, int(x['away_player_'+str(i)]), x['date'].split('-')[0])/99, axis=1)"
   ]
  },
  {
   "cell_type": "markdown",
   "metadata": {},
   "source": [
    "Nous divisons la note par 99 car la note générale est une note entre 0 et 99. Ca nous permettera normaliser la note et se retrouver avec une valeur entre 0 et 99"
   ]
  },
  {
   "cell_type": "code",
   "execution_count": 19,
   "metadata": {},
   "outputs": [
    {
     "data": {
      "text/html": [
       "<div>\n",
       "<style scoped>\n",
       "    .dataframe tbody tr th:only-of-type {\n",
       "        vertical-align: middle;\n",
       "    }\n",
       "\n",
       "    .dataframe tbody tr th {\n",
       "        vertical-align: top;\n",
       "    }\n",
       "\n",
       "    .dataframe thead th {\n",
       "        text-align: right;\n",
       "    }\n",
       "</style>\n",
       "<table border=\"1\" class=\"dataframe\">\n",
       "  <thead>\n",
       "    <tr style=\"text-align: right;\">\n",
       "      <th></th>\n",
       "      <th>index</th>\n",
       "      <th>id</th>\n",
       "      <th>season</th>\n",
       "      <th>stage</th>\n",
       "      <th>date</th>\n",
       "      <th>home_team_api_id</th>\n",
       "      <th>away_team_api_id</th>\n",
       "      <th>home_team_goal</th>\n",
       "      <th>away_team_goal</th>\n",
       "      <th>home_player_1</th>\n",
       "      <th>...</th>\n",
       "      <th>home_player_overall_7</th>\n",
       "      <th>away_player_overall_7</th>\n",
       "      <th>home_player_overall_8</th>\n",
       "      <th>away_player_overall_8</th>\n",
       "      <th>home_player_overall_9</th>\n",
       "      <th>away_player_overall_9</th>\n",
       "      <th>home_player_overall_10</th>\n",
       "      <th>away_player_overall_10</th>\n",
       "      <th>home_player_overall_11</th>\n",
       "      <th>away_player_overall_11</th>\n",
       "    </tr>\n",
       "  </thead>\n",
       "  <tbody>\n",
       "    <tr>\n",
       "      <th>0</th>\n",
       "      <td>0</td>\n",
       "      <td>11103</td>\n",
       "      <td>2010/2011</td>\n",
       "      <td>17</td>\n",
       "      <td>2010-12-19 00:00:00</td>\n",
       "      <td>8533</td>\n",
       "      <td>9885</td>\n",
       "      <td>1</td>\n",
       "      <td>1</td>\n",
       "      <td>39477.0</td>\n",
       "      <td>...</td>\n",
       "      <td>0.727273</td>\n",
       "      <td>0.606061</td>\n",
       "      <td>0.747475</td>\n",
       "      <td>0.803030</td>\n",
       "      <td>0.696970</td>\n",
       "      <td>0.792929</td>\n",
       "      <td>0.777778</td>\n",
       "      <td>0.818182</td>\n",
       "      <td>0.686869</td>\n",
       "      <td>0.823232</td>\n",
       "    </tr>\n",
       "    <tr>\n",
       "      <th>1</th>\n",
       "      <td>1</td>\n",
       "      <td>16167</td>\n",
       "      <td>2009/2010</td>\n",
       "      <td>5</td>\n",
       "      <td>2009-08-29 00:00:00</td>\n",
       "      <td>8245</td>\n",
       "      <td>2186</td>\n",
       "      <td>1</td>\n",
       "      <td>1</td>\n",
       "      <td>13471.0</td>\n",
       "      <td>...</td>\n",
       "      <td>0.777778</td>\n",
       "      <td>0.727273</td>\n",
       "      <td>0.646465</td>\n",
       "      <td>0.767677</td>\n",
       "      <td>0.636364</td>\n",
       "      <td>0.787879</td>\n",
       "      <td>0.722222</td>\n",
       "      <td>0.893939</td>\n",
       "      <td>0.863636</td>\n",
       "      <td>0.777778</td>\n",
       "    </tr>\n",
       "    <tr>\n",
       "      <th>2</th>\n",
       "      <td>2</td>\n",
       "      <td>11222</td>\n",
       "      <td>2010/2011</td>\n",
       "      <td>28</td>\n",
       "      <td>2011-03-06 00:00:00</td>\n",
       "      <td>9882</td>\n",
       "      <td>9880</td>\n",
       "      <td>2</td>\n",
       "      <td>3</td>\n",
       "      <td>27691.0</td>\n",
       "      <td>...</td>\n",
       "      <td>0.782828</td>\n",
       "      <td>0.722222</td>\n",
       "      <td>0.717172</td>\n",
       "      <td>0.732323</td>\n",
       "      <td>0.747475</td>\n",
       "      <td>0.767677</td>\n",
       "      <td>0.752525</td>\n",
       "      <td>0.782828</td>\n",
       "      <td>0.732323</td>\n",
       "      <td>0.696970</td>\n",
       "    </tr>\n",
       "    <tr>\n",
       "      <th>3</th>\n",
       "      <td>3</td>\n",
       "      <td>11018</td>\n",
       "      <td>2010/2011</td>\n",
       "      <td>1</td>\n",
       "      <td>2010-08-29 00:00:00</td>\n",
       "      <td>9976</td>\n",
       "      <td>9885</td>\n",
       "      <td>1</td>\n",
       "      <td>0</td>\n",
       "      <td>41818.0</td>\n",
       "      <td>...</td>\n",
       "      <td>0.757576</td>\n",
       "      <td>0.777778</td>\n",
       "      <td>0.707071</td>\n",
       "      <td>0.808081</td>\n",
       "      <td>0.727273</td>\n",
       "      <td>0.792929</td>\n",
       "      <td>0.696970</td>\n",
       "      <td>0.823232</td>\n",
       "      <td>0.787879</td>\n",
       "      <td>0.823232</td>\n",
       "    </tr>\n",
       "    <tr>\n",
       "      <th>4</th>\n",
       "      <td>4</td>\n",
       "      <td>25596</td>\n",
       "      <td>2013/2014</td>\n",
       "      <td>5</td>\n",
       "      <td>2013-08-10 00:00:00</td>\n",
       "      <td>9930</td>\n",
       "      <td>10192</td>\n",
       "      <td>0</td>\n",
       "      <td>4</td>\n",
       "      <td>67374.0</td>\n",
       "      <td>...</td>\n",
       "      <td>0.601010</td>\n",
       "      <td>0.640693</td>\n",
       "      <td>0.626263</td>\n",
       "      <td>0.696970</td>\n",
       "      <td>0.572391</td>\n",
       "      <td>0.654545</td>\n",
       "      <td>0.612795</td>\n",
       "      <td>0.660895</td>\n",
       "      <td>0.851515</td>\n",
       "      <td>0.704545</td>\n",
       "    </tr>\n",
       "  </tbody>\n",
       "</table>\n",
       "<p>5 rows × 56 columns</p>\n",
       "</div>"
      ],
      "text/plain": [
       "   index     id     season  stage                 date  home_team_api_id  \\\n",
       "0      0  11103  2010/2011     17  2010-12-19 00:00:00              8533   \n",
       "1      1  16167  2009/2010      5  2009-08-29 00:00:00              8245   \n",
       "2      2  11222  2010/2011     28  2011-03-06 00:00:00              9882   \n",
       "3      3  11018  2010/2011      1  2010-08-29 00:00:00              9976   \n",
       "4      4  25596  2013/2014      5  2013-08-10 00:00:00              9930   \n",
       "\n",
       "   away_team_api_id  home_team_goal  away_team_goal  home_player_1  ...  \\\n",
       "0              9885               1               1        39477.0  ...   \n",
       "1              2186               1               1        13471.0  ...   \n",
       "2              9880               2               3        27691.0  ...   \n",
       "3              9885               1               0        41818.0  ...   \n",
       "4             10192               0               4        67374.0  ...   \n",
       "\n",
       "   home_player_overall_7  away_player_overall_7  home_player_overall_8  \\\n",
       "0               0.727273               0.606061               0.747475   \n",
       "1               0.777778               0.727273               0.646465   \n",
       "2               0.782828               0.722222               0.717172   \n",
       "3               0.757576               0.777778               0.707071   \n",
       "4               0.601010               0.640693               0.626263   \n",
       "\n",
       "   away_player_overall_8  home_player_overall_9  away_player_overall_9  \\\n",
       "0               0.803030               0.696970               0.792929   \n",
       "1               0.767677               0.636364               0.787879   \n",
       "2               0.732323               0.747475               0.767677   \n",
       "3               0.808081               0.727273               0.792929   \n",
       "4               0.696970               0.572391               0.654545   \n",
       "\n",
       "   home_player_overall_10  away_player_overall_10  home_player_overall_11  \\\n",
       "0                0.777778                0.818182                0.686869   \n",
       "1                0.722222                0.893939                0.863636   \n",
       "2                0.752525                0.782828                0.732323   \n",
       "3                0.696970                0.823232                0.787879   \n",
       "4                0.612795                0.660895                0.851515   \n",
       "\n",
       "   away_player_overall_11  \n",
       "0                0.823232  \n",
       "1                0.777778  \n",
       "2                0.696970  \n",
       "3                0.823232  \n",
       "4                0.704545  \n",
       "\n",
       "[5 rows x 56 columns]"
      ]
     },
     "execution_count": 19,
     "metadata": {},
     "output_type": "execute_result"
    }
   ],
   "source": [
    "matchsTrainCopy.head()"
   ]
  },
  {
   "cell_type": "code",
   "execution_count": 21,
   "metadata": {},
   "outputs": [
    {
     "data": {
      "text/plain": [
       "home_team_goal            0.620839\n",
       "home_player_overall_7     0.153311\n",
       "home_player_overall_8     0.145521\n",
       "home_player_overall_11    0.144683\n",
       "home_player_overall_3     0.142765\n",
       "home_player_overall_5     0.141492\n",
       "home_player_overall_2     0.140775\n",
       "home_player_overall_9     0.140008\n",
       "home_player_overall_4     0.138448\n",
       "home_player_overall_6     0.137211\n",
       "home_player_overall_10    0.131809\n",
       "home_player_overall_1     0.126671\n",
       "away_player_1             0.024024\n",
       "away_player_3             0.016283\n",
       "away_player_10            0.014090\n",
       "away_team_api_id          0.013994\n",
       "away_player_11            0.011715\n",
       "away_player_8             0.011287\n",
       "away_player_7             0.011281\n",
       "away_player_2             0.011142\n",
       "away_player_5             0.007451\n",
       "away_player_6             0.005934\n",
       "index                     0.002380\n",
       "away_player_4             0.001284\n",
       "stage                    -0.000140\n",
       "away_player_9            -0.000236\n",
       "id                       -0.011120\n",
       "home_player_9            -0.017475\n",
       "home_player_4            -0.017918\n",
       "home_player_3            -0.019444\n",
       "home_team_api_id         -0.021259\n",
       "home_player_8            -0.026501\n",
       "home_player_1            -0.031434\n",
       "home_player_6            -0.031953\n",
       "home_player_7            -0.033923\n",
       "home_player_10           -0.034674\n",
       "home_player_2            -0.035195\n",
       "home_player_11           -0.038576\n",
       "home_player_5            -0.040618\n",
       "away_player_overall_2    -0.096753\n",
       "away_player_overall_1    -0.100063\n",
       "away_player_overall_5    -0.102859\n",
       "away_player_overall_6    -0.103988\n",
       "away_player_overall_4    -0.105502\n",
       "away_player_overall_10   -0.109445\n",
       "away_player_overall_3    -0.113709\n",
       "away_player_overall_11   -0.117713\n",
       "away_player_overall_9    -0.121315\n",
       "away_player_overall_8    -0.125538\n",
       "away_player_overall_7    -0.125600\n",
       "away_team_goal           -0.633301\n",
       "dtype: float64"
      ]
     },
     "execution_count": 21,
     "metadata": {},
     "output_type": "execute_result"
    }
   ],
   "source": [
    "matchsTrainCopy.corrwith(matchsTrainCopy['label']).sort_values(ascending=False)[1:]"
   ]
  },
  {
   "cell_type": "markdown",
   "metadata": {},
   "source": [
    "## Ajout du potentiel des joueurs"
   ]
  },
  {
   "cell_type": "markdown",
   "metadata": {},
   "source": [
    "Nous recommencons la meme manipulation pour ajouter le potentiel des joueurs"
   ]
  },
  {
   "cell_type": "code",
   "execution_count": 22,
   "metadata": {},
   "outputs": [],
   "source": [
    "def create_player_pot_dict(player_attr):\n",
    "    ply_attr = player_attr[['player_api_id', 'potential', 'date']]\n",
    "    ply_attr['date'] = ply_attr['date'].apply(lambda x: x.split('-')[0])\n",
    "    ply_attr = ply_attr.groupby([ply_attr['player_api_id'], ply_attr['date']]).mean()\n",
    "\n",
    "    return ply_attr.to_dict()['potential']\n",
    "\n",
    "ply_attr_pot_dict = create_player_pot_dict(player_attr)\n",
    "\n",
    "for i in range(1, 12):\n",
    "    matchsTrainCopy['home_player_potential_'+str(i)] = matchsTrainCopy.apply(lambda x: \n",
    "        dict_key_checker(ply_attr_pot_dict, int(x['home_player_'+str(i)]), x['date'].split('-')[0])/99, axis=1)\n",
    "    matchsTrainCopy['away_player_potential_'+str(i)] = matchsTrainCopy.apply(lambda x: \n",
    "        dict_key_checker(ply_attr_pot_dict, int(x['away_player_'+str(i)]), x['date'].split('-')[0])/99, axis=1)"
   ]
  },
  {
   "cell_type": "code",
   "execution_count": 23,
   "metadata": {},
   "outputs": [
    {
     "data": {
      "text/plain": [
       "home_team_goal              0.620839\n",
       "home_player_overall_7       0.153311\n",
       "home_player_potential_11    0.153011\n",
       "home_player_potential_8     0.150988\n",
       "home_player_potential_7     0.146234\n",
       "home_player_overall_8       0.145521\n",
       "home_player_overall_11      0.144683\n",
       "home_player_potential_4     0.143203\n",
       "home_player_potential_9     0.143035\n",
       "home_player_overall_3       0.142765\n",
       "home_player_potential_10    0.142213\n",
       "home_player_overall_5       0.141492\n",
       "home_player_potential_5     0.141276\n",
       "home_player_overall_2       0.140775\n",
       "home_player_potential_3     0.140220\n",
       "home_player_overall_9       0.140008\n",
       "home_player_overall_4       0.138448\n",
       "home_player_potential_2     0.137440\n",
       "home_player_overall_6       0.137211\n",
       "home_player_potential_6     0.133960\n",
       "home_player_overall_10      0.131809\n",
       "home_player_potential_1     0.129822\n",
       "home_player_overall_1       0.126671\n",
       "away_player_1               0.024024\n",
       "away_player_3               0.016283\n",
       "away_player_10              0.014090\n",
       "away_team_api_id            0.013994\n",
       "away_player_11              0.011715\n",
       "away_player_8               0.011287\n",
       "away_player_7               0.011281\n",
       "                              ...   \n",
       "home_player_1              -0.031434\n",
       "home_player_6              -0.031953\n",
       "home_player_7              -0.033923\n",
       "home_player_10             -0.034674\n",
       "home_player_2              -0.035195\n",
       "home_player_11             -0.038576\n",
       "home_player_5              -0.040618\n",
       "away_player_potential_1    -0.090189\n",
       "away_player_overall_2      -0.096753\n",
       "away_player_potential_2    -0.098561\n",
       "away_player_overall_1      -0.100063\n",
       "away_player_potential_5    -0.100172\n",
       "away_player_overall_5      -0.102859\n",
       "away_player_overall_6      -0.103988\n",
       "away_player_potential_10   -0.104278\n",
       "away_player_overall_4      -0.105502\n",
       "away_player_potential_3    -0.108463\n",
       "away_player_overall_10     -0.109445\n",
       "away_player_potential_4    -0.109785\n",
       "away_player_potential_6    -0.112435\n",
       "away_player_potential_7    -0.113611\n",
       "away_player_overall_3      -0.113709\n",
       "away_player_potential_9    -0.115320\n",
       "away_player_overall_11     -0.117713\n",
       "away_player_potential_11   -0.119112\n",
       "away_player_overall_9      -0.121315\n",
       "away_player_overall_8      -0.125538\n",
       "away_player_overall_7      -0.125600\n",
       "away_player_potential_8    -0.125654\n",
       "away_team_goal             -0.633301\n",
       "Length: 73, dtype: float64"
      ]
     },
     "execution_count": 23,
     "metadata": {},
     "output_type": "execute_result"
    }
   ],
   "source": [
    "matchsTrainCopy.corrwith(matchsTrainCopy['label']).sort_values(ascending=False)[1:]"
   ]
  },
  {
   "cell_type": "markdown",
   "metadata": {},
   "source": [
    "## Ajout des attributs defensePressure et le buildUpPlayPassing "
   ]
  },
  {
   "cell_type": "code",
   "execution_count": null,
   "metadata": {
    "scrolled": true
   },
   "outputs": [],
   "source": [
    "def create_team_attr_dict(teams_attr, key):\n",
    "    tms_attr = teams_attr[['team_api_id', 'date','defencePressure', 'buildUpPlayPassing']]\n",
    "    tms_attr['date'] = tms_attr['date'].apply(lambda x: x.split('-')[0])\n",
    "    tms_attr = tms_attr.groupby([tms_attr['team_api_id'], tms_attr['date']]).mean()\n",
    "    return tms_attr.to_dict()[key]\n",
    "\n",
    "self.teams_buildUp_dict = create_team_attr_chance_dict(teams_attr, 'buildUpPlayPassing')\n",
    "self.teams_def_press_dict = create_team_attr_chance_dict(teams_attr, 'defencePressure')\n",
    "\n",
    "self.matchs['home_build_up'] = self.matchs.apply(lambda x: \n",
    "        dict_key_checker(self.teams_shooting_dict, x['home_team_api_id'], x['date'].split('-')[0])/99, axis=1)\n",
    "self.matchs['away_build_up'] = self.matchs.apply(lambda x: \n",
    "        dict_key_checker(self.teams_shooting_dict, x['away_team_api_id'], x['date'].split('-')[0])/99, axis=1)\n",
    "self.matchs['home_def_press'] = self.matchs.apply(lambda x: \n",
    "        dict_key_checker(self.teams_def_dict, x['home_team_api_id'], x['date'].split('-')[0])/99, axis=1)\n",
    "self.matchs['away_def_press'] = self.matchs.apply(lambda x: \n",
    "        dict_key_checker(self.teams_def_dict, x['away_team_api_id'], x['date'].split('-')[0])/99, axis=1)"
   ]
  }
 ],
 "metadata": {
  "kernelspec": {
   "display_name": "Python 3",
   "language": "python",
   "name": "python3"
  },
  "language_info": {
   "codemirror_mode": {
    "name": "ipython",
    "version": 3
   },
   "file_extension": ".py",
   "mimetype": "text/x-python",
   "name": "python",
   "nbconvert_exporter": "python",
   "pygments_lexer": "ipython3",
   "version": "3.7.3"
  }
 },
 "nbformat": 4,
 "nbformat_minor": 2
}
