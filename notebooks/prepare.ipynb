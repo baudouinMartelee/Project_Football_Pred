{
 "cells": [
  {
   "cell_type": "markdown",
   "metadata": {},
   "source": [
    "# Data Preparing (Engineering)"
   ]
  },
  {
   "cell_type": "markdown",
   "metadata": {},
   "source": [
    "## Récuperation des tables nécessaires"
   ]
  },
  {
   "cell_type": "code",
   "execution_count": 1,
   "metadata": {},
   "outputs": [],
   "source": [
    "import pandas as pd\n",
    "\n",
    "matchsTrain = pd.read_csv('../csv/X_Train.csv')\n",
    "matchsTest = pd.read_csv('../csv/X_Test.csv')\n",
    "players = pd.read_csv('../csv/Player.csv')\n",
    "teams = pd.read_csv('../csv/Team.csv')\n",
    "team_attr = pd.read_csv('../csv/Team_Attributes.csv')\n",
    "player_attr = pd.read_csv('../csv/Player_Attributes.csv')"
   ]
  },
  {
   "cell_type": "code",
   "execution_count": 4,
   "metadata": {},
   "outputs": [],
   "source": [
    "# Determine the label of the match (0: tie , 1: home team won, -1: home team lost)\n",
    "def det_label(score1, score2):\n",
    "    if(score1 == score2):\n",
    "        return 0\n",
    "    if(score1 < score2):\n",
    "        return -1\n",
    "    else:\n",
    "        return 1"
   ]
  },
  {
   "cell_type": "code",
   "execution_count": 5,
   "metadata": {},
   "outputs": [],
   "source": [
    "#On va travailler sur une copie du training set\n",
    "matchsTrainCopy = matchsTrain.copy()\n",
    "matchsTrainCopy['label'] = matchsTrainCopy.apply(lambda row: det_label(\n",
    "            row['home_team_goal'], row['away_team_goal']), axis=1)\n",
    "#Suppression des colonnes qui n'ont pas d'importances\n",
    "matchsTrainCopy.drop(['country_id', 'league_id','match_api_id', 'Unnamed: 0'], axis=1, inplace=True)"
   ]
  },
  {
   "cell_type": "markdown",
   "metadata": {},
   "source": [
    "## Cleaning des valeurs Nan présentent dans le training set"
   ]
  },
  {
   "cell_type": "code",
   "execution_count": 6,
   "metadata": {},
   "outputs": [
    {
     "name": "stdout",
     "output_type": "stream",
     "text": [
      "<class 'pandas.core.frame.DataFrame'>\n",
      "RangeIndex: 20479 entries, 0 to 20478\n",
      "Data columns (total 76 columns):\n",
      "index               20479 non-null int64\n",
      "id                  20479 non-null int64\n",
      "season              20479 non-null object\n",
      "stage               20479 non-null int64\n",
      "date                20479 non-null object\n",
      "home_team_api_id    20479 non-null int64\n",
      "away_team_api_id    20479 non-null int64\n",
      "home_team_goal      20479 non-null int64\n",
      "away_team_goal      20479 non-null int64\n",
      "home_player_X1      19033 non-null float64\n",
      "home_player_X2      19033 non-null float64\n",
      "home_player_X3      19025 non-null float64\n",
      "home_player_X4      19025 non-null float64\n",
      "home_player_X5      19025 non-null float64\n",
      "home_player_X6      19025 non-null float64\n",
      "home_player_X7      19025 non-null float64\n",
      "home_player_X8      19025 non-null float64\n",
      "home_player_X9      19025 non-null float64\n",
      "home_player_X10     19025 non-null float64\n",
      "home_player_X11     19025 non-null float64\n",
      "away_player_X1      19025 non-null float64\n",
      "away_player_X2      19025 non-null float64\n",
      "away_player_X3      19025 non-null float64\n",
      "away_player_X4      19025 non-null float64\n",
      "away_player_X5      19025 non-null float64\n",
      "away_player_X6      19025 non-null float64\n",
      "away_player_X7      19025 non-null float64\n",
      "away_player_X8      19025 non-null float64\n",
      "away_player_X9      19024 non-null float64\n",
      "away_player_X10     19024 non-null float64\n",
      "away_player_X11     19019 non-null float64\n",
      "home_player_Y1      19033 non-null float64\n",
      "home_player_Y2      19033 non-null float64\n",
      "home_player_Y3      19025 non-null float64\n",
      "home_player_Y4      19025 non-null float64\n",
      "home_player_Y5      19025 non-null float64\n",
      "home_player_Y6      19025 non-null float64\n",
      "home_player_Y7      19025 non-null float64\n",
      "home_player_Y8      19025 non-null float64\n",
      "home_player_Y9      19025 non-null float64\n",
      "home_player_Y10     19025 non-null float64\n",
      "home_player_Y11     19025 non-null float64\n",
      "away_player_Y1      19025 non-null float64\n",
      "away_player_Y2      19025 non-null float64\n",
      "away_player_Y3      19025 non-null float64\n",
      "away_player_Y4      19025 non-null float64\n",
      "away_player_Y5      19025 non-null float64\n",
      "away_player_Y6      19025 non-null float64\n",
      "away_player_Y7      19025 non-null float64\n",
      "away_player_Y8      19025 non-null float64\n",
      "away_player_Y9      19024 non-null float64\n",
      "away_player_Y10     19024 non-null float64\n",
      "away_player_Y11     19019 non-null float64\n",
      "home_player_1       19513 non-null float64\n",
      "home_player_2       19442 non-null float64\n",
      "home_player_3       19466 non-null float64\n",
      "home_player_4       19425 non-null float64\n",
      "home_player_5       19444 non-null float64\n",
      "home_player_6       19417 non-null float64\n",
      "home_player_7       19520 non-null float64\n",
      "home_player_8       19448 non-null float64\n",
      "home_player_9       19465 non-null float64\n",
      "home_player_10      19342 non-null float64\n",
      "home_player_11      19232 non-null float64\n",
      "away_player_1       19495 non-null float64\n",
      "away_player_2       19460 non-null float64\n",
      "away_player_3       19439 non-null float64\n",
      "away_player_4       19448 non-null float64\n",
      "away_player_5       19425 non-null float64\n",
      "away_player_6       19430 non-null float64\n",
      "away_player_7       19498 non-null float64\n",
      "away_player_8       19409 non-null float64\n",
      "away_player_9       19433 non-null float64\n",
      "away_player_10      19348 non-null float64\n",
      "away_player_11      19264 non-null float64\n",
      "label               20479 non-null int64\n",
      "dtypes: float64(66), int64(8), object(2)\n",
      "memory usage: 11.9+ MB\n"
     ]
    }
   ],
   "source": [
    "matchsTrainCopy.info()"
   ]
  },
  {
   "cell_type": "markdown",
   "metadata": {},
   "source": [
    "Nous pouvons voir qu'il nous manque des données seulement dans les colonnes home/away_player_i et home/away_player_XYi où 1<i<11"
   ]
  },
  {
   "cell_type": "code",
   "execution_count": 8,
   "metadata": {},
   "outputs": [],
   "source": [
    "#Nous remplissons les ids des joureurs manquants par 0\n",
    "matchsTrainCopy[['home_player_'+str(i) for i in range(1,12)]].fillna(0)\n",
    "matchsTrainCopy[['away_player_'+str(i) for i in range(1,12)]].fillna(0)\n",
    "# et tout le restant (les coordonnées des joueurs) par la valeurs qui revient le plus \n",
    "matchsTrainCopy = matchsTrainCopy.apply(lambda x: x.fillna(x.value_counts().index[0]))"
   ]
  },
  {
   "cell_type": "code",
   "execution_count": 9,
   "metadata": {},
   "outputs": [
    {
     "name": "stdout",
     "output_type": "stream",
     "text": [
      "<class 'pandas.core.frame.DataFrame'>\n",
      "RangeIndex: 20479 entries, 0 to 20478\n",
      "Data columns (total 76 columns):\n",
      "index               20479 non-null int64\n",
      "id                  20479 non-null int64\n",
      "season              20479 non-null object\n",
      "stage               20479 non-null int64\n",
      "date                20479 non-null object\n",
      "home_team_api_id    20479 non-null int64\n",
      "away_team_api_id    20479 non-null int64\n",
      "home_team_goal      20479 non-null int64\n",
      "away_team_goal      20479 non-null int64\n",
      "home_player_X1      20479 non-null float64\n",
      "home_player_X2      20479 non-null float64\n",
      "home_player_X3      20479 non-null float64\n",
      "home_player_X4      20479 non-null float64\n",
      "home_player_X5      20479 non-null float64\n",
      "home_player_X6      20479 non-null float64\n",
      "home_player_X7      20479 non-null float64\n",
      "home_player_X8      20479 non-null float64\n",
      "home_player_X9      20479 non-null float64\n",
      "home_player_X10     20479 non-null float64\n",
      "home_player_X11     20479 non-null float64\n",
      "away_player_X1      20479 non-null float64\n",
      "away_player_X2      20479 non-null float64\n",
      "away_player_X3      20479 non-null float64\n",
      "away_player_X4      20479 non-null float64\n",
      "away_player_X5      20479 non-null float64\n",
      "away_player_X6      20479 non-null float64\n",
      "away_player_X7      20479 non-null float64\n",
      "away_player_X8      20479 non-null float64\n",
      "away_player_X9      20479 non-null float64\n",
      "away_player_X10     20479 non-null float64\n",
      "away_player_X11     20479 non-null float64\n",
      "home_player_Y1      20479 non-null float64\n",
      "home_player_Y2      20479 non-null float64\n",
      "home_player_Y3      20479 non-null float64\n",
      "home_player_Y4      20479 non-null float64\n",
      "home_player_Y5      20479 non-null float64\n",
      "home_player_Y6      20479 non-null float64\n",
      "home_player_Y7      20479 non-null float64\n",
      "home_player_Y8      20479 non-null float64\n",
      "home_player_Y9      20479 non-null float64\n",
      "home_player_Y10     20479 non-null float64\n",
      "home_player_Y11     20479 non-null float64\n",
      "away_player_Y1      20479 non-null float64\n",
      "away_player_Y2      20479 non-null float64\n",
      "away_player_Y3      20479 non-null float64\n",
      "away_player_Y4      20479 non-null float64\n",
      "away_player_Y5      20479 non-null float64\n",
      "away_player_Y6      20479 non-null float64\n",
      "away_player_Y7      20479 non-null float64\n",
      "away_player_Y8      20479 non-null float64\n",
      "away_player_Y9      20479 non-null float64\n",
      "away_player_Y10     20479 non-null float64\n",
      "away_player_Y11     20479 non-null float64\n",
      "home_player_1       20479 non-null float64\n",
      "home_player_2       20479 non-null float64\n",
      "home_player_3       20479 non-null float64\n",
      "home_player_4       20479 non-null float64\n",
      "home_player_5       20479 non-null float64\n",
      "home_player_6       20479 non-null float64\n",
      "home_player_7       20479 non-null float64\n",
      "home_player_8       20479 non-null float64\n",
      "home_player_9       20479 non-null float64\n",
      "home_player_10      20479 non-null float64\n",
      "home_player_11      20479 non-null float64\n",
      "away_player_1       20479 non-null float64\n",
      "away_player_2       20479 non-null float64\n",
      "away_player_3       20479 non-null float64\n",
      "away_player_4       20479 non-null float64\n",
      "away_player_5       20479 non-null float64\n",
      "away_player_6       20479 non-null float64\n",
      "away_player_7       20479 non-null float64\n",
      "away_player_8       20479 non-null float64\n",
      "away_player_9       20479 non-null float64\n",
      "away_player_10      20479 non-null float64\n",
      "away_player_11      20479 non-null float64\n",
      "label               20479 non-null int64\n",
      "dtypes: float64(66), int64(8), object(2)\n",
      "memory usage: 11.9+ MB\n"
     ]
    }
   ],
   "source": [
    "matchsTrainCopy.info()"
   ]
  },
  {
   "cell_type": "markdown",
   "metadata": {},
   "source": [
    "Il n'y a plus aucune valeur null"
   ]
  },
  {
   "cell_type": "markdown",
   "metadata": {},
   "source": [
    "## Exploitation des coordonnées XY des joueurs"
   ]
  },
  {
   "cell_type": "markdown",
   "metadata": {},
   "source": [
    "L'idée ici sera de transformer les coordonnées Y (nous n'allons pas utiliser les coordonnées X) en formation par exemple 442 "
   ]
  },
  {
   "cell_type": "code",
   "execution_count": null,
   "metadata": {},
   "outputs": [],
   "source": [
    "from collections import Counter\n",
    "#Fonction pour creer une formation apd des coordonnées Y des joureurs\n",
    "def create_formation(row, home):\n",
    "    list_form = list()  # Nous avons besoin d'une liste pour le Counter\n",
    "    if(home):\n",
    "        list_form = row.loc[row.index.str.startswith(\n",
    "            'home_player_Y')].tolist()[1:]  # Nous ne prenons pas le gardien\n",
    "    else:\n",
    "        list_form = row.loc[row.index.str.startswith(\n",
    "            'away_player_Y')].tolist()[1:]\n",
    "    # Nous creeons un dictionnaire avec les occurences des positions des joueurs\n",
    "    couter = Counter(list_form)\n",
    "    couter_val = Counter(sorted(couter.elements())).values()\n",
    "    # on concatene : 442\n",
    "    form = ''.join((str(e) for e in list(couter_val)))\n",
    "    return form"
   ]
  },
  {
   "cell_type": "markdown",
   "metadata": {},
   "source": [
    "## Ajout des notes générales des joueurs"
   ]
  },
  {
   "cell_type": "code",
   "execution_count": null,
   "metadata": {},
   "outputs": [],
   "source": []
  },
  {
   "cell_type": "markdown",
   "metadata": {},
   "source": [
    "## Ajout du potentiel des joueurs"
   ]
  },
  {
   "cell_type": "code",
   "execution_count": null,
   "metadata": {},
   "outputs": [],
   "source": []
  },
  {
   "cell_type": "markdown",
   "metadata": {},
   "source": [
    "## Ajout des attributs defensePressure et le buildUpPlayPassing "
   ]
  },
  {
   "cell_type": "code",
   "execution_count": null,
   "metadata": {},
   "outputs": [],
   "source": []
  }
 ],
 "metadata": {
  "kernelspec": {
   "display_name": "Python 3",
   "language": "python",
   "name": "python3"
  },
  "language_info": {
   "codemirror_mode": {
    "name": "ipython",
    "version": 3
   },
   "file_extension": ".py",
   "mimetype": "text/x-python",
   "name": "python",
   "nbconvert_exporter": "python",
   "pygments_lexer": "ipython3",
   "version": "3.7.3"
  }
 },
 "nbformat": 4,
 "nbformat_minor": 2
}
