{
 "cells": [
  {
   "cell_type": "markdown",
   "metadata": {},
   "source": [
    "# Data Preparing (Engineering)"
   ]
  },
  {
   "cell_type": "markdown",
   "metadata": {},
   "source": [
    "## Récuperation des tables nécessaires"
   ]
  },
  {
   "cell_type": "code",
   "execution_count": 1,
   "metadata": {
    "scrolled": true
   },
   "outputs": [],
   "source": [
    "import pandas as pd\n",
    "from matplotlib import pyplot as plt\n",
    "import seaborn as sns\n",
    "#Enlever les warnings\n",
    "import warnings\n",
    "warnings.simplefilter(\"ignore\")\n",
    "\n",
    "matchsTrain = pd.read_csv('../csv/X_Train.csv')\n",
    "matchsTest = pd.read_csv('../csv/X_Test.csv')\n",
    "players = pd.read_csv('../csv/Player.csv')\n",
    "teams = pd.read_csv('../csv/Team.csv')\n",
    "team_attr = pd.read_csv('../csv/Team_Attributes.csv')\n",
    "player_attr = pd.read_csv('../csv/Player_Attributes.csv')"
   ]
  },
  {
   "cell_type": "code",
   "execution_count": 2,
   "metadata": {
    "scrolled": true
   },
   "outputs": [],
   "source": [
    "# Determine the label of the match (0: tie , 1: home team won, -1: home team lost)\n",
    "def det_label(score1, score2):\n",
    "    if(score1 == score2):\n",
    "        return 0\n",
    "    if(score1 < score2):\n",
    "        return -1\n",
    "    else:\n",
    "        return 1"
   ]
  },
  {
   "cell_type": "code",
   "execution_count": 3,
   "metadata": {
    "scrolled": true
   },
   "outputs": [],
   "source": [
    "#On va travailler sur une copie du training set\n",
    "matchsTrainCopy = matchsTrain.copy()\n",
    "matchsTrainCopy['label'] = matchsTrainCopy.apply(lambda row: det_label(\n",
    "            row['home_team_goal'], row['away_team_goal']), axis=1)\n",
    "#Suppression des colonnes qui n'ont pas d'importances\n",
    "matchsTrainCopy.drop(['country_id', 'league_id','match_api_id', 'Unnamed: 0'], axis=1, inplace=True)"
   ]
  },
  {
   "cell_type": "markdown",
   "metadata": {},
   "source": [
    "## Cleaning des valeurs Nan présentent dans le training set"
   ]
  },
  {
   "cell_type": "code",
   "execution_count": 4,
   "metadata": {
    "scrolled": true
   },
   "outputs": [
    {
     "name": "stdout",
     "output_type": "stream",
     "text": [
      "<class 'pandas.core.frame.DataFrame'>\n",
      "RangeIndex: 20479 entries, 0 to 20478\n",
      "Data columns (total 76 columns):\n",
      "index               20479 non-null int64\n",
      "id                  20479 non-null int64\n",
      "season              20479 non-null object\n",
      "stage               20479 non-null int64\n",
      "date                20479 non-null object\n",
      "home_team_api_id    20479 non-null int64\n",
      "away_team_api_id    20479 non-null int64\n",
      "home_team_goal      20479 non-null int64\n",
      "away_team_goal      20479 non-null int64\n",
      "home_player_X1      19033 non-null float64\n",
      "home_player_X2      19033 non-null float64\n",
      "home_player_X3      19025 non-null float64\n",
      "home_player_X4      19025 non-null float64\n",
      "home_player_X5      19025 non-null float64\n",
      "home_player_X6      19025 non-null float64\n",
      "home_player_X7      19025 non-null float64\n",
      "home_player_X8      19025 non-null float64\n",
      "home_player_X9      19025 non-null float64\n",
      "home_player_X10     19025 non-null float64\n",
      "home_player_X11     19025 non-null float64\n",
      "away_player_X1      19025 non-null float64\n",
      "away_player_X2      19025 non-null float64\n",
      "away_player_X3      19025 non-null float64\n",
      "away_player_X4      19025 non-null float64\n",
      "away_player_X5      19025 non-null float64\n",
      "away_player_X6      19025 non-null float64\n",
      "away_player_X7      19025 non-null float64\n",
      "away_player_X8      19025 non-null float64\n",
      "away_player_X9      19024 non-null float64\n",
      "away_player_X10     19024 non-null float64\n",
      "away_player_X11     19019 non-null float64\n",
      "home_player_Y1      19033 non-null float64\n",
      "home_player_Y2      19033 non-null float64\n",
      "home_player_Y3      19025 non-null float64\n",
      "home_player_Y4      19025 non-null float64\n",
      "home_player_Y5      19025 non-null float64\n",
      "home_player_Y6      19025 non-null float64\n",
      "home_player_Y7      19025 non-null float64\n",
      "home_player_Y8      19025 non-null float64\n",
      "home_player_Y9      19025 non-null float64\n",
      "home_player_Y10     19025 non-null float64\n",
      "home_player_Y11     19025 non-null float64\n",
      "away_player_Y1      19025 non-null float64\n",
      "away_player_Y2      19025 non-null float64\n",
      "away_player_Y3      19025 non-null float64\n",
      "away_player_Y4      19025 non-null float64\n",
      "away_player_Y5      19025 non-null float64\n",
      "away_player_Y6      19025 non-null float64\n",
      "away_player_Y7      19025 non-null float64\n",
      "away_player_Y8      19025 non-null float64\n",
      "away_player_Y9      19024 non-null float64\n",
      "away_player_Y10     19024 non-null float64\n",
      "away_player_Y11     19019 non-null float64\n",
      "home_player_1       19513 non-null float64\n",
      "home_player_2       19442 non-null float64\n",
      "home_player_3       19466 non-null float64\n",
      "home_player_4       19425 non-null float64\n",
      "home_player_5       19444 non-null float64\n",
      "home_player_6       19417 non-null float64\n",
      "home_player_7       19520 non-null float64\n",
      "home_player_8       19448 non-null float64\n",
      "home_player_9       19465 non-null float64\n",
      "home_player_10      19342 non-null float64\n",
      "home_player_11      19232 non-null float64\n",
      "away_player_1       19495 non-null float64\n",
      "away_player_2       19460 non-null float64\n",
      "away_player_3       19439 non-null float64\n",
      "away_player_4       19448 non-null float64\n",
      "away_player_5       19425 non-null float64\n",
      "away_player_6       19430 non-null float64\n",
      "away_player_7       19498 non-null float64\n",
      "away_player_8       19409 non-null float64\n",
      "away_player_9       19433 non-null float64\n",
      "away_player_10      19348 non-null float64\n",
      "away_player_11      19264 non-null float64\n",
      "label               20479 non-null int64\n",
      "dtypes: float64(66), int64(8), object(2)\n",
      "memory usage: 11.9+ MB\n"
     ]
    }
   ],
   "source": [
    "matchsTrainCopy.info()"
   ]
  },
  {
   "cell_type": "markdown",
   "metadata": {},
   "source": [
    "Nous pouvons voir qu'il nous manque des données seulement dans les colonnes home/away_player_i et home/away_player_XYi où 1<i<11"
   ]
  },
  {
   "cell_type": "code",
   "execution_count": 5,
   "metadata": {
    "scrolled": true
   },
   "outputs": [],
   "source": [
    "#Nous remplissons les ids des joureurs manquants par 0\n",
    "matchsTrainCopy[['home_player_'+str(i) for i in range(1,12)]].fillna(0)\n",
    "matchsTrainCopy[['away_player_'+str(i) for i in range(1,12)]].fillna(0)\n",
    "# et tout le restant (les coordonnées des joueurs) par la valeurs qui revient le plus \n",
    "matchsTrainCopy = matchsTrainCopy.apply(lambda x: x.fillna(x.value_counts().index[0]))"
   ]
  },
  {
   "cell_type": "code",
   "execution_count": 6,
   "metadata": {
    "scrolled": true
   },
   "outputs": [
    {
     "name": "stdout",
     "output_type": "stream",
     "text": [
      "<class 'pandas.core.frame.DataFrame'>\n",
      "RangeIndex: 20479 entries, 0 to 20478\n",
      "Data columns (total 76 columns):\n",
      "index               20479 non-null int64\n",
      "id                  20479 non-null int64\n",
      "season              20479 non-null object\n",
      "stage               20479 non-null int64\n",
      "date                20479 non-null object\n",
      "home_team_api_id    20479 non-null int64\n",
      "away_team_api_id    20479 non-null int64\n",
      "home_team_goal      20479 non-null int64\n",
      "away_team_goal      20479 non-null int64\n",
      "home_player_X1      20479 non-null float64\n",
      "home_player_X2      20479 non-null float64\n",
      "home_player_X3      20479 non-null float64\n",
      "home_player_X4      20479 non-null float64\n",
      "home_player_X5      20479 non-null float64\n",
      "home_player_X6      20479 non-null float64\n",
      "home_player_X7      20479 non-null float64\n",
      "home_player_X8      20479 non-null float64\n",
      "home_player_X9      20479 non-null float64\n",
      "home_player_X10     20479 non-null float64\n",
      "home_player_X11     20479 non-null float64\n",
      "away_player_X1      20479 non-null float64\n",
      "away_player_X2      20479 non-null float64\n",
      "away_player_X3      20479 non-null float64\n",
      "away_player_X4      20479 non-null float64\n",
      "away_player_X5      20479 non-null float64\n",
      "away_player_X6      20479 non-null float64\n",
      "away_player_X7      20479 non-null float64\n",
      "away_player_X8      20479 non-null float64\n",
      "away_player_X9      20479 non-null float64\n",
      "away_player_X10     20479 non-null float64\n",
      "away_player_X11     20479 non-null float64\n",
      "home_player_Y1      20479 non-null float64\n",
      "home_player_Y2      20479 non-null float64\n",
      "home_player_Y3      20479 non-null float64\n",
      "home_player_Y4      20479 non-null float64\n",
      "home_player_Y5      20479 non-null float64\n",
      "home_player_Y6      20479 non-null float64\n",
      "home_player_Y7      20479 non-null float64\n",
      "home_player_Y8      20479 non-null float64\n",
      "home_player_Y9      20479 non-null float64\n",
      "home_player_Y10     20479 non-null float64\n",
      "home_player_Y11     20479 non-null float64\n",
      "away_player_Y1      20479 non-null float64\n",
      "away_player_Y2      20479 non-null float64\n",
      "away_player_Y3      20479 non-null float64\n",
      "away_player_Y4      20479 non-null float64\n",
      "away_player_Y5      20479 non-null float64\n",
      "away_player_Y6      20479 non-null float64\n",
      "away_player_Y7      20479 non-null float64\n",
      "away_player_Y8      20479 non-null float64\n",
      "away_player_Y9      20479 non-null float64\n",
      "away_player_Y10     20479 non-null float64\n",
      "away_player_Y11     20479 non-null float64\n",
      "home_player_1       20479 non-null float64\n",
      "home_player_2       20479 non-null float64\n",
      "home_player_3       20479 non-null float64\n",
      "home_player_4       20479 non-null float64\n",
      "home_player_5       20479 non-null float64\n",
      "home_player_6       20479 non-null float64\n",
      "home_player_7       20479 non-null float64\n",
      "home_player_8       20479 non-null float64\n",
      "home_player_9       20479 non-null float64\n",
      "home_player_10      20479 non-null float64\n",
      "home_player_11      20479 non-null float64\n",
      "away_player_1       20479 non-null float64\n",
      "away_player_2       20479 non-null float64\n",
      "away_player_3       20479 non-null float64\n",
      "away_player_4       20479 non-null float64\n",
      "away_player_5       20479 non-null float64\n",
      "away_player_6       20479 non-null float64\n",
      "away_player_7       20479 non-null float64\n",
      "away_player_8       20479 non-null float64\n",
      "away_player_9       20479 non-null float64\n",
      "away_player_10      20479 non-null float64\n",
      "away_player_11      20479 non-null float64\n",
      "label               20479 non-null int64\n",
      "dtypes: float64(66), int64(8), object(2)\n",
      "memory usage: 11.9+ MB\n"
     ]
    }
   ],
   "source": [
    "matchsTrainCopy.info()"
   ]
  },
  {
   "cell_type": "markdown",
   "metadata": {},
   "source": [
    "Il n'y a plus aucune valeur null"
   ]
  },
  {
   "cell_type": "markdown",
   "metadata": {},
   "source": [
    "## Exploitation des coordonnées XY des joueurs"
   ]
  },
  {
   "cell_type": "markdown",
   "metadata": {},
   "source": [
    "L'idée ici sera de transformer les coordonnées Y (nous n'allons pas utiliser les coordonnées X) en formation par exemple 442 "
   ]
  },
  {
   "cell_type": "code",
   "execution_count": 7,
   "metadata": {},
   "outputs": [],
   "source": [
    "matchsTrainCopy.drop(matchsTrainCopy.select(lambda col: col.startswith('home_player_X'), axis=1), axis=1, inplace=True)\n",
    "matchsTrainCopy.drop(matchsTrainCopy.select(lambda col: col.startswith('away_player_X'), axis=1), axis=1, inplace=True)"
   ]
  },
  {
   "cell_type": "code",
   "execution_count": 8,
   "metadata": {
    "scrolled": true
   },
   "outputs": [],
   "source": [
    "from collections import Counter\n",
    "#Fonction pour creer une formation apd des coordonnées Y des joureurs\n",
    "def create_formation(row, home):\n",
    "    list_form = list()  # Nous avons besoin d'une liste pour le Counter\n",
    "    if(home):\n",
    "        list_form = row.loc[row.index.str.startswith(\n",
    "            'home_player_Y')].tolist()[1:]  # Nous ne prenons pas le gardien\n",
    "    else:\n",
    "        list_form = row.loc[row.index.str.startswith(\n",
    "            'away_player_Y')].tolist()[1:]\n",
    "    # Nous creeons un dictionnaire avec les occurences des positions des joueurs\n",
    "    couter = Counter(list_form)\n",
    "    couter_val = couter.values()\n",
    "    # on concatene les valeurs pour arriver à la formation par ex : 442\n",
    "    form = ''.join((str(e) for e in list(couter_val)))\n",
    "    return form"
   ]
  },
  {
   "cell_type": "code",
   "execution_count": 9,
   "metadata": {
    "scrolled": true
   },
   "outputs": [],
   "source": [
    "matchsTrainCopy['form_home'] = matchsTrainCopy.apply(lambda x: create_formation(x, True), axis=1)\n",
    "matchsTrainCopy['form_away'] = matchsTrainCopy.apply(lambda x: create_formation(x, False), axis=1)"
   ]
  },
  {
   "cell_type": "code",
   "execution_count": 10,
   "metadata": {
    "scrolled": false
   },
   "outputs": [
    {
     "data": {
      "text/plain": [
       "442      6472\n",
       "4231     5037\n",
       "433      3428\n",
       "451       763\n",
       "4411      705\n",
       "4312      555\n",
       "352       530\n",
       "4141      484\n",
       "41212     455\n",
       "4222      423\n",
       "41221     301\n",
       "343       227\n",
       "4321      226\n",
       "4132      202\n",
       "532       149\n",
       "3421      135\n",
       "3412      112\n",
       "3511      101\n",
       "4123       66\n",
       "541        52\n",
       "4213       30\n",
       "1342        8\n",
       "3232        7\n",
       "3331        5\n",
       "42112       3\n",
       "631         1\n",
       "42211       1\n",
       "5311        1\n",
       "Name: form_home, dtype: int64"
      ]
     },
     "execution_count": 10,
     "metadata": {},
     "output_type": "execute_result"
    }
   ],
   "source": [
    "matchsTrainCopy['form_home'].value_counts()"
   ]
  },
  {
   "cell_type": "code",
   "execution_count": 11,
   "metadata": {
    "scrolled": true
   },
   "outputs": [
    {
     "data": {
      "text/plain": [
       "442      6231\n",
       "4231     5054\n",
       "433      3438\n",
       "451       968\n",
       "4411      670\n",
       "352       557\n",
       "4141      550\n",
       "4312      485\n",
       "4222      428\n",
       "41212     388\n",
       "41221     281\n",
       "4321      243\n",
       "343       232\n",
       "4132      196\n",
       "532       143\n",
       "3421      133\n",
       "3511      117\n",
       "541       116\n",
       "3412      115\n",
       "4123       75\n",
       "4213       27\n",
       "3232       14\n",
       "3331        9\n",
       "5311        2\n",
       "42112       2\n",
       "145         1\n",
       "33211       1\n",
       "41122       1\n",
       "32311       1\n",
       "31312       1\n",
       "Name: form_away, dtype: int64"
      ]
     },
     "execution_count": 11,
     "metadata": {},
     "output_type": "execute_result"
    }
   ],
   "source": [
    "matchsTrainCopy['form_away'].value_counts()"
   ]
  },
  {
   "cell_type": "code",
   "execution_count": 12,
   "metadata": {},
   "outputs": [],
   "source": [
    "#On drop les coordonnées Y\n",
    "matchsTrainCopy.drop(matchsTrainCopy.select(lambda col: col.startswith('home_player_Y'), axis=1), axis=1, inplace=True)\n",
    "matchsTrainCopy.drop(matchsTrainCopy.select(lambda col: col.startswith('away_player_Y'), axis=1), axis=1, inplace=True)"
   ]
  },
  {
   "cell_type": "code",
   "execution_count": 13,
   "metadata": {},
   "outputs": [],
   "source": [
    "#Difference de but entre l'équipe à domicile et à l'extérieur\n",
    "matchsTrainCopy['diff_goal_home'] = matchsTrainCopy['home_team_goal'] - matchsTrainCopy['away_team_goal']"
   ]
  },
  {
   "cell_type": "code",
   "execution_count": 14,
   "metadata": {},
   "outputs": [
    {
     "data": {
      "text/plain": [
       "<matplotlib.axes._subplots.AxesSubplot at 0x212326e7a20>"
      ]
     },
     "execution_count": 14,
     "metadata": {},
     "output_type": "execute_result"
    },
    {
     "data": {
      "image/png": "[encoded data removed]",
      "text/plain": [
       "<Figure size 1224x360 with 1 Axes>"
      ]
     },
     "metadata": {
      "needs_background": "light"
     },
     "output_type": "display_data"
    }
   ],
   "source": [
    "plt.figure(figsize=(17,5))\n",
    "sns.barplot(x='form_home', y='diff_goal_home',data=matchsTrainCopy)"
   ]
  },
  {
   "cell_type": "markdown",
   "metadata": {},
   "source": [
    "Explication:"
   ]
  },
  {
   "cell_type": "code",
   "execution_count": 15,
   "metadata": {},
   "outputs": [
    {
     "data": {
      "text/plain": [
       "<matplotlib.axes._subplots.AxesSubplot at 0x21230e78860>"
      ]
     },
     "execution_count": 15,
     "metadata": {},
     "output_type": "execute_result"
    },
    {
     "data": {
      "image/png": "[encoded data removed]",
      "text/plain": [
       "<Figure size 1224x360 with 1 Axes>"
      ]
     },
     "metadata": {
      "needs_background": "light"
     },
     "output_type": "display_data"
    }
   ],
   "source": [
    "plt.figure(figsize=(17,5))\n",
    "sns.barplot(x='form_away', y='diff_goal_home',data=matchsTrainCopy)"
   ]
  },
  {
   "cell_type": "markdown",
   "metadata": {},
   "source": [
    "Explication:"
   ]
  },
  {
   "cell_type": "markdown",
   "metadata": {},
   "source": [
    "## Ajout des notes générales des joueurs"
   ]
  },
  {
   "cell_type": "markdown",
   "metadata": {},
   "source": [
    "Pour ajouter les notes des joueurs, nous allons créer un dictionnaire avec comme clé un tuple avec l'api id et la date et comme valeur sa note générale ( En effet, la note d'un joueur varie en fonction du temps et un même joueur a donc plusieurs notes dans la table Players Attributes"
   ]
  },
  {
   "cell_type": "code",
   "execution_count": 16,
   "metadata": {},
   "outputs": [],
   "source": [
    "def create_player_overall_dict(player_attr):\n",
    "    ply_attr = player_attr[['player_api_id', 'overall_rating', 'date']]\n",
    "    ply_attr['date'] = ply_attr['date'].apply(lambda x: x.split('-')[0]) # on retient seulement l'année\n",
    "    ply_attr = ply_attr.groupby([ply_attr['player_api_id'], ply_attr['date']]).mean()\n",
    "\n",
    "    return ply_attr.to_dict()['overall_rating']\n",
    "\n",
    "ply_attr_overall_dict = create_player_overall_dict(player_attr)"
   ]
  },
  {
   "cell_type": "markdown",
   "metadata": {},
   "source": [
    "Dans la table Players Attributs, il est possible qu'un joueur n'ai pas une note à une certaine date. Ce qui va provoquer un crash lorsqu'on voudra acceder à cette clé là (id,date)"
   ]
  },
  {
   "cell_type": "code",
   "execution_count": 17,
   "metadata": {},
   "outputs": [],
   "source": [
    "def dict_key_checker(attr_dict, api_id, date):\n",
    "    if(api_id == 0):\n",
    "        return 0\n",
    "    try:\n",
    "        res = attr_dict[(api_id, str(date))]\n",
    "    except KeyError:\n",
    "        date = int(date)\n",
    "        dates = [int(k[1]) for k in attr_dict if k[0] == api_id]\n",
    "        if not dates:  # si l'api id n'est pas présente dans le dictionnaire\n",
    "            return 0\n",
    "        res = attr_dict[(api_id, str(min(dates, key=lambda key: abs(key-date))))] # si la date est pas présente , \n",
    "        #on prend la date la plus proche\n",
    "    return res"
   ]
  },
  {
   "cell_type": "code",
   "execution_count": 18,
   "metadata": {},
   "outputs": [],
   "source": [
    "for i in range(1, 12):\n",
    "    matchsTrainCopy['home_player_overall_'+str(i)] = matchsTrainCopy.apply(lambda x: \n",
    "            dict_key_checker(ply_attr_overall_dict, int(x['home_player_'+str(i)]), x['date'].split('-')[0])/99, axis=1)\n",
    "    matchsTrainCopy['away_player_overall_'+str(i)] = matchsTrainCopy.apply(lambda x: \n",
    "            dict_key_checker(ply_attr_overall_dict, int(x['away_player_'+str(i)]), x['date'].split('-')[0])/99, axis=1)"
   ]
  },
  {
   "cell_type": "markdown",
   "metadata": {},
   "source": [
    "Nous divisons la note par 99 car la note générale est une note entre 0 et 99. Ca nous permettera normaliser la note et se retrouver avec une valeur entre 0 et 99"
   ]
  },
  {
   "cell_type": "code",
   "execution_count": 19,
   "metadata": {},
   "outputs": [
    {
     "data": {
      "text/html": [
       "<div>\n",
       "<style scoped>\n",
       "    .dataframe tbody tr th:only-of-type {\n",
       "        vertical-align: middle;\n",
       "    }\n",
       "\n",
       "    .dataframe tbody tr th {\n",
       "        vertical-align: top;\n",
       "    }\n",
       "\n",
       "    .dataframe thead th {\n",
       "        text-align: right;\n",
       "    }\n",
       "</style>\n",
       "<table border=\"1\" class=\"dataframe\">\n",
       "  <thead>\n",
       "    <tr style=\"text-align: right;\">\n",
       "      <th></th>\n",
       "      <th>index</th>\n",
       "      <th>id</th>\n",
       "      <th>season</th>\n",
       "      <th>stage</th>\n",
       "      <th>date</th>\n",
       "      <th>home_team_api_id</th>\n",
       "      <th>away_team_api_id</th>\n",
       "      <th>home_team_goal</th>\n",
       "      <th>away_team_goal</th>\n",
       "      <th>home_player_1</th>\n",
       "      <th>...</th>\n",
       "      <th>home_player_overall_7</th>\n",
       "      <th>away_player_overall_7</th>\n",
       "      <th>home_player_overall_8</th>\n",
       "      <th>away_player_overall_8</th>\n",
       "      <th>home_player_overall_9</th>\n",
       "      <th>away_player_overall_9</th>\n",
       "      <th>home_player_overall_10</th>\n",
       "      <th>away_player_overall_10</th>\n",
       "      <th>home_player_overall_11</th>\n",
       "      <th>away_player_overall_11</th>\n",
       "    </tr>\n",
       "  </thead>\n",
       "  <tbody>\n",
       "    <tr>\n",
       "      <th>0</th>\n",
       "      <td>0</td>\n",
       "      <td>11103</td>\n",
       "      <td>2010/2011</td>\n",
       "      <td>17</td>\n",
       "      <td>2010-12-19 00:00:00</td>\n",
       "      <td>8533</td>\n",
       "      <td>9885</td>\n",
       "      <td>1</td>\n",
       "      <td>1</td>\n",
       "      <td>39477.0</td>\n",
       "      <td>...</td>\n",
       "      <td>0.727273</td>\n",
       "      <td>0.606061</td>\n",
       "      <td>0.747475</td>\n",
       "      <td>0.803030</td>\n",
       "      <td>0.696970</td>\n",
       "      <td>0.792929</td>\n",
       "      <td>0.777778</td>\n",
       "      <td>0.818182</td>\n",
       "      <td>0.686869</td>\n",
       "      <td>0.823232</td>\n",
       "    </tr>\n",
       "    <tr>\n",
       "      <th>1</th>\n",
       "      <td>1</td>\n",
       "      <td>16167</td>\n",
       "      <td>2009/2010</td>\n",
       "      <td>5</td>\n",
       "      <td>2009-08-29 00:00:00</td>\n",
       "      <td>8245</td>\n",
       "      <td>2186</td>\n",
       "      <td>1</td>\n",
       "      <td>1</td>\n",
       "      <td>13471.0</td>\n",
       "      <td>...</td>\n",
       "      <td>0.777778</td>\n",
       "      <td>0.727273</td>\n",
       "      <td>0.646465</td>\n",
       "      <td>0.767677</td>\n",
       "      <td>0.636364</td>\n",
       "      <td>0.787879</td>\n",
       "      <td>0.722222</td>\n",
       "      <td>0.893939</td>\n",
       "      <td>0.863636</td>\n",
       "      <td>0.777778</td>\n",
       "    </tr>\n",
       "    <tr>\n",
       "      <th>2</th>\n",
       "      <td>2</td>\n",
       "      <td>11222</td>\n",
       "      <td>2010/2011</td>\n",
       "      <td>28</td>\n",
       "      <td>2011-03-06 00:00:00</td>\n",
       "      <td>9882</td>\n",
       "      <td>9880</td>\n",
       "      <td>2</td>\n",
       "      <td>3</td>\n",
       "      <td>27691.0</td>\n",
       "      <td>...</td>\n",
       "      <td>0.782828</td>\n",
       "      <td>0.722222</td>\n",
       "      <td>0.717172</td>\n",
       "      <td>0.732323</td>\n",
       "      <td>0.747475</td>\n",
       "      <td>0.767677</td>\n",
       "      <td>0.752525</td>\n",
       "      <td>0.782828</td>\n",
       "      <td>0.732323</td>\n",
       "      <td>0.696970</td>\n",
       "    </tr>\n",
       "    <tr>\n",
       "      <th>3</th>\n",
       "      <td>3</td>\n",
       "      <td>11018</td>\n",
       "      <td>2010/2011</td>\n",
       "      <td>1</td>\n",
       "      <td>2010-08-29 00:00:00</td>\n",
       "      <td>9976</td>\n",
       "      <td>9885</td>\n",
       "      <td>1</td>\n",
       "      <td>0</td>\n",
       "      <td>41818.0</td>\n",
       "      <td>...</td>\n",
       "      <td>0.757576</td>\n",
       "      <td>0.777778</td>\n",
       "      <td>0.707071</td>\n",
       "      <td>0.808081</td>\n",
       "      <td>0.727273</td>\n",
       "      <td>0.792929</td>\n",
       "      <td>0.696970</td>\n",
       "      <td>0.823232</td>\n",
       "      <td>0.787879</td>\n",
       "      <td>0.823232</td>\n",
       "    </tr>\n",
       "    <tr>\n",
       "      <th>4</th>\n",
       "      <td>4</td>\n",
       "      <td>25596</td>\n",
       "      <td>2013/2014</td>\n",
       "      <td>5</td>\n",
       "      <td>2013-08-10 00:00:00</td>\n",
       "      <td>9930</td>\n",
       "      <td>10192</td>\n",
       "      <td>0</td>\n",
       "      <td>4</td>\n",
       "      <td>67374.0</td>\n",
       "      <td>...</td>\n",
       "      <td>0.601010</td>\n",
       "      <td>0.640693</td>\n",
       "      <td>0.626263</td>\n",
       "      <td>0.696970</td>\n",
       "      <td>0.572391</td>\n",
       "      <td>0.654545</td>\n",
       "      <td>0.612795</td>\n",
       "      <td>0.660895</td>\n",
       "      <td>0.851515</td>\n",
       "      <td>0.704545</td>\n",
       "    </tr>\n",
       "  </tbody>\n",
       "</table>\n",
       "<p>5 rows × 57 columns</p>\n",
       "</div>"
      ],
      "text/plain": [
       "   index     id     season  stage                 date  home_team_api_id  \\\n",
       "0      0  11103  2010/2011     17  2010-12-19 00:00:00              8533   \n",
       "1      1  16167  2009/2010      5  2009-08-29 00:00:00              8245   \n",
       "2      2  11222  2010/2011     28  2011-03-06 00:00:00              9882   \n",
       "3      3  11018  2010/2011      1  2010-08-29 00:00:00              9976   \n",
       "4      4  25596  2013/2014      5  2013-08-10 00:00:00              9930   \n",
       "\n",
       "   away_team_api_id  home_team_goal  away_team_goal  home_player_1  ...  \\\n",
       "0              9885               1               1        39477.0  ...   \n",
       "1              2186               1               1        13471.0  ...   \n",
       "2              9880               2               3        27691.0  ...   \n",
       "3              9885               1               0        41818.0  ...   \n",
       "4             10192               0               4        67374.0  ...   \n",
       "\n",
       "   home_player_overall_7  away_player_overall_7  home_player_overall_8  \\\n",
       "0               0.727273               0.606061               0.747475   \n",
       "1               0.777778               0.727273               0.646465   \n",
       "2               0.782828               0.722222               0.717172   \n",
       "3               0.757576               0.777778               0.707071   \n",
       "4               0.601010               0.640693               0.626263   \n",
       "\n",
       "   away_player_overall_8  home_player_overall_9  away_player_overall_9  \\\n",
       "0               0.803030               0.696970               0.792929   \n",
       "1               0.767677               0.636364               0.787879   \n",
       "2               0.732323               0.747475               0.767677   \n",
       "3               0.808081               0.727273               0.792929   \n",
       "4               0.696970               0.572391               0.654545   \n",
       "\n",
       "   home_player_overall_10  away_player_overall_10  home_player_overall_11  \\\n",
       "0                0.777778                0.818182                0.686869   \n",
       "1                0.722222                0.893939                0.863636   \n",
       "2                0.752525                0.782828                0.732323   \n",
       "3                0.696970                0.823232                0.787879   \n",
       "4                0.612795                0.660895                0.851515   \n",
       "\n",
       "   away_player_overall_11  \n",
       "0                0.823232  \n",
       "1                0.777778  \n",
       "2                0.696970  \n",
       "3                0.823232  \n",
       "4                0.704545  \n",
       "\n",
       "[5 rows x 57 columns]"
      ]
     },
     "execution_count": 19,
     "metadata": {},
     "output_type": "execute_result"
    }
   ],
   "source": [
    "matchsTrainCopy.head()"
   ]
  },
  {
   "cell_type": "code",
   "execution_count": 20,
   "metadata": {},
   "outputs": [
    {
     "data": {
      "text/plain": [
       "diff_goal_home            0.859076\n",
       "home_team_goal            0.620839\n",
       "home_player_overall_7     0.153311\n",
       "home_player_overall_8     0.145521\n",
       "home_player_overall_11    0.144683\n",
       "home_player_overall_3     0.142765\n",
       "home_player_overall_5     0.141492\n",
       "home_player_overall_2     0.140775\n",
       "home_player_overall_9     0.140008\n",
       "home_player_overall_4     0.138448\n",
       "home_player_overall_6     0.137211\n",
       "home_player_overall_10    0.131809\n",
       "home_player_overall_1     0.126671\n",
       "away_player_1             0.024024\n",
       "away_player_3             0.016283\n",
       "away_player_10            0.014090\n",
       "away_team_api_id          0.013994\n",
       "away_player_11            0.011715\n",
       "away_player_8             0.011287\n",
       "away_player_7             0.011281\n",
       "away_player_2             0.011142\n",
       "away_player_5             0.007451\n",
       "away_player_6             0.005934\n",
       "index                     0.002380\n",
       "away_player_4             0.001284\n",
       "stage                    -0.000140\n",
       "away_player_9            -0.000236\n",
       "id                       -0.011120\n",
       "home_player_9            -0.017475\n",
       "home_player_4            -0.017918\n",
       "home_player_3            -0.019444\n",
       "home_team_api_id         -0.021259\n",
       "home_player_8            -0.026501\n",
       "home_player_1            -0.031434\n",
       "home_player_6            -0.031953\n",
       "home_player_7            -0.033923\n",
       "home_player_10           -0.034674\n",
       "home_player_2            -0.035195\n",
       "home_player_11           -0.038576\n",
       "home_player_5            -0.040618\n",
       "away_player_overall_2    -0.096753\n",
       "away_player_overall_1    -0.100063\n",
       "away_player_overall_5    -0.102859\n",
       "away_player_overall_6    -0.103988\n",
       "away_player_overall_4    -0.105502\n",
       "away_player_overall_10   -0.109445\n",
       "away_player_overall_3    -0.113709\n",
       "away_player_overall_11   -0.117713\n",
       "away_player_overall_9    -0.121315\n",
       "away_player_overall_8    -0.125538\n",
       "away_player_overall_7    -0.125600\n",
       "away_team_goal           -0.633301\n",
       "dtype: float64"
      ]
     },
     "execution_count": 20,
     "metadata": {},
     "output_type": "execute_result"
    }
   ],
   "source": [
    "matchsTrainCopy.corrwith(matchsTrainCopy['label']).sort_values(ascending=False)[1:]"
   ]
  },
  {
   "cell_type": "markdown",
   "metadata": {},
   "source": [
    "## Ajout du potentiel des joueurs"
   ]
  },
  {
   "cell_type": "markdown",
   "metadata": {},
   "source": [
    "Nous recommencons la meme manipulation pour ajouter le potentiel des joueurs"
   ]
  },
  {
   "cell_type": "code",
   "execution_count": 21,
   "metadata": {},
   "outputs": [],
   "source": [
    "def create_player_pot_dict(player_attr):\n",
    "    ply_attr = player_attr[['player_api_id', 'potential', 'date']]\n",
    "    ply_attr['date'] = ply_attr['date'].apply(lambda x: x.split('-')[0])\n",
    "    ply_attr = ply_attr.groupby([ply_attr['player_api_id'], ply_attr['date']]).mean()\n",
    "\n",
    "    return ply_attr.to_dict()['potential']\n",
    "\n",
    "ply_attr_pot_dict = create_player_pot_dict(player_attr)\n",
    "\n",
    "for i in range(1, 12):\n",
    "    matchsTrainCopy['home_player_potential_'+str(i)] = matchsTrainCopy.apply(lambda x: \n",
    "        dict_key_checker(ply_attr_pot_dict, int(x['home_player_'+str(i)]), x['date'].split('-')[0])/99, axis=1)\n",
    "    matchsTrainCopy['away_player_potential_'+str(i)] = matchsTrainCopy.apply(lambda x: \n",
    "        dict_key_checker(ply_attr_pot_dict, int(x['away_player_'+str(i)]), x['date'].split('-')[0])/99, axis=1)"
   ]
  },
  {
   "cell_type": "code",
   "execution_count": 22,
   "metadata": {},
   "outputs": [
    {
     "data": {
      "text/plain": [
       "diff_goal_home              0.859076\n",
       "home_team_goal              0.620839\n",
       "home_player_overall_7       0.153311\n",
       "home_player_potential_11    0.153011\n",
       "home_player_potential_8     0.150988\n",
       "home_player_potential_7     0.146234\n",
       "home_player_overall_8       0.145521\n",
       "home_player_overall_11      0.144683\n",
       "home_player_potential_4     0.143203\n",
       "home_player_potential_9     0.143035\n",
       "home_player_overall_3       0.142765\n",
       "home_player_potential_10    0.142213\n",
       "home_player_overall_5       0.141492\n",
       "home_player_potential_5     0.141276\n",
       "home_player_overall_2       0.140775\n",
       "home_player_potential_3     0.140220\n",
       "home_player_overall_9       0.140008\n",
       "home_player_overall_4       0.138448\n",
       "home_player_potential_2     0.137440\n",
       "home_player_overall_6       0.137211\n",
       "home_player_potential_6     0.133960\n",
       "home_player_overall_10      0.131809\n",
       "home_player_potential_1     0.129822\n",
       "home_player_overall_1       0.126671\n",
       "away_player_1               0.024024\n",
       "away_player_3               0.016283\n",
       "away_player_10              0.014090\n",
       "away_team_api_id            0.013994\n",
       "away_player_11              0.011715\n",
       "away_player_8               0.011287\n",
       "                              ...   \n",
       "home_player_1              -0.031434\n",
       "home_player_6              -0.031953\n",
       "home_player_7              -0.033923\n",
       "home_player_10             -0.034674\n",
       "home_player_2              -0.035195\n",
       "home_player_11             -0.038576\n",
       "home_player_5              -0.040618\n",
       "away_player_potential_1    -0.090189\n",
       "away_player_overall_2      -0.096753\n",
       "away_player_potential_2    -0.098561\n",
       "away_player_overall_1      -0.100063\n",
       "away_player_potential_5    -0.100172\n",
       "away_player_overall_5      -0.102859\n",
       "away_player_overall_6      -0.103988\n",
       "away_player_potential_10   -0.104278\n",
       "away_player_overall_4      -0.105502\n",
       "away_player_potential_3    -0.108463\n",
       "away_player_overall_10     -0.109445\n",
       "away_player_potential_4    -0.109785\n",
       "away_player_potential_6    -0.112435\n",
       "away_player_potential_7    -0.113611\n",
       "away_player_overall_3      -0.113709\n",
       "away_player_potential_9    -0.115320\n",
       "away_player_overall_11     -0.117713\n",
       "away_player_potential_11   -0.119112\n",
       "away_player_overall_9      -0.121315\n",
       "away_player_overall_8      -0.125538\n",
       "away_player_overall_7      -0.125600\n",
       "away_player_potential_8    -0.125654\n",
       "away_team_goal             -0.633301\n",
       "Length: 74, dtype: float64"
      ]
     },
     "execution_count": 22,
     "metadata": {},
     "output_type": "execute_result"
    }
   ],
   "source": [
    "matchsTrainCopy.corrwith(matchsTrainCopy['label']).sort_values(ascending=False)[1:]"
   ]
  },
  {
   "cell_type": "markdown",
   "metadata": {},
   "source": [
    "## Ajout des attributs defensePressure et le buildUpPlayPassing "
   ]
  },
  {
   "cell_type": "code",
   "execution_count": 23,
   "metadata": {
    "scrolled": true
   },
   "outputs": [],
   "source": [
    "def create_team_attr_dict(teams_attr, key):\n",
    "    tms_attr = teams_attr[['team_api_id', 'date','defencePressure', 'buildUpPlayPassing']]\n",
    "    tms_attr['date'] = tms_attr['date'].apply(lambda x: x.split('-')[0])\n",
    "    tms_attr = tms_attr.groupby([tms_attr['team_api_id'], tms_attr['date']]).mean()\n",
    "    return tms_attr.to_dict()[key]\n",
    "\n",
    "teams_buildUp_dict = create_team_attr_dict(team_attr, 'buildUpPlayPassing')\n",
    "teams_def_press_dict = create_team_attr_dict(team_attr, 'defencePressure')\n",
    "\n",
    "matchsTrainCopy['home_build_up'] = matchsTrainCopy.apply(lambda x: \n",
    "        dict_key_checker(teams_buildUp_dict, x['home_team_api_id'], x['date'].split('-')[0])/99, axis=1)\n",
    "matchsTrainCopy['away_build_up'] = matchsTrainCopy.apply(lambda x: \n",
    "        dict_key_checker(teams_buildUp_dict, x['away_team_api_id'], x['date'].split('-')[0])/99, axis=1)\n",
    "matchsTrainCopy['home_def_press'] = matchsTrainCopy.apply(lambda x: \n",
    "        dict_key_checker(teams_def_press_dict, x['home_team_api_id'], x['date'].split('-')[0])/99, axis=1)\n",
    "matchsTrainCopy['away_def_press'] = matchsTrainCopy.apply(lambda x: \n",
    "        dict_key_checker(teams_def_press_dict, x['away_team_api_id'], x['date'].split('-')[0])/99, axis=1)"
   ]
  },
  {
   "cell_type": "code",
   "execution_count": 24,
   "metadata": {},
   "outputs": [
    {
     "data": {
      "text/plain": [
       "diff_goal_home              0.859076\n",
       "home_team_goal              0.620839\n",
       "home_player_overall_7       0.153311\n",
       "home_player_potential_11    0.153011\n",
       "home_player_potential_8     0.150988\n",
       "home_player_potential_7     0.146234\n",
       "home_player_overall_8       0.145521\n",
       "home_player_overall_11      0.144683\n",
       "home_player_potential_4     0.143203\n",
       "home_player_potential_9     0.143035\n",
       "home_player_overall_3       0.142765\n",
       "home_player_potential_10    0.142213\n",
       "home_player_overall_5       0.141492\n",
       "home_player_potential_5     0.141276\n",
       "home_player_overall_2       0.140775\n",
       "home_player_potential_3     0.140220\n",
       "home_player_overall_9       0.140008\n",
       "home_player_overall_4       0.138448\n",
       "home_player_potential_2     0.137440\n",
       "home_player_overall_6       0.137211\n",
       "home_player_potential_6     0.133960\n",
       "home_player_overall_10      0.131809\n",
       "home_player_potential_1     0.129822\n",
       "home_player_overall_1       0.126671\n",
       "home_def_press              0.065244\n",
       "away_build_up               0.034656\n",
       "away_player_1               0.024024\n",
       "away_player_3               0.016283\n",
       "away_player_10              0.014090\n",
       "away_team_api_id            0.013994\n",
       "                              ...   \n",
       "home_player_7              -0.033923\n",
       "home_player_10             -0.034674\n",
       "home_player_2              -0.035195\n",
       "home_player_11             -0.038576\n",
       "home_player_5              -0.040618\n",
       "home_build_up              -0.061913\n",
       "away_def_press             -0.075975\n",
       "away_player_potential_1    -0.090189\n",
       "away_player_overall_2      -0.096753\n",
       "away_player_potential_2    -0.098561\n",
       "away_player_overall_1      -0.100063\n",
       "away_player_potential_5    -0.100172\n",
       "away_player_overall_5      -0.102859\n",
       "away_player_overall_6      -0.103988\n",
       "away_player_potential_10   -0.104278\n",
       "away_player_overall_4      -0.105502\n",
       "away_player_potential_3    -0.108463\n",
       "away_player_overall_10     -0.109445\n",
       "away_player_potential_4    -0.109785\n",
       "away_player_potential_6    -0.112435\n",
       "away_player_potential_7    -0.113611\n",
       "away_player_overall_3      -0.113709\n",
       "away_player_potential_9    -0.115320\n",
       "away_player_overall_11     -0.117713\n",
       "away_player_potential_11   -0.119112\n",
       "away_player_overall_9      -0.121315\n",
       "away_player_overall_8      -0.125538\n",
       "away_player_overall_7      -0.125600\n",
       "away_player_potential_8    -0.125654\n",
       "away_team_goal             -0.633301\n",
       "Length: 78, dtype: float64"
      ]
     },
     "execution_count": 24,
     "metadata": {},
     "output_type": "execute_result"
    }
   ],
   "source": [
    "matchsTrainCopy.corrwith(matchsTrainCopy['label']).sort_values(ascending=False)[1:]"
   ]
  },
  {
   "cell_type": "markdown",
   "metadata": {},
   "source": [
    "## Exploitation des notes générales / potentiel des joueurs et de la formation"
   ]
  },
  {
   "cell_type": "markdown",
   "metadata": {},
   "source": [
    "Une idée que l'on pourrait avoir pour réduire le nombre de colonnes du training set est, grace à la formation, de faire une moyenne des notes d'une équipe par ligne ( défense , milieu et attaque)  "
   ]
  },
  {
   "cell_type": "code",
   "execution_count": 25,
   "metadata": {},
   "outputs": [],
   "source": [
    "def get_nbr_players_by_lines(form):\n",
    "    list_form = list(form)\n",
    "    list_form = [int(x) for x in list_form]\n",
    "    defenders = list_form[0] + 1  # plus le gardien\n",
    "    attackers = list_form[-1]\n",
    "    midfielders = sum(list_form[1:-1])\n",
    "    return defenders, midfielders, attackers"
   ]
  },
  {
   "cell_type": "code",
   "execution_count": 26,
   "metadata": {},
   "outputs": [
    {
     "ename": "KeyboardInterrupt",
     "evalue": "",
     "output_type": "error",
     "traceback": [
      "\u001b[1;31m---------------------------------------------------------------------------\u001b[0m",
      "\u001b[1;31mKeyboardInterrupt\u001b[0m                         Traceback (most recent call last)",
      "\u001b[1;32m<ipython-input-26-884a2587c80e>\u001b[0m in \u001b[0;36m<module>\u001b[1;34m\u001b[0m\n\u001b[0;32m     12\u001b[0m \u001b[1;33m\u001b[0m\u001b[0m\n\u001b[0;32m     13\u001b[0m     matchsTrainCopy.loc[index, 'away_def_overall'] = row.loc[[\n\u001b[1;32m---> 14\u001b[1;33m                 'away_player_overall_' + str(i) for i in range(1, nbr_def_away+1)]].mean()\n\u001b[0m\u001b[0;32m     15\u001b[0m     matchsTrainCopy.loc[index, 'away_mid_overall'] = row.loc[[\n\u001b[0;32m     16\u001b[0m                 'away_player_overall_' + str(i) for i in range(nbr_def_away+1, nbr_def_away + nbr_mid_away+1)]].mean()\n",
      "\u001b[1;32m~\\Anaconda3\\lib\\site-packages\\pandas\\core\\indexing.py\u001b[0m in \u001b[0;36m__setitem__\u001b[1;34m(self, key, value)\u001b[0m\n\u001b[0;32m    188\u001b[0m             \u001b[0mkey\u001b[0m \u001b[1;33m=\u001b[0m \u001b[0mcom\u001b[0m\u001b[1;33m.\u001b[0m\u001b[0mapply_if_callable\u001b[0m\u001b[1;33m(\u001b[0m\u001b[0mkey\u001b[0m\u001b[1;33m,\u001b[0m \u001b[0mself\u001b[0m\u001b[1;33m.\u001b[0m\u001b[0mobj\u001b[0m\u001b[1;33m)\u001b[0m\u001b[1;33m\u001b[0m\u001b[1;33m\u001b[0m\u001b[0m\n\u001b[0;32m    189\u001b[0m         \u001b[0mindexer\u001b[0m \u001b[1;33m=\u001b[0m \u001b[0mself\u001b[0m\u001b[1;33m.\u001b[0m\u001b[0m_get_setitem_indexer\u001b[0m\u001b[1;33m(\u001b[0m\u001b[0mkey\u001b[0m\u001b[1;33m)\u001b[0m\u001b[1;33m\u001b[0m\u001b[1;33m\u001b[0m\u001b[0m\n\u001b[1;32m--> 190\u001b[1;33m         \u001b[0mself\u001b[0m\u001b[1;33m.\u001b[0m\u001b[0m_setitem_with_indexer\u001b[0m\u001b[1;33m(\u001b[0m\u001b[0mindexer\u001b[0m\u001b[1;33m,\u001b[0m \u001b[0mvalue\u001b[0m\u001b[1;33m)\u001b[0m\u001b[1;33m\u001b[0m\u001b[1;33m\u001b[0m\u001b[0m\n\u001b[0m\u001b[0;32m    191\u001b[0m \u001b[1;33m\u001b[0m\u001b[0m\n\u001b[0;32m    192\u001b[0m     \u001b[1;32mdef\u001b[0m \u001b[0m_validate_key\u001b[0m\u001b[1;33m(\u001b[0m\u001b[0mself\u001b[0m\u001b[1;33m,\u001b[0m \u001b[0mkey\u001b[0m\u001b[1;33m,\u001b[0m \u001b[0maxis\u001b[0m\u001b[1;33m)\u001b[0m\u001b[1;33m:\u001b[0m\u001b[1;33m\u001b[0m\u001b[1;33m\u001b[0m\u001b[0m\n",
      "\u001b[1;32m~\\Anaconda3\\lib\\site-packages\\pandas\\core\\indexing.py\u001b[0m in \u001b[0;36m_setitem_with_indexer\u001b[1;34m(self, indexer, value)\u001b[0m\n\u001b[0;32m    618\u001b[0m                 \u001b[1;31m# scalar\u001b[0m\u001b[1;33m\u001b[0m\u001b[1;33m\u001b[0m\u001b[1;33m\u001b[0m\u001b[0m\n\u001b[0;32m    619\u001b[0m                 \u001b[1;32mfor\u001b[0m \u001b[0mitem\u001b[0m \u001b[1;32min\u001b[0m \u001b[0mlabels\u001b[0m\u001b[1;33m:\u001b[0m\u001b[1;33m\u001b[0m\u001b[1;33m\u001b[0m\u001b[0m\n\u001b[1;32m--> 620\u001b[1;33m                     \u001b[0msetter\u001b[0m\u001b[1;33m(\u001b[0m\u001b[0mitem\u001b[0m\u001b[1;33m,\u001b[0m \u001b[0mvalue\u001b[0m\u001b[1;33m)\u001b[0m\u001b[1;33m\u001b[0m\u001b[1;33m\u001b[0m\u001b[0m\n\u001b[0m\u001b[0;32m    621\u001b[0m \u001b[1;33m\u001b[0m\u001b[0m\n\u001b[0;32m    622\u001b[0m         \u001b[1;32melse\u001b[0m\u001b[1;33m:\u001b[0m\u001b[1;33m\u001b[0m\u001b[1;33m\u001b[0m\u001b[0m\n",
      "\u001b[1;32m~\\Anaconda3\\lib\\site-packages\\pandas\\core\\indexing.py\u001b[0m in \u001b[0;36msetter\u001b[1;34m(item, v)\u001b[0m\n\u001b[0;32m    536\u001b[0m                     \u001b[1;31m# set the item, possibly having a dtype change\u001b[0m\u001b[1;33m\u001b[0m\u001b[1;33m\u001b[0m\u001b[1;33m\u001b[0m\u001b[0m\n\u001b[0;32m    537\u001b[0m                     \u001b[0ms\u001b[0m\u001b[1;33m.\u001b[0m\u001b[0m_consolidate_inplace\u001b[0m\u001b[1;33m(\u001b[0m\u001b[1;33m)\u001b[0m\u001b[1;33m\u001b[0m\u001b[1;33m\u001b[0m\u001b[0m\n\u001b[1;32m--> 538\u001b[1;33m                     \u001b[0ms\u001b[0m \u001b[1;33m=\u001b[0m \u001b[0ms\u001b[0m\u001b[1;33m.\u001b[0m\u001b[0mcopy\u001b[0m\u001b[1;33m(\u001b[0m\u001b[1;33m)\u001b[0m\u001b[1;33m\u001b[0m\u001b[1;33m\u001b[0m\u001b[0m\n\u001b[0m\u001b[0;32m    539\u001b[0m                     \u001b[0ms\u001b[0m\u001b[1;33m.\u001b[0m\u001b[0m_data\u001b[0m \u001b[1;33m=\u001b[0m \u001b[0ms\u001b[0m\u001b[1;33m.\u001b[0m\u001b[0m_data\u001b[0m\u001b[1;33m.\u001b[0m\u001b[0msetitem\u001b[0m\u001b[1;33m(\u001b[0m\u001b[0mindexer\u001b[0m\u001b[1;33m=\u001b[0m\u001b[0mpi\u001b[0m\u001b[1;33m,\u001b[0m \u001b[0mvalue\u001b[0m\u001b[1;33m=\u001b[0m\u001b[0mv\u001b[0m\u001b[1;33m)\u001b[0m\u001b[1;33m\u001b[0m\u001b[1;33m\u001b[0m\u001b[0m\n\u001b[0;32m    540\u001b[0m                     \u001b[0ms\u001b[0m\u001b[1;33m.\u001b[0m\u001b[0m_maybe_update_cacher\u001b[0m\u001b[1;33m(\u001b[0m\u001b[0mclear\u001b[0m\u001b[1;33m=\u001b[0m\u001b[1;32mTrue\u001b[0m\u001b[1;33m)\u001b[0m\u001b[1;33m\u001b[0m\u001b[1;33m\u001b[0m\u001b[0m\n",
      "\u001b[1;32m~\\Anaconda3\\lib\\site-packages\\pandas\\core\\generic.py\u001b[0m in \u001b[0;36mcopy\u001b[1;34m(self, deep)\u001b[0m\n\u001b[0;32m   5802\u001b[0m         \u001b[0mdtype\u001b[0m\u001b[1;33m:\u001b[0m \u001b[0mobject\u001b[0m\u001b[1;33m\u001b[0m\u001b[1;33m\u001b[0m\u001b[0m\n\u001b[0;32m   5803\u001b[0m         \"\"\"\n\u001b[1;32m-> 5804\u001b[1;33m         \u001b[0mdata\u001b[0m \u001b[1;33m=\u001b[0m \u001b[0mself\u001b[0m\u001b[1;33m.\u001b[0m\u001b[0m_data\u001b[0m\u001b[1;33m.\u001b[0m\u001b[0mcopy\u001b[0m\u001b[1;33m(\u001b[0m\u001b[0mdeep\u001b[0m\u001b[1;33m=\u001b[0m\u001b[0mdeep\u001b[0m\u001b[1;33m)\u001b[0m\u001b[1;33m\u001b[0m\u001b[1;33m\u001b[0m\u001b[0m\n\u001b[0m\u001b[0;32m   5805\u001b[0m         \u001b[1;32mreturn\u001b[0m \u001b[0mself\u001b[0m\u001b[1;33m.\u001b[0m\u001b[0m_constructor\u001b[0m\u001b[1;33m(\u001b[0m\u001b[0mdata\u001b[0m\u001b[1;33m)\u001b[0m\u001b[1;33m.\u001b[0m\u001b[0m__finalize__\u001b[0m\u001b[1;33m(\u001b[0m\u001b[0mself\u001b[0m\u001b[1;33m)\u001b[0m\u001b[1;33m\u001b[0m\u001b[1;33m\u001b[0m\u001b[0m\n\u001b[0;32m   5806\u001b[0m \u001b[1;33m\u001b[0m\u001b[0m\n",
      "\u001b[1;32m~\\Anaconda3\\lib\\site-packages\\pandas\\core\\internals\\managers.py\u001b[0m in \u001b[0;36mcopy\u001b[1;34m(self, deep)\u001b[0m\n\u001b[0;32m    732\u001b[0m             \u001b[0mnew_axes\u001b[0m \u001b[1;33m=\u001b[0m \u001b[0mlist\u001b[0m\u001b[1;33m(\u001b[0m\u001b[0mself\u001b[0m\u001b[1;33m.\u001b[0m\u001b[0maxes\u001b[0m\u001b[1;33m)\u001b[0m\u001b[1;33m\u001b[0m\u001b[1;33m\u001b[0m\u001b[0m\n\u001b[0;32m    733\u001b[0m         return self.apply('copy', axes=new_axes, deep=deep,\n\u001b[1;32m--> 734\u001b[1;33m                           do_integrity_check=False)\n\u001b[0m\u001b[0;32m    735\u001b[0m \u001b[1;33m\u001b[0m\u001b[0m\n\u001b[0;32m    736\u001b[0m     \u001b[1;32mdef\u001b[0m \u001b[0mas_array\u001b[0m\u001b[1;33m(\u001b[0m\u001b[0mself\u001b[0m\u001b[1;33m,\u001b[0m \u001b[0mtranspose\u001b[0m\u001b[1;33m=\u001b[0m\u001b[1;32mFalse\u001b[0m\u001b[1;33m,\u001b[0m \u001b[0mitems\u001b[0m\u001b[1;33m=\u001b[0m\u001b[1;32mNone\u001b[0m\u001b[1;33m)\u001b[0m\u001b[1;33m:\u001b[0m\u001b[1;33m\u001b[0m\u001b[1;33m\u001b[0m\u001b[0m\n",
      "\u001b[1;32m~\\Anaconda3\\lib\\site-packages\\pandas\\core\\internals\\managers.py\u001b[0m in \u001b[0;36mapply\u001b[1;34m(self, f, axes, filter, do_integrity_check, consolidate, **kwargs)\u001b[0m\n\u001b[0;32m    393\u001b[0m                                             copy=align_copy)\n\u001b[0;32m    394\u001b[0m \u001b[1;33m\u001b[0m\u001b[0m\n\u001b[1;32m--> 395\u001b[1;33m             \u001b[0mapplied\u001b[0m \u001b[1;33m=\u001b[0m \u001b[0mgetattr\u001b[0m\u001b[1;33m(\u001b[0m\u001b[0mb\u001b[0m\u001b[1;33m,\u001b[0m \u001b[0mf\u001b[0m\u001b[1;33m)\u001b[0m\u001b[1;33m(\u001b[0m\u001b[1;33m**\u001b[0m\u001b[0mkwargs\u001b[0m\u001b[1;33m)\u001b[0m\u001b[1;33m\u001b[0m\u001b[1;33m\u001b[0m\u001b[0m\n\u001b[0m\u001b[0;32m    396\u001b[0m             \u001b[0mresult_blocks\u001b[0m \u001b[1;33m=\u001b[0m \u001b[0m_extend_blocks\u001b[0m\u001b[1;33m(\u001b[0m\u001b[0mapplied\u001b[0m\u001b[1;33m,\u001b[0m \u001b[0mresult_blocks\u001b[0m\u001b[1;33m)\u001b[0m\u001b[1;33m\u001b[0m\u001b[1;33m\u001b[0m\u001b[0m\n\u001b[0;32m    397\u001b[0m \u001b[1;33m\u001b[0m\u001b[0m\n",
      "\u001b[1;32m~\\Anaconda3\\lib\\site-packages\\pandas\\core\\internals\\blocks.py\u001b[0m in \u001b[0;36mcopy\u001b[1;34m(self, deep)\u001b[0m\n\u001b[0;32m    751\u001b[0m         \u001b[0mvalues\u001b[0m \u001b[1;33m=\u001b[0m \u001b[0mself\u001b[0m\u001b[1;33m.\u001b[0m\u001b[0mvalues\u001b[0m\u001b[1;33m\u001b[0m\u001b[1;33m\u001b[0m\u001b[0m\n\u001b[0;32m    752\u001b[0m         \u001b[1;32mif\u001b[0m \u001b[0mdeep\u001b[0m\u001b[1;33m:\u001b[0m\u001b[1;33m\u001b[0m\u001b[1;33m\u001b[0m\u001b[0m\n\u001b[1;32m--> 753\u001b[1;33m             \u001b[0mvalues\u001b[0m \u001b[1;33m=\u001b[0m \u001b[0mvalues\u001b[0m\u001b[1;33m.\u001b[0m\u001b[0mcopy\u001b[0m\u001b[1;33m(\u001b[0m\u001b[1;33m)\u001b[0m\u001b[1;33m\u001b[0m\u001b[1;33m\u001b[0m\u001b[0m\n\u001b[0m\u001b[0;32m    754\u001b[0m         \u001b[1;32mreturn\u001b[0m \u001b[0mself\u001b[0m\u001b[1;33m.\u001b[0m\u001b[0mmake_block_same_class\u001b[0m\u001b[1;33m(\u001b[0m\u001b[0mvalues\u001b[0m\u001b[1;33m)\u001b[0m\u001b[1;33m\u001b[0m\u001b[1;33m\u001b[0m\u001b[0m\n\u001b[0;32m    755\u001b[0m \u001b[1;33m\u001b[0m\u001b[0m\n",
      "\u001b[1;31mKeyboardInterrupt\u001b[0m: "
     ]
    }
   ],
   "source": [
    "for index, row in matchsTrainCopy.iterrows():\n",
    "    nbr_def_home, nbr_mid_home, nbr_att_home = get_nbr_players_by_lines(row['form_home'])\n",
    "    nbr_def_away, nbr_mid_away, nbr_att_away = get_nbr_players_by_lines(row['form_away'])\n",
    "\n",
    "    # Overall\n",
    "    matchsTrainCopy.loc[index, 'home_def_overall'] = row.loc[[\n",
    "                'home_player_overall_' + str(i) for i in range(1, nbr_def_home+1)]].mean()\n",
    "    matchsTrainCopy.loc[index, 'home_mid_overall'] = row.loc[[\n",
    "                'home_player_overall_' + str(i) for i in range(nbr_def_home+1, nbr_def_home + nbr_mid_home+1)]].mean()\n",
    "    matchsTrainCopy.loc[index, 'home_att_overall'] = row.loc[[\n",
    "                'home_player_overall_' + str(i) for i in range(nbr_def_home + nbr_mid_home+1, 12)]].mean()\n",
    "\n",
    "    matchsTrainCopy.loc[index, 'away_def_overall'] = row.loc[[\n",
    "                'away_player_overall_' + str(i) for i in range(1, nbr_def_away+1)]].mean()\n",
    "    matchsTrainCopy.loc[index, 'away_mid_overall'] = row.loc[[\n",
    "                'away_player_overall_' + str(i) for i in range(nbr_def_away+1, nbr_def_away + nbr_mid_away+1)]].mean()\n",
    "    matchsTrainCopy.loc[index, 'away_att_overall'] = row.loc[[\n",
    "                'away_player_overall_' + str(i) for i in range(nbr_def_away + nbr_mid_away+1, 12)]].mean()\n",
    "\n",
    "\n",
    "    # Potential\n",
    "    matchsTrainCopy.loc[index, 'home_def_pot'] = row.loc[[\n",
    "        'home_player_potential_' + str(i) for i in range(1, nbr_def_home+1)]].mean()\n",
    "    matchsTrainCopy.loc[index, 'home_mid_pot'] = row.loc[[\n",
    "        'home_player_potential_' + str(i) for i in range(nbr_def_home+1, nbr_def_home + nbr_mid_home+1)]].mean()\n",
    "    matchsTrainCopy.loc[index, 'home_att_pot'] = row.loc[[\n",
    "        'home_player_potential_' + str(i) for i in range(nbr_def_home + nbr_mid_home+1, 12)]].mean()\n",
    "\n",
    "    matchsTrainCopy.loc[index, 'away_def_pot'] = row.loc[[\n",
    "        'away_player_potential_' + str(i) for i in range(1, nbr_def_away+1)]].mean()\n",
    "    matchsTrainCopy.loc[index, 'away_mid_pot'] = row.loc[[\n",
    "        'away_player_potential_' + str(i) for i in range(nbr_def_away+1, nbr_def_away + nbr_mid_away+1)]].mean()\n",
    "    matchsTrainCopy.loc[index, 'away_att_pot'] = row.loc[[\n",
    "        'away_player_potential_' + str(i) for i in range(nbr_def_away + nbr_mid_away+1, 12)]].mean()\n"
   ]
  },
  {
   "cell_type": "code",
   "execution_count": null,
   "metadata": {},
   "outputs": [],
   "source": [
    "#On supprime les colonnes qui ne nous serviront plus\n",
    "matchsTrainCopy.drop(matchsTrainCopy.select(lambda col: col.startswith('home_player'), axis=1), axis=1, inplace=True)\n",
    "matchsTrainCopy.drop(matchsTrainCopy.select(lambda col: col.startswith('away_player'), axis=1), axis=1, inplace=True)"
   ]
  },
  {
   "cell_type": "code",
   "execution_count": null,
   "metadata": {},
   "outputs": [],
   "source": [
    "matchsTrainCopy.info()"
   ]
  },
  {
   "cell_type": "code",
   "execution_count": null,
   "metadata": {},
   "outputs": [],
   "source": [
    "matchsTrainCopy.corrwith(matchsTrainCopy['label']).sort_values(ascending=False)[1:]"
   ]
  },
  {
   "cell_type": "markdown",
   "metadata": {},
   "source": [
    "## Rapport entre les attributs de l'équipe à domicile et à l'extérieur"
   ]
  },
  {
   "cell_type": "markdown",
   "metadata": {},
   "source": [
    "L'idée ici sera d'effectuer un rapport (une difference) entre les colonnes des differents attributs des équipes domicile et extérieur. En effet cette difference, si elle est positif représentera une correlation positive avec le label , si négative une correlation négative"
   ]
  },
  {
   "cell_type": "code",
   "execution_count": null,
   "metadata": {},
   "outputs": [],
   "source": [
    "matchsTrainCopy['diff_def_overall'] = matchsTrainCopy['home_def_overall'] - matchsTrainCopy['away_def_overall']\n",
    "matchsTrainCopy['diff_mid_overall'] = matchsTrainCopy['home_mid_overall'] - matchsTrainCopy['away_mid_overall']\n",
    "matchsTrainCopy['diff_att_overall'] = matchsTrainCopy['home_att_overall'] - matchsTrainCopy['away_att_overall']\n",
    "\n",
    "matchsTrainCopy['diff_att_home_def_away'] = matchsTrainCopy['home_att_overall'] - matchsTrainCopy['away_def_overall']\n",
    "matchsTrainCopy['diff_def_home_att_away'] = matchsTrainCopy['home_def_overall'] - matchsTrainCopy['away_att_overall']\n",
    "\n",
    "matchsTrainCopy['diff_def_pot'] = matchsTrainCopy['home_def_pot'] - matchsTrainCopy['away_def_pot']\n",
    "matchsTrainCopy['diff_mid_pot'] = matchsTrainCopy['home_mid_pot'] - matchsTrainCopy['away_mid_pot']\n",
    "matchsTrainCopy['diff_att_pot'] = matchsTrainCopy['home_att_pot'] - matchsTrainCopy['away_att_pot']\n",
    "\n",
    "\n",
    "matchsTrainCopy['diff_build_up'] = matchsTrainCopy['home_build_up'] - matchsTrainCopy['away_build_up']\n",
    "matchsTrainCopy['diff_def_press'] = matchsTrainCopy['home_def_press'] - matchsTrainCopy['away_def_press']\n"
   ]
  },
  {
   "cell_type": "code",
   "execution_count": null,
   "metadata": {},
   "outputs": [],
   "source": [
    "matchsTrainCopy.info()"
   ]
  },
  {
   "cell_type": "code",
   "execution_count": null,
   "metadata": {},
   "outputs": [],
   "source": [
    "\"\"\"matchsTrainCopy = matchsTrainCopy.drop(['home_build_up','away_build_up','home_def_press','away_def_press','home_def_overall',\n",
    "                                     'home_mid_overall','home_att_overall','away_def_overall','away_mid_overall',\n",
    "                                     'away_att_overall','home_def_pot','home_mid_pot','home_att_pot','away_def_pot',\n",
    "                                     'away_mid_pot','away_att_pot'], axis=1)\"\"\"\n"
   ]
  },
  {
   "cell_type": "code",
   "execution_count": null,
   "metadata": {},
   "outputs": [],
   "source": [
    "matchsTrainCopy.info()"
   ]
  },
  {
   "cell_type": "code",
   "execution_count": null,
   "metadata": {},
   "outputs": [],
   "source": [
    "matchsTrainCopy.corrwith(matchsTrainCopy['label']).sort_values(ascending=False)[1:]"
   ]
  },
  {
   "cell_type": "code",
   "execution_count": null,
   "metadata": {},
   "outputs": [],
   "source": [
    "# Exportation de la dataframe sous csv\n",
    "matchsTrainCopy.to_csv(r'../csv/matchsTrainEngineered.csv')"
   ]
  },
  {
   "cell_type": "markdown",
   "metadata": {},
   "source": [
    "### Visualisation"
   ]
  },
  {
   "cell_type": "code",
   "execution_count": null,
   "metadata": {},
   "outputs": [],
   "source": [
    "matchsTrainCopy = matchsTrainCopy.drop(['index', 'home_team_api_id', 'away_team_api_id', 'stage'], axis=1)"
   ]
  },
  {
   "cell_type": "code",
   "execution_count": null,
   "metadata": {},
   "outputs": [],
   "source": [
    "#Difference de but entre l'équipe à domicile et à l'extérieur\n",
    "matchsTrainCopy['diff_goal_home'] = matchsTrainCopy['home_team_goal'] - matchsTrainCopy['away_team_goal']\n",
    "sns.jointplot(x = 'diff_att_home_def_away' , y='diff_goal_home' , data=matchsTrainCopy)"
   ]
  },
  {
   "cell_type": "code",
   "execution_count": null,
   "metadata": {},
   "outputs": [],
   "source": [
    "plt.figure(figsize=(15,7))\n",
    "sns.heatmap(matchsTrainCopy.corr(),annot=True,cmap='coolwarm', linewidths=1)"
   ]
  },
  {
   "cell_type": "markdown",
   "metadata": {},
   "source": [
    "### Idées de transformation des données qui n'ont pas abouties\n",
    "- Prendre des données statistiques à partir du training set comme le nombre totals des buts inscrits par une equipe , le nombre de victoire à domicile , le taux de victoire d'une équipe ou le aux de victoire d'une équipe à domicile dans les confrontations direct avec l'équipe extérieur => ces données repésentaient un risque d'overfitting c'est pourquoi cette idée n'a pas aboutie\n",
    "- "
   ]
  },
  {
   "cell_type": "code",
   "execution_count": null,
   "metadata": {},
   "outputs": [],
   "source": []
  }
 ],
 "metadata": {
  "kernelspec": {
   "display_name": "Python 3",
   "language": "python",
   "name": "python3"
  },
  "language_info": {
   "codemirror_mode": {
    "name": "ipython",
    "version": 3
   },
   "file_extension": ".py",
   "mimetype": "text/x-python",
   "name": "python",
   "nbconvert_exporter": "python",
   "pygments_lexer": "ipython3",
   "version": "3.7.3"
  }
 },
 "nbformat": 4,
 "nbformat_minor": 2
}
