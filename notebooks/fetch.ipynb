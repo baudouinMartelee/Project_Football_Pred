{
 "cells": [
  {
   "cell_type": "markdown",
   "metadata": {},
   "source": [
    "# Data Fetching"
   ]
  },
  {
   "cell_type": "markdown",
   "metadata": {},
   "source": [
    "### Nous récuperons les données à partir du fichier sqlite et on créeons un fichier csv distincts pour chaque table présente dans la base de donnéees"
   ]
  },
  {
   "cell_type": "code",
   "execution_count": 12,
   "metadata": {
    "scrolled": true
   },
   "outputs": [],
   "source": [
    "#IMPORTS\n",
    "import sqlite3\n",
    "import pandas as pd\n",
    "#Enlever les warnings\n",
    "import warnings\n",
    "warnings.simplefilter(\"ignore\")\n",
    "\n",
    "#DATA FETCHING\n",
    "dat = sqlite3.connect('../database/database.sqlite')\n",
    "\n",
    "table = [\"Country\", \"League\", \"X_Train\", \"X_Test\",\"Player\", \"Player_Attributes\",\n",
    "         \"Team\", \"Team_Attributes\"]\n",
    "\n",
    "csv = {}\n",
    "\n",
    "for name in table:\n",
    "    query = dat.execute(\"SELECT * From \" + name)\n",
    "    cols = [column[0] for column in query.description]\n",
    "    results = pd.DataFrame.from_records(data=query.fetchall(), columns=cols)\n",
    "    results.to_csv(r'../csv/'+name+'.csv')\n"
   ]
  },
  {
   "cell_type": "markdown",
   "metadata": {},
   "source": [
    "### Transformation des fichiers csv en dataframes"
   ]
  },
  {
   "cell_type": "code",
   "execution_count": 5,
   "metadata": {
    "scrolled": true
   },
   "outputs": [],
   "source": [
    "matchsTrain = pd.read_csv('../csv/X_Train.csv')\n",
    "matchsTest = pd.read_csv('../csv/X_Test.csv')\n",
    "players = pd.read_csv('../csv/Player.csv')\n",
    "teams = pd.read_csv('../csv/Team.csv')\n",
    "team_attr = pd.read_csv('../csv/Team_Attributes.csv')\n",
    "player_attr = pd.read_csv('../csv/Player_Attributes.csv')\n",
    "countries = pd.read_csv('../csv/Country.csv')\n",
    "leagues = pd.read_csv('../csv/League.csv')"
   ]
  },
  {
   "cell_type": "markdown",
   "metadata": {},
   "source": [
    "## Exploration des données"
   ]
  },
  {
   "cell_type": "markdown",
   "metadata": {},
   "source": [
    "#### Exploration du train set"
   ]
  },
  {
   "cell_type": "markdown",
   "metadata": {},
   "source": [
    "Informations importantes à propos du training : \n",
    "- les colonnes home/away_player_XY représentent les coordonnées des X,Y des joueurs sur le terrain\n",
    "- les colonnes home/away_player_i où 1<i<11 représentent l'api id des joueurs (que l'on peut retrouver dans les tables Player et Player_Attributes)"
   ]
  },
  {
   "cell_type": "code",
   "execution_count": 6,
   "metadata": {
    "scrolled": false
   },
   "outputs": [
    {
     "name": "stdout",
     "output_type": "stream",
     "text": [
      "<class 'pandas.core.frame.DataFrame'>\n",
      "RangeIndex: 20479 entries, 0 to 20478\n",
      "Data columns (total 79 columns):\n",
      "Unnamed: 0          20479 non-null int64\n",
      "index               20479 non-null int64\n",
      "id                  20479 non-null int64\n",
      "country_id          20479 non-null int64\n",
      "league_id           20479 non-null int64\n",
      "season              20479 non-null object\n",
      "stage               20479 non-null int64\n",
      "date                20479 non-null object\n",
      "match_api_id        20479 non-null int64\n",
      "home_team_api_id    20479 non-null int64\n",
      "away_team_api_id    20479 non-null int64\n",
      "home_team_goal      20479 non-null int64\n",
      "away_team_goal      20479 non-null int64\n",
      "home_player_X1      19033 non-null float64\n",
      "home_player_X2      19033 non-null float64\n",
      "home_player_X3      19025 non-null float64\n",
      "home_player_X4      19025 non-null float64\n",
      "home_player_X5      19025 non-null float64\n",
      "home_player_X6      19025 non-null float64\n",
      "home_player_X7      19025 non-null float64\n",
      "home_player_X8      19025 non-null float64\n",
      "home_player_X9      19025 non-null float64\n",
      "home_player_X10     19025 non-null float64\n",
      "home_player_X11     19025 non-null float64\n",
      "away_player_X1      19025 non-null float64\n",
      "away_player_X2      19025 non-null float64\n",
      "away_player_X3      19025 non-null float64\n",
      "away_player_X4      19025 non-null float64\n",
      "away_player_X5      19025 non-null float64\n",
      "away_player_X6      19025 non-null float64\n",
      "away_player_X7      19025 non-null float64\n",
      "away_player_X8      19025 non-null float64\n",
      "away_player_X9      19024 non-null float64\n",
      "away_player_X10     19024 non-null float64\n",
      "away_player_X11     19019 non-null float64\n",
      "home_player_Y1      19033 non-null float64\n",
      "home_player_Y2      19033 non-null float64\n",
      "home_player_Y3      19025 non-null float64\n",
      "home_player_Y4      19025 non-null float64\n",
      "home_player_Y5      19025 non-null float64\n",
      "home_player_Y6      19025 non-null float64\n",
      "home_player_Y7      19025 non-null float64\n",
      "home_player_Y8      19025 non-null float64\n",
      "home_player_Y9      19025 non-null float64\n",
      "home_player_Y10     19025 non-null float64\n",
      "home_player_Y11     19025 non-null float64\n",
      "away_player_Y1      19025 non-null float64\n",
      "away_player_Y2      19025 non-null float64\n",
      "away_player_Y3      19025 non-null float64\n",
      "away_player_Y4      19025 non-null float64\n",
      "away_player_Y5      19025 non-null float64\n",
      "away_player_Y6      19025 non-null float64\n",
      "away_player_Y7      19025 non-null float64\n",
      "away_player_Y8      19025 non-null float64\n",
      "away_player_Y9      19024 non-null float64\n",
      "away_player_Y10     19024 non-null float64\n",
      "away_player_Y11     19019 non-null float64\n",
      "home_player_1       19513 non-null float64\n",
      "home_player_2       19442 non-null float64\n",
      "home_player_3       19466 non-null float64\n",
      "home_player_4       19425 non-null float64\n",
      "home_player_5       19444 non-null float64\n",
      "home_player_6       19417 non-null float64\n",
      "home_player_7       19520 non-null float64\n",
      "home_player_8       19448 non-null float64\n",
      "home_player_9       19465 non-null float64\n",
      "home_player_10      19342 non-null float64\n",
      "home_player_11      19232 non-null float64\n",
      "away_player_1       19495 non-null float64\n",
      "away_player_2       19460 non-null float64\n",
      "away_player_3       19439 non-null float64\n",
      "away_player_4       19448 non-null float64\n",
      "away_player_5       19425 non-null float64\n",
      "away_player_6       19430 non-null float64\n",
      "away_player_7       19498 non-null float64\n",
      "away_player_8       19409 non-null float64\n",
      "away_player_9       19433 non-null float64\n",
      "away_player_10      19348 non-null float64\n",
      "away_player_11      19264 non-null float64\n",
      "dtypes: float64(66), int64(11), object(2)\n",
      "memory usage: 12.3+ MB\n"
     ]
    }
   ],
   "source": [
    "matchsTrain.info()"
   ]
  },
  {
   "cell_type": "code",
   "execution_count": 7,
   "metadata": {
    "scrolled": true
   },
   "outputs": [
    {
     "data": {
      "text/html": [
       "<div>\n",
       "<style scoped>\n",
       "    .dataframe tbody tr th:only-of-type {\n",
       "        vertical-align: middle;\n",
       "    }\n",
       "\n",
       "    .dataframe tbody tr th {\n",
       "        vertical-align: top;\n",
       "    }\n",
       "\n",
       "    .dataframe thead th {\n",
       "        text-align: right;\n",
       "    }\n",
       "</style>\n",
       "<table border=\"1\" class=\"dataframe\">\n",
       "  <thead>\n",
       "    <tr style=\"text-align: right;\">\n",
       "      <th></th>\n",
       "      <th>Unnamed: 0</th>\n",
       "      <th>index</th>\n",
       "      <th>id</th>\n",
       "      <th>country_id</th>\n",
       "      <th>league_id</th>\n",
       "      <th>stage</th>\n",
       "      <th>match_api_id</th>\n",
       "      <th>home_team_api_id</th>\n",
       "      <th>away_team_api_id</th>\n",
       "      <th>home_team_goal</th>\n",
       "      <th>...</th>\n",
       "      <th>away_player_2</th>\n",
       "      <th>away_player_3</th>\n",
       "      <th>away_player_4</th>\n",
       "      <th>away_player_5</th>\n",
       "      <th>away_player_6</th>\n",
       "      <th>away_player_7</th>\n",
       "      <th>away_player_8</th>\n",
       "      <th>away_player_9</th>\n",
       "      <th>away_player_10</th>\n",
       "      <th>away_player_11</th>\n",
       "    </tr>\n",
       "  </thead>\n",
       "  <tbody>\n",
       "    <tr>\n",
       "      <th>count</th>\n",
       "      <td>20479.000000</td>\n",
       "      <td>20479.000000</td>\n",
       "      <td>20479.0000</td>\n",
       "      <td>20479.000000</td>\n",
       "      <td>20479.000000</td>\n",
       "      <td>20479.000000</td>\n",
       "      <td>2.047900e+04</td>\n",
       "      <td>20479.000000</td>\n",
       "      <td>20479.000000</td>\n",
       "      <td>20479.000000</td>\n",
       "      <td>...</td>\n",
       "      <td>19460.000000</td>\n",
       "      <td>19439.000000</td>\n",
       "      <td>19448.000000</td>\n",
       "      <td>19425.000000</td>\n",
       "      <td>19430.000000</td>\n",
       "      <td>19498.000000</td>\n",
       "      <td>19409.000000</td>\n",
       "      <td>19433.000000</td>\n",
       "      <td>19348.000000</td>\n",
       "      <td>19264.000000</td>\n",
       "    </tr>\n",
       "    <tr>\n",
       "      <th>mean</th>\n",
       "      <td>10239.000000</td>\n",
       "      <td>10239.000000</td>\n",
       "      <td>13018.8497</td>\n",
       "      <td>11766.815177</td>\n",
       "      <td>11766.815177</td>\n",
       "      <td>18.224132</td>\n",
       "      <td>1.196640e+06</td>\n",
       "      <td>9903.388105</td>\n",
       "      <td>10035.218272</td>\n",
       "      <td>1.538454</td>\n",
       "      <td>...</td>\n",
       "      <td>107215.875231</td>\n",
       "      <td>91067.257729</td>\n",
       "      <td>94952.167935</td>\n",
       "      <td>109937.905071</td>\n",
       "      <td>102434.662120</td>\n",
       "      <td>98161.155247</td>\n",
       "      <td>110213.809418</td>\n",
       "      <td>110629.648948</td>\n",
       "      <td>106639.449245</td>\n",
       "      <td>105447.734064</td>\n",
       "    </tr>\n",
       "    <tr>\n",
       "      <th>std</th>\n",
       "      <td>5911.922417</td>\n",
       "      <td>5911.922417</td>\n",
       "      <td>7492.2651</td>\n",
       "      <td>7551.399825</td>\n",
       "      <td>7551.399825</td>\n",
       "      <td>10.398607</td>\n",
       "      <td>4.950166e+05</td>\n",
       "      <td>13529.090615</td>\n",
       "      <td>14554.860615</td>\n",
       "      <td>1.296081</td>\n",
       "      <td>...</td>\n",
       "      <td>113465.530366</td>\n",
       "      <td>101884.382600</td>\n",
       "      <td>103884.329333</td>\n",
       "      <td>112726.177016</td>\n",
       "      <td>111247.146676</td>\n",
       "      <td>107130.925346</td>\n",
       "      <td>117246.374813</td>\n",
       "      <td>116002.144951</td>\n",
       "      <td>112511.966589</td>\n",
       "      <td>110469.160375</td>\n",
       "    </tr>\n",
       "    <tr>\n",
       "      <th>min</th>\n",
       "      <td>0.000000</td>\n",
       "      <td>0.000000</td>\n",
       "      <td>2.0000</td>\n",
       "      <td>1.000000</td>\n",
       "      <td>1.000000</td>\n",
       "      <td>1.000000</td>\n",
       "      <td>4.831290e+05</td>\n",
       "      <td>1601.000000</td>\n",
       "      <td>1601.000000</td>\n",
       "      <td>0.000000</td>\n",
       "      <td>...</td>\n",
       "      <td>2790.000000</td>\n",
       "      <td>2752.000000</td>\n",
       "      <td>2752.000000</td>\n",
       "      <td>2790.000000</td>\n",
       "      <td>2625.000000</td>\n",
       "      <td>2625.000000</td>\n",
       "      <td>2625.000000</td>\n",
       "      <td>2625.000000</td>\n",
       "      <td>2802.000000</td>\n",
       "      <td>2802.000000</td>\n",
       "    </tr>\n",
       "    <tr>\n",
       "      <th>25%</th>\n",
       "      <td>5119.500000</td>\n",
       "      <td>5119.500000</td>\n",
       "      <td>6540.5000</td>\n",
       "      <td>4769.000000</td>\n",
       "      <td>4769.000000</td>\n",
       "      <td>9.000000</td>\n",
       "      <td>7.684365e+05</td>\n",
       "      <td>8481.000000</td>\n",
       "      <td>8472.000000</td>\n",
       "      <td>1.000000</td>\n",
       "      <td>...</td>\n",
       "      <td>32574.000000</td>\n",
       "      <td>30464.000000</td>\n",
       "      <td>30617.000000</td>\n",
       "      <td>33579.000000</td>\n",
       "      <td>31058.000000</td>\n",
       "      <td>30930.000000</td>\n",
       "      <td>32836.000000</td>\n",
       "      <td>33421.000000</td>\n",
       "      <td>32572.000000</td>\n",
       "      <td>32748.000000</td>\n",
       "    </tr>\n",
       "    <tr>\n",
       "      <th>50%</th>\n",
       "      <td>10239.000000</td>\n",
       "      <td>10239.000000</td>\n",
       "      <td>13027.0000</td>\n",
       "      <td>10257.000000</td>\n",
       "      <td>10257.000000</td>\n",
       "      <td>18.000000</td>\n",
       "      <td>1.189713e+06</td>\n",
       "      <td>8697.000000</td>\n",
       "      <td>8696.000000</td>\n",
       "      <td>1.000000</td>\n",
       "      <td>...</td>\n",
       "      <td>42388.000000</td>\n",
       "      <td>39892.000000</td>\n",
       "      <td>41062.000000</td>\n",
       "      <td>46297.000000</td>\n",
       "      <td>41659.000000</td>\n",
       "      <td>41603.500000</td>\n",
       "      <td>46104.000000</td>\n",
       "      <td>45860.000000</td>\n",
       "      <td>45174.000000</td>\n",
       "      <td>43097.000000</td>\n",
       "    </tr>\n",
       "    <tr>\n",
       "      <th>75%</th>\n",
       "      <td>15358.500000</td>\n",
       "      <td>15358.500000</td>\n",
       "      <td>19485.5000</td>\n",
       "      <td>17642.000000</td>\n",
       "      <td>17642.000000</td>\n",
       "      <td>27.000000</td>\n",
       "      <td>1.709904e+06</td>\n",
       "      <td>9925.000000</td>\n",
       "      <td>9911.000000</td>\n",
       "      <td>2.000000</td>\n",
       "      <td>...</td>\n",
       "      <td>159854.000000</td>\n",
       "      <td>119007.000000</td>\n",
       "      <td>145561.000000</td>\n",
       "      <td>160243.000000</td>\n",
       "      <td>151079.000000</td>\n",
       "      <td>145538.000000</td>\n",
       "      <td>164031.000000</td>\n",
       "      <td>164089.000000</td>\n",
       "      <td>160194.000000</td>\n",
       "      <td>163205.000000</td>\n",
       "    </tr>\n",
       "    <tr>\n",
       "      <th>max</th>\n",
       "      <td>20478.000000</td>\n",
       "      <td>20478.000000</td>\n",
       "      <td>25979.0000</td>\n",
       "      <td>24558.000000</td>\n",
       "      <td>24558.000000</td>\n",
       "      <td>38.000000</td>\n",
       "      <td>2.216672e+06</td>\n",
       "      <td>274581.000000</td>\n",
       "      <td>274581.000000</td>\n",
       "      <td>10.000000</td>\n",
       "      <td>...</td>\n",
       "      <td>748432.000000</td>\n",
       "      <td>705484.000000</td>\n",
       "      <td>728414.000000</td>\n",
       "      <td>746419.000000</td>\n",
       "      <td>722766.000000</td>\n",
       "      <td>750435.000000</td>\n",
       "      <td>717248.000000</td>\n",
       "      <td>722766.000000</td>\n",
       "      <td>722766.000000</td>\n",
       "      <td>726956.000000</td>\n",
       "    </tr>\n",
       "  </tbody>\n",
       "</table>\n",
       "<p>8 rows × 77 columns</p>\n",
       "</div>"
      ],
      "text/plain": [
       "         Unnamed: 0         index          id    country_id     league_id  \\\n",
       "count  20479.000000  20479.000000  20479.0000  20479.000000  20479.000000   \n",
       "mean   10239.000000  10239.000000  13018.8497  11766.815177  11766.815177   \n",
       "std     5911.922417   5911.922417   7492.2651   7551.399825   7551.399825   \n",
       "min        0.000000      0.000000      2.0000      1.000000      1.000000   \n",
       "25%     5119.500000   5119.500000   6540.5000   4769.000000   4769.000000   \n",
       "50%    10239.000000  10239.000000  13027.0000  10257.000000  10257.000000   \n",
       "75%    15358.500000  15358.500000  19485.5000  17642.000000  17642.000000   \n",
       "max    20478.000000  20478.000000  25979.0000  24558.000000  24558.000000   \n",
       "\n",
       "              stage  match_api_id  home_team_api_id  away_team_api_id  \\\n",
       "count  20479.000000  2.047900e+04      20479.000000      20479.000000   \n",
       "mean      18.224132  1.196640e+06       9903.388105      10035.218272   \n",
       "std       10.398607  4.950166e+05      13529.090615      14554.860615   \n",
       "min        1.000000  4.831290e+05       1601.000000       1601.000000   \n",
       "25%        9.000000  7.684365e+05       8481.000000       8472.000000   \n",
       "50%       18.000000  1.189713e+06       8697.000000       8696.000000   \n",
       "75%       27.000000  1.709904e+06       9925.000000       9911.000000   \n",
       "max       38.000000  2.216672e+06     274581.000000     274581.000000   \n",
       "\n",
       "       home_team_goal  ...  away_player_2  away_player_3  away_player_4  \\\n",
       "count    20479.000000  ...   19460.000000   19439.000000   19448.000000   \n",
       "mean         1.538454  ...  107215.875231   91067.257729   94952.167935   \n",
       "std          1.296081  ...  113465.530366  101884.382600  103884.329333   \n",
       "min          0.000000  ...    2790.000000    2752.000000    2752.000000   \n",
       "25%          1.000000  ...   32574.000000   30464.000000   30617.000000   \n",
       "50%          1.000000  ...   42388.000000   39892.000000   41062.000000   \n",
       "75%          2.000000  ...  159854.000000  119007.000000  145561.000000   \n",
       "max         10.000000  ...  748432.000000  705484.000000  728414.000000   \n",
       "\n",
       "       away_player_5  away_player_6  away_player_7  away_player_8  \\\n",
       "count   19425.000000   19430.000000   19498.000000   19409.000000   \n",
       "mean   109937.905071  102434.662120   98161.155247  110213.809418   \n",
       "std    112726.177016  111247.146676  107130.925346  117246.374813   \n",
       "min      2790.000000    2625.000000    2625.000000    2625.000000   \n",
       "25%     33579.000000   31058.000000   30930.000000   32836.000000   \n",
       "50%     46297.000000   41659.000000   41603.500000   46104.000000   \n",
       "75%    160243.000000  151079.000000  145538.000000  164031.000000   \n",
       "max    746419.000000  722766.000000  750435.000000  717248.000000   \n",
       "\n",
       "       away_player_9  away_player_10  away_player_11  \n",
       "count   19433.000000    19348.000000    19264.000000  \n",
       "mean   110629.648948   106639.449245   105447.734064  \n",
       "std    116002.144951   112511.966589   110469.160375  \n",
       "min      2625.000000     2802.000000     2802.000000  \n",
       "25%     33421.000000    32572.000000    32748.000000  \n",
       "50%     45860.000000    45174.000000    43097.000000  \n",
       "75%    164089.000000   160194.000000   163205.000000  \n",
       "max    722766.000000   722766.000000   726956.000000  \n",
       "\n",
       "[8 rows x 77 columns]"
      ]
     },
     "execution_count": 7,
     "metadata": {},
     "output_type": "execute_result"
    }
   ],
   "source": [
    "matchsTrain.describe()"
   ]
  },
  {
   "cell_type": "code",
   "execution_count": 8,
   "metadata": {
    "scrolled": true
   },
   "outputs": [
    {
     "data": {
      "text/html": [
       "<div>\n",
       "<style scoped>\n",
       "    .dataframe tbody tr th:only-of-type {\n",
       "        vertical-align: middle;\n",
       "    }\n",
       "\n",
       "    .dataframe tbody tr th {\n",
       "        vertical-align: top;\n",
       "    }\n",
       "\n",
       "    .dataframe thead th {\n",
       "        text-align: right;\n",
       "    }\n",
       "</style>\n",
       "<table border=\"1\" class=\"dataframe\">\n",
       "  <thead>\n",
       "    <tr style=\"text-align: right;\">\n",
       "      <th></th>\n",
       "      <th>Unnamed: 0</th>\n",
       "      <th>index</th>\n",
       "      <th>id</th>\n",
       "      <th>country_id</th>\n",
       "      <th>league_id</th>\n",
       "      <th>season</th>\n",
       "      <th>stage</th>\n",
       "      <th>date</th>\n",
       "      <th>match_api_id</th>\n",
       "      <th>home_team_api_id</th>\n",
       "      <th>...</th>\n",
       "      <th>away_player_2</th>\n",
       "      <th>away_player_3</th>\n",
       "      <th>away_player_4</th>\n",
       "      <th>away_player_5</th>\n",
       "      <th>away_player_6</th>\n",
       "      <th>away_player_7</th>\n",
       "      <th>away_player_8</th>\n",
       "      <th>away_player_9</th>\n",
       "      <th>away_player_10</th>\n",
       "      <th>away_player_11</th>\n",
       "    </tr>\n",
       "  </thead>\n",
       "  <tbody>\n",
       "    <tr>\n",
       "      <th>0</th>\n",
       "      <td>0</td>\n",
       "      <td>0</td>\n",
       "      <td>11103</td>\n",
       "      <td>10257</td>\n",
       "      <td>10257</td>\n",
       "      <td>2010/2011</td>\n",
       "      <td>17</td>\n",
       "      <td>2010-12-19 00:00:00</td>\n",
       "      <td>888326</td>\n",
       "      <td>8533</td>\n",
       "      <td>...</td>\n",
       "      <td>231753.0</td>\n",
       "      <td>24235.0</td>\n",
       "      <td>41884.0</td>\n",
       "      <td>34320.0</td>\n",
       "      <td>31314.0</td>\n",
       "      <td>192574.0</td>\n",
       "      <td>27694.0</td>\n",
       "      <td>39232.0</td>\n",
       "      <td>30712.0</td>\n",
       "      <td>39540.0</td>\n",
       "    </tr>\n",
       "    <tr>\n",
       "      <th>1</th>\n",
       "      <td>1</td>\n",
       "      <td>1</td>\n",
       "      <td>16167</td>\n",
       "      <td>15722</td>\n",
       "      <td>15722</td>\n",
       "      <td>2009/2010</td>\n",
       "      <td>5</td>\n",
       "      <td>2009-08-29 00:00:00</td>\n",
       "      <td>673737</td>\n",
       "      <td>8245</td>\n",
       "      <td>...</td>\n",
       "      <td>13515.0</td>\n",
       "      <td>13533.0</td>\n",
       "      <td>69261.0</td>\n",
       "      <td>NaN</td>\n",
       "      <td>69599.0</td>\n",
       "      <td>NaN</td>\n",
       "      <td>NaN</td>\n",
       "      <td>NaN</td>\n",
       "      <td>NaN</td>\n",
       "      <td>NaN</td>\n",
       "    </tr>\n",
       "    <tr>\n",
       "      <th>2</th>\n",
       "      <td>2</td>\n",
       "      <td>2</td>\n",
       "      <td>11222</td>\n",
       "      <td>10257</td>\n",
       "      <td>10257</td>\n",
       "      <td>2010/2011</td>\n",
       "      <td>28</td>\n",
       "      <td>2011-03-06 00:00:00</td>\n",
       "      <td>888435</td>\n",
       "      <td>9882</td>\n",
       "      <td>...</td>\n",
       "      <td>150466.0</td>\n",
       "      <td>18500.0</td>\n",
       "      <td>25815.0</td>\n",
       "      <td>41380.0</td>\n",
       "      <td>39701.0</td>\n",
       "      <td>39264.0</td>\n",
       "      <td>73999.0</td>\n",
       "      <td>167634.0</td>\n",
       "      <td>39306.0</td>\n",
       "      <td>96598.0</td>\n",
       "    </tr>\n",
       "    <tr>\n",
       "      <th>3</th>\n",
       "      <td>3</td>\n",
       "      <td>3</td>\n",
       "      <td>11018</td>\n",
       "      <td>10257</td>\n",
       "      <td>10257</td>\n",
       "      <td>2010/2011</td>\n",
       "      <td>1</td>\n",
       "      <td>2010-08-29 00:00:00</td>\n",
       "      <td>888161</td>\n",
       "      <td>9976</td>\n",
       "      <td>...</td>\n",
       "      <td>27720.0</td>\n",
       "      <td>24235.0</td>\n",
       "      <td>41884.0</td>\n",
       "      <td>41892.0</td>\n",
       "      <td>31314.0</td>\n",
       "      <td>33888.0</td>\n",
       "      <td>41890.0</td>\n",
       "      <td>39232.0</td>\n",
       "      <td>30727.0</td>\n",
       "      <td>39540.0</td>\n",
       "    </tr>\n",
       "    <tr>\n",
       "      <th>4</th>\n",
       "      <td>4</td>\n",
       "      <td>4</td>\n",
       "      <td>25596</td>\n",
       "      <td>24558</td>\n",
       "      <td>24558</td>\n",
       "      <td>2013/2014</td>\n",
       "      <td>5</td>\n",
       "      <td>2013-08-10 00:00:00</td>\n",
       "      <td>1471657</td>\n",
       "      <td>9930</td>\n",
       "      <td>...</td>\n",
       "      <td>67349.0</td>\n",
       "      <td>16254.0</td>\n",
       "      <td>25815.0</td>\n",
       "      <td>25843.0</td>\n",
       "      <td>93223.0</td>\n",
       "      <td>113227.0</td>\n",
       "      <td>302079.0</td>\n",
       "      <td>30912.0</td>\n",
       "      <td>25860.0</td>\n",
       "      <td>71764.0</td>\n",
       "    </tr>\n",
       "  </tbody>\n",
       "</table>\n",
       "<p>5 rows × 79 columns</p>\n",
       "</div>"
      ],
      "text/plain": [
       "   Unnamed: 0  index     id  country_id  league_id     season  stage  \\\n",
       "0           0      0  11103       10257      10257  2010/2011     17   \n",
       "1           1      1  16167       15722      15722  2009/2010      5   \n",
       "2           2      2  11222       10257      10257  2010/2011     28   \n",
       "3           3      3  11018       10257      10257  2010/2011      1   \n",
       "4           4      4  25596       24558      24558  2013/2014      5   \n",
       "\n",
       "                  date  match_api_id  home_team_api_id  ...  away_player_2  \\\n",
       "0  2010-12-19 00:00:00        888326              8533  ...       231753.0   \n",
       "1  2009-08-29 00:00:00        673737              8245  ...        13515.0   \n",
       "2  2011-03-06 00:00:00        888435              9882  ...       150466.0   \n",
       "3  2010-08-29 00:00:00        888161              9976  ...        27720.0   \n",
       "4  2013-08-10 00:00:00       1471657              9930  ...        67349.0   \n",
       "\n",
       "   away_player_3  away_player_4  away_player_5  away_player_6  away_player_7  \\\n",
       "0        24235.0        41884.0        34320.0        31314.0       192574.0   \n",
       "1        13533.0        69261.0            NaN        69599.0            NaN   \n",
       "2        18500.0        25815.0        41380.0        39701.0        39264.0   \n",
       "3        24235.0        41884.0        41892.0        31314.0        33888.0   \n",
       "4        16254.0        25815.0        25843.0        93223.0       113227.0   \n",
       "\n",
       "   away_player_8  away_player_9  away_player_10  away_player_11  \n",
       "0        27694.0        39232.0         30712.0         39540.0  \n",
       "1            NaN            NaN             NaN             NaN  \n",
       "2        73999.0       167634.0         39306.0         96598.0  \n",
       "3        41890.0        39232.0         30727.0         39540.0  \n",
       "4       302079.0        30912.0         25860.0         71764.0  \n",
       "\n",
       "[5 rows x 79 columns]"
      ]
     },
     "execution_count": 8,
     "metadata": {},
     "output_type": "execute_result"
    }
   ],
   "source": [
    "matchsTrain.head()"
   ]
  },
  {
   "cell_type": "markdown",
   "metadata": {},
   "source": [
    "L'api id représente l'id sur lequel on pourra faire un \"merge\" avec d'autres tables "
   ]
  },
  {
   "cell_type": "markdown",
   "metadata": {},
   "source": [
    "### Conclusions : \n",
    "- Etant données que tous les matchs sont joués entre équipes du même championnat, nous n'allons pas utiliser les tables Country et League\n"
   ]
  },
  {
   "cell_type": "markdown",
   "metadata": {},
   "source": [
    "### Ajout du label"
   ]
  },
  {
   "cell_type": "code",
   "execution_count": 9,
   "metadata": {
    "scrolled": true
   },
   "outputs": [],
   "source": [
    "# Determine the label of the match (0: tie , 1: home team won, -1: home team lost)\n",
    "def det_label(score1, score2):\n",
    "    if(score1 == score2):\n",
    "        return 0\n",
    "    if(score1 < score2):\n",
    "        return -1\n",
    "    else:\n",
    "        return 1\n"
   ]
  },
  {
   "cell_type": "code",
   "execution_count": 10,
   "metadata": {
    "scrolled": true
   },
   "outputs": [],
   "source": [
    "#On va travailler sur une copie du training set\n",
    "matchsTrainCopy = matchsTrain.copy()\n",
    "matchsTrainCopy['label'] = matchsTrainCopy.apply(lambda row: det_label(\n",
    "            row['home_team_goal'], row['away_team_goal']), axis=1)"
   ]
  },
  {
   "cell_type": "code",
   "execution_count": 32,
   "metadata": {
    "scrolled": true
   },
   "outputs": [
    {
     "data": {
      "text/plain": [
       " 1    9367\n",
       "-1    5939\n",
       " 0    5173\n",
       "Name: label, dtype: int64"
      ]
     },
     "execution_count": 32,
     "metadata": {},
     "output_type": "execute_result"
    }
   ],
   "source": [
    "matchsTrainCopy['label'].value_counts()"
   ]
  },
  {
   "cell_type": "markdown",
   "metadata": {},
   "source": [
    "Nous pouvons voir que l'équipe jouant à domicile gagne dans un peu moins de 50% des cas"
   ]
  },
  {
   "cell_type": "markdown",
   "metadata": {},
   "source": [
    "## Exploration des attributes des équipes"
   ]
  },
  {
   "cell_type": "markdown",
   "metadata": {},
   "source": [
    "Pour mieux visualiser les attributs liés aux équipes nous allons drop les attributs liés aux joueurs"
   ]
  },
  {
   "cell_type": "code",
   "execution_count": 16,
   "metadata": {
    "scrolled": true
   },
   "outputs": [],
   "source": [
    "matchsTrainCopy.drop(matchsTrainCopy.select(lambda col: col.startswith('home_player'), axis=1), axis=1, inplace=True)\n",
    "matchsTrainCopy.drop(matchsTrainCopy.select(lambda col: col.startswith('away_player'), axis=1), axis=1, inplace=True)\n",
    "#Suppression des colonnes qui n'ont pas d'importances\n",
    "matchsTrainCopy.drop(['country_id', 'league_id','match_api_id', 'Unnamed: 0'], axis=1, inplace=True)"
   ]
  },
  {
   "cell_type": "code",
   "execution_count": 17,
   "metadata": {
    "scrolled": true
   },
   "outputs": [
    {
     "name": "stdout",
     "output_type": "stream",
     "text": [
      "<class 'pandas.core.frame.DataFrame'>\n",
      "RangeIndex: 20479 entries, 0 to 20478\n",
      "Data columns (total 10 columns):\n",
      "index               20479 non-null int64\n",
      "id                  20479 non-null int64\n",
      "season              20479 non-null object\n",
      "stage               20479 non-null int64\n",
      "date                20479 non-null object\n",
      "home_team_api_id    20479 non-null int64\n",
      "away_team_api_id    20479 non-null int64\n",
      "home_team_goal      20479 non-null int64\n",
      "away_team_goal      20479 non-null int64\n",
      "label               20479 non-null int64\n",
      "dtypes: int64(8), object(2)\n",
      "memory usage: 1.6+ MB\n"
     ]
    }
   ],
   "source": [
    "matchsTrainCopy.info()"
   ]
  },
  {
   "cell_type": "markdown",
   "metadata": {},
   "source": [
    "### Merge du training set avec le team attributes"
   ]
  },
  {
   "cell_type": "code",
   "execution_count": 26,
   "metadata": {
    "scrolled": true
   },
   "outputs": [],
   "source": [
    "mergedDf = matchsTrainCopy.merge(team_attr, left_on='home_team_api_id', right_on='team_api_id')\n",
    "correlation = mergedDf.corrwith(mergedDf['label']).sort_values(ascending=False)"
   ]
  },
  {
   "cell_type": "code",
   "execution_count": 20,
   "metadata": {
    "scrolled": true
   },
   "outputs": [
    {
     "name": "stdout",
     "output_type": "stream",
     "text": [
      "<class 'pandas.core.frame.DataFrame'>\n",
      "Int64Index: 111926 entries, 0 to 111925\n",
      "Data columns (total 36 columns):\n",
      "index                             111926 non-null int64\n",
      "id_x                              111926 non-null int64\n",
      "season                            111926 non-null object\n",
      "stage                             111926 non-null int64\n",
      "date_x                            111926 non-null object\n",
      "home_team_api_id                  111926 non-null int64\n",
      "away_team_api_id                  111926 non-null int64\n",
      "home_team_goal                    111926 non-null int64\n",
      "away_team_goal                    111926 non-null int64\n",
      "label                             111926 non-null int64\n",
      "Unnamed: 0                        111926 non-null int64\n",
      "id_y                              111926 non-null int64\n",
      "team_fifa_api_id                  111926 non-null int64\n",
      "team_api_id                       111926 non-null int64\n",
      "date_y                            111926 non-null object\n",
      "buildUpPlaySpeed                  111926 non-null int64\n",
      "buildUpPlaySpeedClass             111926 non-null object\n",
      "buildUpPlayDribbling              37189 non-null float64\n",
      "buildUpPlayDribblingClass         111926 non-null object\n",
      "buildUpPlayPassing                111926 non-null int64\n",
      "buildUpPlayPassingClass           111926 non-null object\n",
      "buildUpPlayPositioningClass       111926 non-null object\n",
      "chanceCreationPassing             111926 non-null int64\n",
      "chanceCreationPassingClass        111926 non-null object\n",
      "chanceCreationCrossing            111926 non-null int64\n",
      "chanceCreationCrossingClass       111926 non-null object\n",
      "chanceCreationShooting            111926 non-null int64\n",
      "chanceCreationShootingClass       111926 non-null object\n",
      "chanceCreationPositioningClass    111926 non-null object\n",
      "defencePressure                   111926 non-null int64\n",
      "defencePressureClass              111926 non-null object\n",
      "defenceAggression                 111926 non-null int64\n",
      "defenceAggressionClass            111926 non-null object\n",
      "defenceTeamWidth                  111926 non-null int64\n",
      "defenceTeamWidthClass             111926 non-null object\n",
      "defenceDefenderLineClass          111926 non-null object\n",
      "dtypes: float64(1), int64(20), object(15)\n",
      "memory usage: 31.6+ MB\n"
     ]
    }
   ],
   "source": [
    "mergedDf.info()"
   ]
  },
  {
   "cell_type": "code",
   "execution_count": 27,
   "metadata": {
    "scrolled": true
   },
   "outputs": [
    {
     "data": {
      "text/plain": [
       "label                     1.000000\n",
       "home_team_goal            0.620438\n",
       "defencePressure           0.063225\n",
       "chanceCreationShooting    0.035975\n",
       "defenceAggression         0.030697\n",
       "defenceTeamWidth          0.022133\n",
       "chanceCreationPassing     0.019822\n",
       "chanceCreationCrossing    0.016655\n",
       "away_team_api_id          0.016592\n",
       "buildUpPlayDribbling      0.007554\n",
       "index                     0.005943\n",
       "id_x                     -0.000900\n",
       "stage                    -0.002491\n",
       "buildUpPlaySpeed         -0.006341\n",
       "team_api_id              -0.014515\n",
       "home_team_api_id         -0.014515\n",
       "id_y                     -0.026587\n",
       "Unnamed: 0               -0.026587\n",
       "team_fifa_api_id         -0.039668\n",
       "buildUpPlayPassing       -0.065467\n",
       "away_team_goal           -0.630108\n",
       "dtype: float64"
      ]
     },
     "execution_count": 27,
     "metadata": {},
     "output_type": "execute_result"
    }
   ],
   "source": [
    "correlation"
   ]
  },
  {
   "cell_type": "markdown",
   "metadata": {},
   "source": [
    "#### Conclusion : \n",
    "- les deux colonnes qui se disinguent le plus par leurs correlations au label sont la defensePressure et le buildUpPlayPassing"
   ]
  },
  {
   "cell_type": "markdown",
   "metadata": {},
   "source": [
    "### Merge du training set avec le player attributes"
   ]
  },
  {
   "cell_type": "code",
   "execution_count": 28,
   "metadata": {
    "scrolled": true
   },
   "outputs": [],
   "source": [
    "#On va travailler sur une copie du training set\n",
    "matchsTrainCopy = matchsTrain.copy()\n",
    "matchsTrainCopy['label'] = matchsTrainCopy.apply(lambda row: det_label(\n",
    "            row['home_team_goal'], row['away_team_goal']), axis=1)"
   ]
  },
  {
   "cell_type": "code",
   "execution_count": 30,
   "metadata": {
    "scrolled": true
   },
   "outputs": [],
   "source": [
    "player_attr_home = player_attr.select_dtypes(include=['float64', 'int64'])\n",
    "player_attr_away = player_attr.select_dtypes(include=['float64', 'int64'])\n",
    "player_attr_home = player_attr.add_suffix('_home')\n",
    "player_attr_away = player_attr.add_suffix('_away')\n",
    "\n",
    "player_attr_home = player_attr_home.groupby(player_attr_home['player_api_id_home']).mean()\n",
    "player_attr_away = player_attr_away.groupby(player_attr_away['player_api_id_away']).mean()\n",
    "\n",
    "player_attr_home['player_api_id_home'] = player_attr_home.index\n",
    "player_attr_away['player_api_id_away'] = player_attr_away.index\n",
    "\n",
    "\n",
    "matchsTrainCopy = matchsTrainCopy.select_dtypes(include=['float64', 'int64'])\n",
    "\n",
    "mergedDf = matchsTrainCopy.merge(\n",
    "    player_attr_home, left_on='home_player_1', right_index=True)\n",
    "mergedDf = matchsTrainCopy.merge(\n",
    "    player_attr_away, left_on='away_player_1', right_index=True)\n",
    "\n",
    "for i in range(2, 12):\n",
    "    player_attr_home = player_attr.add_suffix('_'+str(i))\n",
    "    player_attr_away = player_attr.add_suffix('_'+str(i))\n",
    "    mergedDf = mergedDf.merge(\n",
    "        player_attr_home, left_on='home_player_'+str(i), right_index=True)\n",
    "    mergedDf = mergedDf.merge(\n",
    "        player_attr_away, left_on='away_player_'+str(i), right_index=True)\n",
    "\n",
    "correlation = mergedDf.corrwith(mergedDf['label']).sort_values(ascending=False)"
   ]
  },
  {
   "cell_type": "code",
   "execution_count": 31,
   "metadata": {
    "scrolled": true
   },
   "outputs": [
    {
     "data": {
      "text/plain": [
       "label                      1.000000\n",
       "home_team_goal             0.611912\n",
       "marking_away               0.073126\n",
       "player_fifa_api_id_away    0.061488\n",
       "home_player_X11            0.061105\n",
       "strength_11_x              0.055515\n",
       "overall_rating_11_x        0.052679\n",
       "home_player_Y9             0.049421\n",
       "crossing_away              0.048339\n",
       "finishing_away             0.048226\n",
       "sliding_tackle_away        0.047102\n",
       "penalties_2_y              0.046931\n",
       "jumping_11_x               0.046804\n",
       "sliding_tackle_10_y        0.046777\n",
       "home_player_Y10            0.045697\n",
       "gk_kicking_11_x            0.045577\n",
       "gk_reflexes_11_x           0.045308\n",
       "away_player_X9             0.044917\n",
       "id_10_y                    0.044691\n",
       "away_player_10             0.044691\n",
       "Unnamed: 0_10_y            0.044691\n",
       "long_shots_away            0.043733\n",
       "jumping_3_x                0.043245\n",
       "standing_tackle_away       0.043108\n",
       "standing_tackle_10_y       0.042946\n",
       "interceptions_7_x          0.041319\n",
       "balance_2_y                0.040768\n",
       "gk_handling_11_x           0.040631\n",
       "gk_diving_11_x             0.040515\n",
       "gk_positioning_11_x        0.040340\n",
       "                             ...   \n",
       "shot_power_2_x            -0.037837\n",
       "away_player_X5            -0.038072\n",
       "away_player_Y10           -0.039035\n",
       "Unnamed: 0_5_x            -0.040134\n",
       "id_5_x                    -0.040134\n",
       "home_player_5             -0.040134\n",
       "home_player_Y11           -0.043221\n",
       "overall_rating_5_x        -0.046167\n",
       "acceleration_4_x          -0.046430\n",
       "long_passing_5_x          -0.048460\n",
       "away_player_X11           -0.050515\n",
       "away_player_Y9            -0.055574\n",
       "home_player_6             -0.056133\n",
       "id_6_x                    -0.056133\n",
       "Unnamed: 0_6_x            -0.056133\n",
       "gk_kicking_away           -0.108190\n",
       "reactions_away            -0.108463\n",
       "gk_reflexes_away          -0.125317\n",
       "gk_diving_away            -0.129762\n",
       "gk_positioning_away       -0.136993\n",
       "gk_handling_away          -0.138483\n",
       "potential_away            -0.140600\n",
       "overall_rating_away       -0.149233\n",
       "away_team_goal            -0.625744\n",
       "away_player_X1                  NaN\n",
       "home_player_Y3                  NaN\n",
       "away_player_Y1                  NaN\n",
       "away_player_Y2                  NaN\n",
       "away_player_Y3                  NaN\n",
       "away_player_Y4                  NaN\n",
       "Length: 897, dtype: float64"
      ]
     },
     "execution_count": 31,
     "metadata": {},
     "output_type": "execute_result"
    }
   ],
   "source": [
    "correlation"
   ]
  },
  {
   "cell_type": "markdown",
   "metadata": {},
   "source": [
    "### Conclusion:\n",
    "- les attributs du gardien de l'équipe à l'extérieur ont une legere correlation inverse sur le label (au plus le gardien a de bons attributs au plus le label sera -1 cad l'équipe à l'extérieur remporte le match)\n",
    "- En générale, il parait logique de se dire que les attributs des joueurs en générale vont affluer sur le resultat final d'un match (au plus une équipe a de bons joueurs par rapport à l'equipe adverse, au plus elle augmentera ses chances de gagner le match "
   ]
  },
  {
   "cell_type": "code",
   "execution_count": null,
   "metadata": {
    "scrolled": true
   },
   "outputs": [],
   "source": []
  }
 ],
 "metadata": {
  "kernelspec": {
   "display_name": "Python 3",
   "language": "python",
   "name": "python3"
  },
  "language_info": {
   "codemirror_mode": {
    "name": "ipython",
    "version": 3
   },
   "file_extension": ".py",
   "mimetype": "text/x-python",
   "name": "python",
   "nbconvert_exporter": "python",
   "pygments_lexer": "ipython3",
   "version": "3.7.3"
  }
 },
 "nbformat": 4,
 "nbformat_minor": 2
}
